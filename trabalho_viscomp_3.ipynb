{
 "cells": [
  {
   "cell_type": "markdown",
   "metadata": {
    "id": "i7WZnPdt_zVT"
   },
   "source": [
    "![image alt ><](https://i1.sndcdn.com/artworks-000058062617-qqgpfp-t500x500.jpg)\n",
    "\n",
    "Incrição no Anel:\n",
    "\n",
    "![Picture](https://upload.wikimedia.org/wikipedia/commons/thumb/2/23/One_Ring_inscription.svg/300px-One_Ring_inscription.svg.png)\n",
    "\n",
    "Em Inglês:\n",
    "\n",
    "One ring to rule them all,\n",
    "   one ring to find them,\n",
    "One ring to bring them all\n",
    "   and in the darkness bind them."
   ]
  },
  {
   "cell_type": "code",
   "execution_count": null,
   "metadata": {
    "id": "YE2JlUR1eAii"
   },
   "outputs": [],
   "source": []
  },
  {
   "cell_type": "code",
   "execution_count": null,
   "metadata": {
    "colab": {
     "base_uri": "https://localhost:8080/"
    },
    "id": "cITn7zp1vhqk",
    "outputId": "95c947f6-c610-4cfc-e4d9-2139c2a4f73f"
   },
   "outputs": [
    {
     "name": "stdout",
     "output_type": "stream",
     "text": [
      "[nltk_data] Downloading package punkt to /root/nltk_data...\n",
      "[nltk_data]   Package punkt is already up-to-date!\n"
     ]
    },
    {
     "data": {
      "text/plain": [
       "True"
      ]
     },
     "execution_count": 19,
     "metadata": {
      "tags": []
     },
     "output_type": "execute_result"
    }
   ],
   "source": [
    "import nltk\n",
    "nltk.download('punkt')"
   ]
  },
  {
   "cell_type": "code",
   "execution_count": null,
   "metadata": {
    "id": "wa6G0H4CcMq8"
   },
   "outputs": [],
   "source": [
    "# carregando as bibliotecas exigidas\n",
    "\n",
    "import voila\n",
    "import csv\n",
    "from colour import Color\n",
    "from ipywidgets import widgets, interact, interactive, fixed, interact_manual\n",
    "import codecs\n",
    "import requests\n",
    "import os\n",
    "import spacy\n",
    "import json\n",
    "import pandas as pd\n",
    "import numpy as np\n",
    "import networkx as nx\n",
    "import plotly.graph_objects as go\n",
    "import matplotlib as plt\n",
    "from tqdm import tqdm\n",
    "from pathlib import Path\n",
    "from afinn import Afinn\n",
    "from nltk.tokenize import sent_tokenize\n",
    "from sklearn.feature_extraction.text import CountVectorizer\n",
    "from IPython.display import display\n",
    "from matplotlib.colors import ListedColormap, LinearSegmentedColormap, Colormap\n"
   ]
  },
  {
   "cell_type": "code",
   "execution_count": null,
   "metadata": {
    "id": "UubOLplDs1_3"
   },
   "outputs": [],
   "source": [
    "def flatten(input_list):\n",
    "    '''\n",
    "    A function to flatten complex list.\n",
    "    :param input_list: The list to be flatten\n",
    "    :return: the flattened list.\n",
    "    '''\n",
    "\n",
    "    flat_list = []\n",
    "    for i in input_list:\n",
    "        if type(i) == list:\n",
    "            flat_list += flatten(i)\n",
    "        else:\n",
    "            flat_list += [i]\n",
    "\n",
    "    return flat_list\n"
   ]
  },
  {
   "cell_type": "code",
   "execution_count": null,
   "metadata": {
    "id": "Tr2PL6Pqd4hE"
   },
   "outputs": [],
   "source": [
    "def common_words():\n",
    "    '''\n",
    "    Lê as common words de um arquivo externo \n",
    "    :path: Onde as common words estão armazenadas.\n",
    "    :return: Um conjunto das palavras comuns.\n",
    "    '''\n",
    "    path = \"https://raw.githubusercontent.com/chicodias/character-network/master/common_words.txt\"\n",
    "    response = requests.get(path)\n",
    "    words = response.text\n",
    "    words = json.loads(words)\n",
    "\n",
    "    return set(words)"
   ]
  },
  {
   "cell_type": "code",
   "execution_count": null,
   "metadata": {
    "id": "woD-r7F4fFt7"
   },
   "outputs": [],
   "source": [
    "# Lendo os livros\n",
    "def read_novel(novel_list):\n",
    "    '''\n",
    "    Função que lê os livros de um dado url\n",
    "    :return: o texto do livro.\n",
    "      \n",
    "    '''\n",
    "\n",
    "    progresso = widgets.IntProgress(\n",
    "    value=0,\n",
    "    min=0,\n",
    "    max=3,\n",
    "    step=1,\n",
    "    description='Carregando: ',\n",
    "    bar_style='success', # 'success', 'info', 'warning', 'danger' or ''\n",
    "    orientation='horizontal'\n",
    "    )\n",
    "    display(progresso)\n",
    "\n",
    "    book_list = novel_list\n",
    "    book_list = [i for i in book_list]\n",
    "    novel = ''\n",
    "    for i in book_list:\n",
    "        response = requests.get(i)\n",
    "        words = response.text\n",
    "        data = words.replace('\\r', ' ').replace('\\n', ' ').replace(\"\\'\", \"'\")\n",
    "        novel += ' ' + data\n",
    "        progresso.value += 1\n",
    "\n",
    "    return novel\n"
   ]
  },
  {
   "cell_type": "code",
   "execution_count": null,
   "metadata": {
    "id": "7scxfV8rUzwI"
   },
   "outputs": [],
   "source": [
    "def name_entity_recognition(sentence):\n",
    "    '''\n",
    "    Uma função que recupera as entidades em uma frase.\n",
    "    :param sentence: a frase para pegar os nomes.\n",
    "    :return: uma lista de entidades mencionadas na frase\n",
    "    '''\n",
    "    \n",
    "    doc = nlp(sentence)\n",
    "    # retrieve person and organization's name from the sentence\n",
    "    name_entity = [x for x in doc.ents if x.label_ in ['PERSON', 'ORG']]\n",
    "    # convert all names to lowercase and remove 's in names\n",
    "    name_entity = [str(x).lower().replace(\"'s\",\"\") for x in name_entity]\n",
    "    # split names into single words ('Harry Potter' -> ['Harry', 'Potter'])\n",
    "    name_entity = [x.split(' ') for x in name_entity]\n",
    "    # flatten the name list\n",
    "    name_entity = flatten(name_entity)\n",
    "    # remove name words that are less than 3 letters to raise recognition accuracy\n",
    "    name_entity = [x for x in name_entity if len(x) >= 3]\n",
    "    # remove name words that are in the set of 4000 common words\n",
    "    name_entity = [x for x in name_entity if x not in words]\n",
    "\n",
    "    return name_entity\n"
   ]
  },
  {
   "cell_type": "code",
   "execution_count": null,
   "metadata": {
    "id": "sK214ytgiTUD"
   },
   "outputs": [],
   "source": [
    "\n",
    "def iterative_NER(sentence_list, threshold_rate=0.0005):\n",
    "    '''\n",
    "    Uma função para executar o NER iterativamente. O propósito dessa função é reconhecer\n",
    "    todos os nomes importantes enquanto reduz os erros de reconhecimento.\n",
    "    :param sentence_list: lista de frases do livro\n",
    "    :param threshold_rate: o limiar de frequencia por frase; podemos remover uma palavra\n",
    "    devido a erros de reconhecimento\n",
    "    :return: conjunto de nomes na trama.\n",
    "    '''\n",
    "\n",
    "    progresso = widgets.IntProgress(\n",
    "    value=0,\n",
    "    min=0,\n",
    "    max=1000,\n",
    "    step=1,\n",
    "    description='NER: ',\n",
    "    bar_style='success', # 'success', 'info', 'warning', 'danger' or ''\n",
    "    orientation='horizontal'\n",
    "    )\n",
    "    display(progresso)\n",
    "\n",
    "\n",
    "    output = []\n",
    "    for i in sentence_list:\n",
    "        progresso.value += 1\n",
    "        name_list = name_entity_recognition(i)\n",
    "        if name_list != []:\n",
    "            output.append(name_list)\n",
    "    output = flatten(output)\n",
    "    print('\\nNER Calculado;')\n",
    "\n",
    "    from collections import Counter\n",
    "\n",
    "    output = Counter(output)\n",
    "    output = [x for x in output if output[x] >= threshold_rate * len(sentence_list)]\n",
    "    \n",
    "    return output\n"
   ]
  },
  {
   "cell_type": "code",
   "execution_count": null,
   "metadata": {
    "id": "4rKk2dMsiY5o"
   },
   "outputs": [],
   "source": [
    "def top_names(name_list, novel, top_num=25):\n",
    "    '''\n",
    "    A function to return the top names in a novel and their frequencies.\n",
    "    :param name_list: the non-duplicate list of names of a novel.\n",
    "    :param novel: the novel text.\n",
    "    :param top_num: the number of names the function finally output.\n",
    "    :return: the list of top names and the list of top names' frequency.\n",
    "    '''\n",
    "\n",
    "    vect = CountVectorizer(vocabulary=name_list, stop_words='english')\n",
    "    name_frequency = vect.fit_transform([novel.lower()])\n",
    "    name_frequency = pd.DataFrame(name_frequency.toarray(), columns=vect.get_feature_names())\n",
    "    name_frequency = name_frequency.T\n",
    "    name_frequency = name_frequency.sort_values(by=0, ascending=False)\n",
    "    name_frequency = name_frequency[0:top_num]\n",
    "    names = list(name_frequency.index)\n",
    "    name_frequency = list(name_frequency[0])\n",
    "\n",
    "    return name_frequency, names\n"
   ]
  },
  {
   "cell_type": "code",
   "execution_count": null,
   "metadata": {
    "id": "u_52f2W0tFEp"
   },
   "outputs": [],
   "source": [
    "\n",
    "def calculate_align_rate(sentence_list):\n",
    "    '''\n",
    "    Função que calcula a taxa de alinhamento sentimental do livro inteiro\n",
    "    :param sentence_list: a lista de frases do livro.\n",
    "    :return: a taxa de alinhamento do livro.\n",
    "    '''\n",
    "    progresso = widgets.IntProgress(\n",
    "    value=0,\n",
    "    min=0,\n",
    "    max=1000,\n",
    "    step=1,\n",
    "    description='Alinhamento:',\n",
    "    bar_style='success', # 'success', 'info', 'warning', 'danger' or ''\n",
    "    orientation='horizontal'\n",
    "    )\n",
    "    display(progresso)\n",
    "\n",
    "    afinn = Afinn()\n",
    "    sentiment_score = []\n",
    "    for x in sentence_list:\n",
    "      sentiment_score.append(afinn.score(x))\n",
    "      progresso.value += 1\n",
    "    align_rate = np.sum(sentiment_score)/len(np.nonzero(sentiment_score)[0]) * -2\n",
    "\n",
    "    return align_rate\n"
   ]
  },
  {
   "cell_type": "code",
   "execution_count": null,
   "metadata": {
    "id": "G6vqHyB9sKSG"
   },
   "outputs": [],
   "source": [
    "def calculate_matrix(name_list, sentence_list, align_rate):\n",
    "    '''\n",
    "    Função que calcula a matriz de co-ocorrência e a matriz de sentimento entre os personagens mais relevantes \n",
    "    :param name_list: lista com os nomes dos maiores personagens\n",
    "    :param sentence_list: lista com as frases no livro.\n",
    "    :param align_rate: taxa de alinhamento sentimental\n",
    "    :return: a matriz de co-occurrencia e a de sentimento.\n",
    "    '''\n",
    "\n",
    "    progresso = widgets.IntProgress(\n",
    "    value=0,\n",
    "    min=0,\n",
    "    max=1000,\n",
    "    step=1,\n",
    "    description='Sentimentos',\n",
    "    bar_style='success', # 'success', 'info', 'warning', 'danger' or ''\n",
    "    orientation='horizontal'\n",
    "    )\n",
    "    display(progresso)\n",
    "\n",
    "\n",
    "    # calculate a sentiment score for each sentence in the novel\n",
    "    afinn = Afinn()\n",
    "    sentiment_score = []\n",
    "    for x in sentence_list:\n",
    "      sentiment_score.append(afinn.score(x))\n",
    "      progresso.value += 1\n",
    "\n",
    "    # calculate occurrence matrix and sentiment matrix among the top characters\n",
    "    name_vect = CountVectorizer(vocabulary=name_list, binary=True)\n",
    "    occurrence_each_sentence = name_vect.fit_transform(sentence_list).toarray()\n",
    "    cooccurrence_matrix = np.dot(occurrence_each_sentence.T, occurrence_each_sentence)\n",
    "    sentiment_matrix = np.dot(occurrence_each_sentence.T, (occurrence_each_sentence.T * sentiment_score).T)\n",
    "    sentiment_matrix += align_rate * cooccurrence_matrix\n",
    "    cooccurrence_matrix = np.tril(cooccurrence_matrix)\n",
    "    sentiment_matrix = np.tril(sentiment_matrix)\n",
    "    # diagonals of the matrices are set to be 0 (co-occurrence of name itself is meaningless)\n",
    "    shape = cooccurrence_matrix.shape[0]\n",
    "    cooccurrence_matrix[[range(shape)], [range(shape)]] = 0\n",
    "    sentiment_matrix[[range(shape)], [range(shape)]] = 0\n",
    "\n",
    "    return cooccurrence_matrix, sentiment_matrix"
   ]
  },
  {
   "cell_type": "code",
   "execution_count": null,
   "metadata": {
    "id": "6z8hFUrnftJm"
   },
   "outputs": [],
   "source": [
    "def matrix_to_edge_list(matrix, mode, name_list):\n",
    "    '''\n",
    "    Function to convert matrix (co-occurrence/sentiment) to edge list of the network graph. It determines the\n",
    "    weight and color of the edges in the network graph.\n",
    "    :param matrix: co-occurrence matrix or sentiment matrix.\n",
    "    :param mode: 'co-occurrence' or 'sentiment'\n",
    "    :param name_list: the list of names of the top characters in the novel.\n",
    "    :return: the edge list with weight and color param.\n",
    "    '''\n",
    "    edge_list = []\n",
    "    shape = matrix.shape[0]\n",
    "    lower_tri_loc = list(zip(*np.where(np.triu(np.ones([shape, shape])) == 0)))\n",
    "    normalized_matrix = matrix / np.max(np.abs(matrix))\n",
    "    if mode == 'co-occurrence':\n",
    "        weight = np.log(2000 * normalized_matrix + 1) * 0.7\n",
    "        color = np.log(2000 * normalized_matrix + 1)/8\n",
    "    if mode == 'sentiment':\n",
    "        weight = np.log(np.abs(1000 * normalized_matrix) + 1) * 0.7\n",
    "        color = 2000 * normalized_matrix/8\n",
    "    for i in lower_tri_loc:\n",
    "        edge_list.append((name_list[i[0]], name_list[i[1]], {'weight': weight[i], 'color': color[i]}))\n",
    "\n",
    "    return edge_list\n",
    "\n",
    "\n",
    "\n",
    "\n",
    "def plot_graph(name_list, name_frequency, matrix, plt_name, mode):\n",
    "    '''\n",
    "    Function to plotly the network graph (co-occurrence network or sentiment network).\n",
    "    :param name_list: the list of top character names in the novel.\n",
    "    :param name_frequency: the list containing the frequencies of the top names.\n",
    "    :param matrix: co-occurrence matrix or sentiment matrix.\n",
    "    :param plt_name: the name of the plot (PNG file) to output.\n",
    "    :param mode: 'co-occurrence' or 'sentiment'\n",
    "    \n",
    "    '''\n",
    "\n",
    "    label = {i: i for i in name_list}\n",
    "    edge_list = matrix_to_edge_list(matrix, mode, name_list)\n",
    "    normalized_frequency = np.array(name_frequency) / np.max(name_frequency)\n",
    "\n",
    "\n",
    "\n",
    "    G = nx.Graph()\n",
    "    G.add_nodes_from(name_list)\n",
    "    G.add_edges_from(edge_list)\n",
    "    pos = nx.circular_layout(G) # da pra alterar o layout do grafo aqui\n",
    "    edges = G.edges()\n",
    "    weights = [G[u][v]['weight'] for u, v in edges]\n",
    "    colors = [G[u][v]['color'] for u, v in edges]\n",
    "\n",
    "    a = [G[u][v]['color'] for u, v in edges]\n",
    "    mm = min(a)\n",
    "    mx = max(a)\n",
    "\n",
    "    traceRecode = []  # contains edge_trace, node_trace, middle_node_trace\n",
    "    ##############################################################################\n",
    "    if mode == 'co-occurrence':\n",
    "      colors = plt.cm.get_cmap('Blues')\n",
    "      #list(Color('darkblue').range_to(Color('lightblue'), len(G.edges())))\n",
    "    elif mode == 'sentiment':\n",
    "      colors = colors = plt.cm.get_cmap('viridis')\n",
    "      #list(Color('yellow').range_to(Color('purple'), len(G.edges())))\n",
    "    #colors = ['rgb' + str(x.rgb) for x in colors]\n",
    "\n",
    "\n",
    "\n",
    "    index = 0\n",
    "    for u,v in G.edges:\n",
    "      x0, y0 = pos[u]\n",
    "      x1, y1 = pos[v]\n",
    "      weight =  G[u][v]['weight']\n",
    "      #text = str(u) + '-' + str(v)\n",
    "      col = G[u][v]['color']\n",
    "      pal = 'rgb' + str(plt.colors.colorConverter.to_rgb(colors(col)))\n",
    "      trace = go.Scatter(x=tuple([x0, x1]), y=tuple([y0, y1]),\n",
    "                          mode='lines',\n",
    "                          line={'width': weight},\n",
    "                          marker=dict(color=pal),\n",
    "                          line_shape='spline',\n",
    "                          hoverinfo = \"text\",\n",
    "                          text = str(u) + '-' + str(v),\n",
    "                          opacity=1)\n",
    "      traceRecode.append(trace)\n",
    "      index = index + 1\n",
    "\n",
    "    node_trace = go.Scatter(x=[], y=[], hovertext=[], text=[], mode='markers+text', textposition=\"bottom center\",\n",
    "                            hoverinfo=\"text\", marker={'size': np.sqrt(normalized_frequency) * 60, 'color': 'SkyBlue'})\n",
    "\n",
    "    index = 0\n",
    "    for node in G.nodes():\n",
    "        x, y = pos[node]\n",
    "        hovertext = \"Entity: \" + str(node)\n",
    "        text = node\n",
    "        node_trace['x'] += tuple([x])\n",
    "        node_trace['y'] += tuple([y])\n",
    "        node_trace['hovertext'] += tuple([hovertext])\n",
    "        node_trace['text'] += tuple([text])\n",
    "        index = index + 1\n",
    "\n",
    "    traceRecode.append(node_trace)\n",
    "\n",
    "    #plot\n",
    "    figure = go.Figure(\n",
    "            data = traceRecode,\n",
    "            layout = go.Layout(title=plt_name, showlegend=True,\n",
    "                                margin={'b': 40, 'l': 40, 'r': 40, 't': 40},\n",
    "                                xaxis={'showgrid': False, 'zeroline': False, 'showticklabels': False},\n",
    "                                yaxis={'showgrid': False, 'zeroline': False, 'showticklabels': False},\n",
    "                                height=600\n",
    "                                )\n",
    "            )\n",
    "\n",
    "    figure.show()"
   ]
  },
  {
   "cell_type": "markdown",
   "metadata": {
    "id": "-Md6id6wmNDy"
   },
   "source": [
    "### Favor Aguardar a análise dos livros.\n",
    "\n"
   ]
  },
  {
   "cell_type": "code",
   "execution_count": null,
   "metadata": {
    "colab": {
     "base_uri": "https://localhost:8080/",
     "height": 134,
     "referenced_widgets": [
      "97c9cc73ad5e4aca83ffd6f5859446bc",
      "1aebef17e0414668ad31352e8e8b608b",
      "bb0e9504a8b74befaac162ef90455e21"
     ]
    },
    "id": "p5oKUjwcBZoX",
    "outputId": "44db493d-0b25-43dc-bc1a-77eebfd2017f"
   },
   "outputs": [
    {
     "data": {
      "application/vnd.jupyter.widget-view+json": {
       "model_id": "97c9cc73ad5e4aca83ffd6f5859446bc",
       "version_major": 2,
       "version_minor": 0
      },
      "text/plain": [
       "IntProgress(value=0, bar_style='success', description='Carregando: ', max=3)"
      ]
     },
     "metadata": {
      "tags": []
     },
     "output_type": "display_data"
    },
    {
     "name": "stdout",
     "output_type": "stream",
     "text": [
      "Livros Carregados;\n",
      "\n",
      "Livros Tokenizados;\n",
      "\n",
      "Taxa de Alinhamento Calculada;\n"
     ]
    }
   ],
   "source": [
    "nlp = spacy.load('en_core_web_sm')\n",
    "novel_list = ['https://github.com/chicodias/tolkien/raw/master/datasets/01%20-%20The%20Fellowship%20Of%20The%20Ring.txt', \n",
    "              'https://github.com/chicodias/tolkien/raw/master/datasets/02%20-%20The%20Two%20Towers.txt',\n",
    "              'https://github.com/chicodias/tolkien/raw/master/datasets/03%20-%20The%20Return%20Of%20The%20King.txt']\n",
    "\n",
    "## carrega as common words\n",
    "words = common_words()\n",
    "\n",
    "## le o livro\n",
    "novel = read_novel(novel_list)\n",
    "print('Livros Carregados;')\n",
    "\n",
    "## carrega o livro em uma lista de sentenças e tokeniza\n",
    "sentence_list = sent_tokenize(novel)\n",
    "print('\\nLivros Tokenizados;')\n",
    "\n",
    "# calcula a taxa de alinhamento\n",
    "align_rate = -0.13462798594150235\n",
    "print('\\nTaxa de Alinhamento Calculada;')\n",
    "\n",
    "#lista preliminar de nomes\n",
    "# preliminary_name_list = iterative_NER(sentence_list)\n",
    "\n",
    "preliminary_name_list = pd.read_csv('preliminary_name_list.csv', header=None).T[0].values"
   ]
  },
  {
   "cell_type": "code",
   "execution_count": null,
   "metadata": {
    "colab": {
     "base_uri": "https://localhost:8080/"
    },
    "id": "ZU2Y3wp2jl25",
    "outputId": "4146a6bc-e993-49c1-ed68-346bc81e4aa3"
   },
   "outputs": [
    {
     "name": "stdout",
     "output_type": "stream",
     "text": [
      "\n",
      "Lista Final pronta;\n",
      "\n",
      "Concluído!\n"
     ]
    }
   ],
   "source": [
    "# lista definitiva\n",
    "\n",
    "name_frequency, name_list = top_names(preliminary_name_list, novel, 20)\n",
    "print('\\nLista Final pronta;')\n",
    "\n",
    "print('\\nConcluído!')"
   ]
  },
  {
   "cell_type": "code",
   "execution_count": null,
   "metadata": {
    "id": "n5FY1OzDI1do"
   },
   "outputs": [],
   "source": [
    "# Bloco utilizado apenas para gerar os arquivos \".csv\"\n",
    "# Não descomentar\n",
    "# align_rate = -0.13462798594150235\n",
    "# with open(\"preliminary_name_list.csv\",\"w\") as csv_file:\n",
    "#   wr = csv.writer(csv_file, quoting=csv.QUOTE_ALL)\n",
    "#    wr.writerow(preliminary_name_list)"
   ]
  },
  {
   "cell_type": "markdown",
   "metadata": {
    "id": "pKKhNQ_Wivys"
   },
   "source": [
    "### Selecione o Livro:"
   ]
  },
  {
   "cell_type": "code",
   "execution_count": null,
   "metadata": {
    "id": "lV8rC0rAyLZJ"
   },
   "outputs": [],
   "source": [
    "# cria as análises conforme os livros selecionados\n",
    "def create_graph(select_book):\n",
    "  name = \"LoR\"\n",
    "\n",
    "  if select_book == 5: # indice 5, exibe todos os livros (Separadamente)\n",
    "    livro = 1\n",
    "    for book in novel_list:\n",
    "        novel = read_novel([book])\n",
    "        sent_list = sent_tokenize(novel)\n",
    "        cooccurrence_matrix, sentiment_matrix = calculate_matrix(name_list, sent_list, align_rate)\n",
    "        plot_graph(name_list, name_frequency, sentiment_matrix, name + ' Grafo de Sentimentos - Livro ' + str(livro), 'sentiment')\n",
    "        plot_graph(name_list, name_frequency, cooccurrence_matrix, name + ' Grafo de Co-ocorrência - Livro ' + str(livro) , 'co-occurrence')\n",
    "        livro += 1\n",
    "\n",
    "  elif select_book == 4: # caso indice 4, exibe todos os livros, que foi calculo anteriormente\n",
    "    cooccurrence_matrix, sentiment_matrix = calculate_matrix(name_list, sentence_list, align_rate)\n",
    "    plot_graph(name_list, name_frequency, sentiment_matrix, name + ' Grafo de Sentimentos - Trama Inteira', 'sentiment')\n",
    "    plot_graph(name_list, name_frequency, cooccurrence_matrix, name + ' Grafo de Co-ocorrência - Trama Inteira', 'co-occurrence')\n",
    "\n",
    "  else: # indices 0, 1 ou 2, exibe apenas o livro selecionado\n",
    "    novel = read_novel([novel_list[select_book]])\n",
    "    sent_list = sent_tokenize(novel)\n",
    "    cooccurrence_matrix, sentiment_matrix = calculate_matrix(name_list, sent_list, align_rate)\n",
    "    plot_graph(name_list, name_frequency, sentiment_matrix, name + ' Grafo de Sentimentos - Livro ' + str(select_book+1), 'sentiment')\n",
    "    plot_graph(name_list, name_frequency, cooccurrence_matrix, name + ' Grafo de Co-ocorrência - Livro ' + str(select_book+1), 'co-occurrence')\n"
   ]
  },
  {
   "cell_type": "code",
   "execution_count": null,
   "metadata": {
    "id": "G3U9OyjcXZNt"
   },
   "outputs": [],
   "source": [
    "selected_book = [('The Fellowship of the Ring', 0), \n",
    "                ('The Two Towers', 1),\n",
    "                ('The Return of the King', 2),\n",
    "                ('Todos os Livros (Trama Inteira)', 4),\n",
    "                ('Todos os Livros (Separadamente)', 5)]"
   ]
  },
  {
   "cell_type": "code",
   "execution_count": null,
   "metadata": {
    "colab": {
     "base_uri": "https://localhost:8080/",
     "height": 1000,
     "referenced_widgets": [
      "115ed037fc31455da9ef97969833b920",
      "8f6317ad20dd4c74b79a6a47e085efc4",
      "35e624c533574da9a14f99dc695fea28",
      "c20f03d71e2e4eecbbe375c74dd3e244",
      "923d4c4812b241b7b3c3e08d9f4494a2",
      "0b087dcf65f64e2b9d6edadf194c0cac",
      "6a4d7c6284f94b53a61fa17d499db316",
      "3874a0c1a9f34690aa6addfbb3a07245",
      "eadd59ba9f71451f89927dfbc6592383",
      "2eaeaba56a1542f2a7e5b6359dcefd13",
      "75349cece89c4e37b20111188a637a9a",
      "bd1ebb90d6b9434aa6e83bcebd5cf3e8",
      "beeaaa6f230248ff80dc761188221dca"
     ]
    },
    "id": "rrbPDiTNRs77",
    "outputId": "dfa7636b-537a-48b7-d776-a9e09e75d008"
   },
   "outputs": [
    {
     "data": {
      "application/vnd.jupyter.widget-view+json": {
       "model_id": "115ed037fc31455da9ef97969833b920",
       "version_major": 2,
       "version_minor": 0
      },
      "text/plain": [
       "interactive(children=(Dropdown(description='select_book', options=(('The Fellowship of the Ring', 0), ('The Tw…"
      ]
     },
     "metadata": {
      "tags": []
     },
     "output_type": "display_data"
    },
    {
     "data": {
      "text/plain": [
       "<function __main__.create_graph>"
      ]
     },
     "execution_count": 186,
     "metadata": {
      "tags": []
     },
     "output_type": "execute_result"
    }
   ],
   "source": [
    "interact(create_graph, select_book=selected_book)"
   ]
  },
  {
   "cell_type": "code",
   "execution_count": null,
   "metadata": {
    "id": "22f_PKBeXzPZ"
   },
   "outputs": [],
   "source": []
  }
 ],
 "metadata": {
  "colab": {
   "collapsed_sections": [],
   "name": "trabalho_viscomp_3.ipynb",
   "provenance": [],
   "toc_visible": true
  },
  "kernelspec": {
   "display_name": "Python 3",
   "language": "python",
   "name": "python3"
  },
  "language_info": {
   "codemirror_mode": {
    "name": "ipython",
    "version": 3
   },
   "file_extension": ".py",
   "mimetype": "text/x-python",
   "name": "python",
   "nbconvert_exporter": "python",
   "pygments_lexer": "ipython3",
   "version": "3.8.5"
  },
  "widgets": {
   "application/vnd.jupyter.widget-state+json": {
    "0b087dcf65f64e2b9d6edadf194c0cac": {
     "model_module": "@jupyter-widgets/base",
     "model_name": "LayoutModel",
     "state": {
      "_model_module": "@jupyter-widgets/base",
      "_model_module_version": "1.2.0",
      "_model_name": "LayoutModel",
      "_view_count": null,
      "_view_module": "@jupyter-widgets/base",
      "_view_module_version": "1.2.0",
      "_view_name": "LayoutView",
      "align_content": null,
      "align_items": null,
      "align_self": null,
      "border": null,
      "bottom": null,
      "display": null,
      "flex": null,
      "flex_flow": null,
      "grid_area": null,
      "grid_auto_columns": null,
      "grid_auto_flow": null,
      "grid_auto_rows": null,
      "grid_column": null,
      "grid_gap": null,
      "grid_row": null,
      "grid_template_areas": null,
      "grid_template_columns": null,
      "grid_template_rows": null,
      "height": null,
      "justify_content": null,
      "justify_items": null,
      "left": null,
      "margin": null,
      "max_height": null,
      "max_width": null,
      "min_height": null,
      "min_width": null,
      "object_fit": null,
      "object_position": null,
      "order": null,
      "overflow": null,
      "overflow_x": null,
      "overflow_y": null,
      "padding": null,
      "right": null,
      "top": null,
      "visibility": null,
      "width": null
     }
    },
    "115ed037fc31455da9ef97969833b920": {
     "model_module": "@jupyter-widgets/controls",
     "model_name": "VBoxModel",
     "state": {
      "_dom_classes": [
       "widget-interact"
      ],
      "_model_module": "@jupyter-widgets/controls",
      "_model_module_version": "1.5.0",
      "_model_name": "VBoxModel",
      "_view_count": null,
      "_view_module": "@jupyter-widgets/controls",
      "_view_module_version": "1.5.0",
      "_view_name": "VBoxView",
      "box_style": "",
      "children": [
       "IPY_MODEL_35e624c533574da9a14f99dc695fea28",
       "IPY_MODEL_c20f03d71e2e4eecbbe375c74dd3e244"
      ],
      "layout": "IPY_MODEL_8f6317ad20dd4c74b79a6a47e085efc4"
     }
    },
    "1aebef17e0414668ad31352e8e8b608b": {
     "model_module": "@jupyter-widgets/controls",
     "model_name": "ProgressStyleModel",
     "state": {
      "_model_module": "@jupyter-widgets/controls",
      "_model_module_version": "1.5.0",
      "_model_name": "ProgressStyleModel",
      "_view_count": null,
      "_view_module": "@jupyter-widgets/base",
      "_view_module_version": "1.2.0",
      "_view_name": "StyleView",
      "bar_color": null,
      "description_width": ""
     }
    },
    "2eaeaba56a1542f2a7e5b6359dcefd13": {
     "model_module": "@jupyter-widgets/base",
     "model_name": "LayoutModel",
     "state": {
      "_model_module": "@jupyter-widgets/base",
      "_model_module_version": "1.2.0",
      "_model_name": "LayoutModel",
      "_view_count": null,
      "_view_module": "@jupyter-widgets/base",
      "_view_module_version": "1.2.0",
      "_view_name": "LayoutView",
      "align_content": null,
      "align_items": null,
      "align_self": null,
      "border": null,
      "bottom": null,
      "display": null,
      "flex": null,
      "flex_flow": null,
      "grid_area": null,
      "grid_auto_columns": null,
      "grid_auto_flow": null,
      "grid_auto_rows": null,
      "grid_column": null,
      "grid_gap": null,
      "grid_row": null,
      "grid_template_areas": null,
      "grid_template_columns": null,
      "grid_template_rows": null,
      "height": null,
      "justify_content": null,
      "justify_items": null,
      "left": null,
      "margin": null,
      "max_height": null,
      "max_width": null,
      "min_height": null,
      "min_width": null,
      "object_fit": null,
      "object_position": null,
      "order": null,
      "overflow": null,
      "overflow_x": null,
      "overflow_y": null,
      "padding": null,
      "right": null,
      "top": null,
      "visibility": null,
      "width": null
     }
    },
    "35e624c533574da9a14f99dc695fea28": {
     "model_module": "@jupyter-widgets/controls",
     "model_name": "DropdownModel",
     "state": {
      "_dom_classes": [],
      "_model_module": "@jupyter-widgets/controls",
      "_model_module_version": "1.5.0",
      "_model_name": "DropdownModel",
      "_options_labels": [
       "The Fellowship of the Ring",
       "The Two Towers",
       "The Return of the King",
       "Todos os Livros (Trama Inteira)",
       "Todos os Livros (Separadamente)"
      ],
      "_view_count": null,
      "_view_module": "@jupyter-widgets/controls",
      "_view_module_version": "1.5.0",
      "_view_name": "DropdownView",
      "description": "select_book",
      "description_tooltip": null,
      "disabled": false,
      "index": 0,
      "layout": "IPY_MODEL_0b087dcf65f64e2b9d6edadf194c0cac",
      "style": "IPY_MODEL_923d4c4812b241b7b3c3e08d9f4494a2"
     }
    },
    "3874a0c1a9f34690aa6addfbb3a07245": {
     "model_module": "@jupyter-widgets/base",
     "model_name": "LayoutModel",
     "state": {
      "_model_module": "@jupyter-widgets/base",
      "_model_module_version": "1.2.0",
      "_model_name": "LayoutModel",
      "_view_count": null,
      "_view_module": "@jupyter-widgets/base",
      "_view_module_version": "1.2.0",
      "_view_name": "LayoutView",
      "align_content": null,
      "align_items": null,
      "align_self": null,
      "border": null,
      "bottom": null,
      "display": null,
      "flex": null,
      "flex_flow": null,
      "grid_area": null,
      "grid_auto_columns": null,
      "grid_auto_flow": null,
      "grid_auto_rows": null,
      "grid_column": null,
      "grid_gap": null,
      "grid_row": null,
      "grid_template_areas": null,
      "grid_template_columns": null,
      "grid_template_rows": null,
      "height": null,
      "justify_content": null,
      "justify_items": null,
      "left": null,
      "margin": null,
      "max_height": null,
      "max_width": null,
      "min_height": null,
      "min_width": null,
      "object_fit": null,
      "object_position": null,
      "order": null,
      "overflow": null,
      "overflow_x": null,
      "overflow_y": null,
      "padding": null,
      "right": null,
      "top": null,
      "visibility": null,
      "width": null
     }
    },
    "6a4d7c6284f94b53a61fa17d499db316": {
     "model_module": "@jupyter-widgets/controls",
     "model_name": "IntProgressModel",
     "state": {
      "_dom_classes": [],
      "_model_module": "@jupyter-widgets/controls",
      "_model_module_version": "1.5.0",
      "_model_name": "IntProgressModel",
      "_view_count": null,
      "_view_module": "@jupyter-widgets/controls",
      "_view_module_version": "1.5.0",
      "_view_name": "ProgressView",
      "bar_style": "success",
      "description": "Carregando: ",
      "description_tooltip": null,
      "layout": "IPY_MODEL_2eaeaba56a1542f2a7e5b6359dcefd13",
      "max": 3,
      "min": 0,
      "orientation": "horizontal",
      "style": "IPY_MODEL_eadd59ba9f71451f89927dfbc6592383",
      "value": 1
     }
    },
    "75349cece89c4e37b20111188a637a9a": {
     "model_module": "@jupyter-widgets/controls",
     "model_name": "IntProgressModel",
     "state": {
      "_dom_classes": [],
      "_model_module": "@jupyter-widgets/controls",
      "_model_module_version": "1.5.0",
      "_model_name": "IntProgressModel",
      "_view_count": null,
      "_view_module": "@jupyter-widgets/controls",
      "_view_module_version": "1.5.0",
      "_view_name": "ProgressView",
      "bar_style": "success",
      "description": "Sentimentos",
      "description_tooltip": null,
      "layout": "IPY_MODEL_beeaaa6f230248ff80dc761188221dca",
      "max": 1000,
      "min": 0,
      "orientation": "horizontal",
      "style": "IPY_MODEL_bd1ebb90d6b9434aa6e83bcebd5cf3e8",
      "value": 1000
     }
    },
    "8f6317ad20dd4c74b79a6a47e085efc4": {
     "model_module": "@jupyter-widgets/base",
     "model_name": "LayoutModel",
     "state": {
      "_model_module": "@jupyter-widgets/base",
      "_model_module_version": "1.2.0",
      "_model_name": "LayoutModel",
      "_view_count": null,
      "_view_module": "@jupyter-widgets/base",
      "_view_module_version": "1.2.0",
      "_view_name": "LayoutView",
      "align_content": null,
      "align_items": null,
      "align_self": null,
      "border": null,
      "bottom": null,
      "display": null,
      "flex": null,
      "flex_flow": null,
      "grid_area": null,
      "grid_auto_columns": null,
      "grid_auto_flow": null,
      "grid_auto_rows": null,
      "grid_column": null,
      "grid_gap": null,
      "grid_row": null,
      "grid_template_areas": null,
      "grid_template_columns": null,
      "grid_template_rows": null,
      "height": null,
      "justify_content": null,
      "justify_items": null,
      "left": null,
      "margin": null,
      "max_height": null,
      "max_width": null,
      "min_height": null,
      "min_width": null,
      "object_fit": null,
      "object_position": null,
      "order": null,
      "overflow": null,
      "overflow_x": null,
      "overflow_y": null,
      "padding": null,
      "right": null,
      "top": null,
      "visibility": null,
      "width": null
     }
    },
    "923d4c4812b241b7b3c3e08d9f4494a2": {
     "model_module": "@jupyter-widgets/controls",
     "model_name": "DescriptionStyleModel",
     "state": {
      "_model_module": "@jupyter-widgets/controls",
      "_model_module_version": "1.5.0",
      "_model_name": "DescriptionStyleModel",
      "_view_count": null,
      "_view_module": "@jupyter-widgets/base",
      "_view_module_version": "1.2.0",
      "_view_name": "StyleView",
      "description_width": ""
     }
    },
    "97c9cc73ad5e4aca83ffd6f5859446bc": {
     "model_module": "@jupyter-widgets/controls",
     "model_name": "IntProgressModel",
     "state": {
      "_dom_classes": [],
      "_model_module": "@jupyter-widgets/controls",
      "_model_module_version": "1.5.0",
      "_model_name": "IntProgressModel",
      "_view_count": null,
      "_view_module": "@jupyter-widgets/controls",
      "_view_module_version": "1.5.0",
      "_view_name": "ProgressView",
      "bar_style": "success",
      "description": "Carregando: ",
      "description_tooltip": null,
      "layout": "IPY_MODEL_bb0e9504a8b74befaac162ef90455e21",
      "max": 3,
      "min": 0,
      "orientation": "horizontal",
      "style": "IPY_MODEL_1aebef17e0414668ad31352e8e8b608b",
      "value": 3
     }
    },
    "bb0e9504a8b74befaac162ef90455e21": {
     "model_module": "@jupyter-widgets/base",
     "model_name": "LayoutModel",
     "state": {
      "_model_module": "@jupyter-widgets/base",
      "_model_module_version": "1.2.0",
      "_model_name": "LayoutModel",
      "_view_count": null,
      "_view_module": "@jupyter-widgets/base",
      "_view_module_version": "1.2.0",
      "_view_name": "LayoutView",
      "align_content": null,
      "align_items": null,
      "align_self": null,
      "border": null,
      "bottom": null,
      "display": null,
      "flex": null,
      "flex_flow": null,
      "grid_area": null,
      "grid_auto_columns": null,
      "grid_auto_flow": null,
      "grid_auto_rows": null,
      "grid_column": null,
      "grid_gap": null,
      "grid_row": null,
      "grid_template_areas": null,
      "grid_template_columns": null,
      "grid_template_rows": null,
      "height": null,
      "justify_content": null,
      "justify_items": null,
      "left": null,
      "margin": null,
      "max_height": null,
      "max_width": null,
      "min_height": null,
      "min_width": null,
      "object_fit": null,
      "object_position": null,
      "order": null,
      "overflow": null,
      "overflow_x": null,
      "overflow_y": null,
      "padding": null,
      "right": null,
      "top": null,
      "visibility": null,
      "width": null
     }
    },
    "bd1ebb90d6b9434aa6e83bcebd5cf3e8": {
     "model_module": "@jupyter-widgets/controls",
     "model_name": "ProgressStyleModel",
     "state": {
      "_model_module": "@jupyter-widgets/controls",
      "_model_module_version": "1.5.0",
      "_model_name": "ProgressStyleModel",
      "_view_count": null,
      "_view_module": "@jupyter-widgets/base",
      "_view_module_version": "1.2.0",
      "_view_name": "StyleView",
      "bar_color": null,
      "description_width": ""
     }
    },
    "beeaaa6f230248ff80dc761188221dca": {
     "model_module": "@jupyter-widgets/base",
     "model_name": "LayoutModel",
     "state": {
      "_model_module": "@jupyter-widgets/base",
      "_model_module_version": "1.2.0",
      "_model_name": "LayoutModel",
      "_view_count": null,
      "_view_module": "@jupyter-widgets/base",
      "_view_module_version": "1.2.0",
      "_view_name": "LayoutView",
      "align_content": null,
      "align_items": null,
      "align_self": null,
      "border": null,
      "bottom": null,
      "display": null,
      "flex": null,
      "flex_flow": null,
      "grid_area": null,
      "grid_auto_columns": null,
      "grid_auto_flow": null,
      "grid_auto_rows": null,
      "grid_column": null,
      "grid_gap": null,
      "grid_row": null,
      "grid_template_areas": null,
      "grid_template_columns": null,
      "grid_template_rows": null,
      "height": null,
      "justify_content": null,
      "justify_items": null,
      "left": null,
      "margin": null,
      "max_height": null,
      "max_width": null,
      "min_height": null,
      "min_width": null,
      "object_fit": null,
      "object_position": null,
      "order": null,
      "overflow": null,
      "overflow_x": null,
      "overflow_y": null,
      "padding": null,
      "right": null,
      "top": null,
      "visibility": null,
      "width": null
     }
    },
    "c20f03d71e2e4eecbbe375c74dd3e244": {
     "model_module": "@jupyter-widgets/output",
     "model_name": "OutputModel",
     "state": {
      "_dom_classes": [],
      "_model_module": "@jupyter-widgets/output",
      "_model_module_version": "1.0.0",
      "_model_name": "OutputModel",
      "_view_count": null,
      "_view_module": "@jupyter-widgets/output",
      "_view_module_version": "1.0.0",
      "_view_name": "OutputView",
      "layout": "IPY_MODEL_3874a0c1a9f34690aa6addfbb3a07245",
      "msg_id": "",
      "outputs": [
       {
        "application/vnd.jupyter.widget-view+json": {
         "model_id": "6a4d7c6284f94b53a61fa17d499db316",
         "version_major": 2,
         "version_minor": 0
        },
        "metadata": {
         "tags": []
        },
        "output_type": "display_data",
        "text/plain": "IntProgress(value=0, bar_style='success', description='Carregando: ', max=3)"
       },
       {
        "application/vnd.jupyter.widget-view+json": {
         "model_id": "75349cece89c4e37b20111188a637a9a",
         "version_major": 2,
         "version_minor": 0
        },
        "metadata": {
         "tags": []
        },
        "output_type": "display_data",
        "text/plain": "IntProgress(value=0, bar_style='success', description='Sentimentos', max=1000)"
       },
       {
        "metadata": {
         "tags": []
        },
        "output_type": "display_data",
        "text/html": "<html>\n<head><meta charset=\"utf-8\" /></head>\n<body>\n    <div>\n            <script src=\"https://cdnjs.cloudflare.com/ajax/libs/mathjax/2.7.5/MathJax.js?config=TeX-AMS-MML_SVG\"></script><script type=\"text/javascript\">if (window.MathJax) {MathJax.Hub.Config({SVG: {font: \"STIX-Web\"}});}</script>\n                <script type=\"text/javascript\">window.PlotlyConfig = {MathJaxConfig: 'local'};</script>\n        <script src=\"https://cdn.plot.ly/plotly-latest.min.js\"></script>    \n            <div id=\"555107ce-2543-4b67-bb9e-45f5c0262406\" class=\"plotly-graph-div\" style=\"height:600px; width:100%;\"></div>\n            <script type=\"text/javascript\">\n                \n                    window.PLOTLYENV=window.PLOTLYENV || {};\n                    \n                if (document.getElementById(\"555107ce-2543-4b67-bb9e-45f5c0262406\")) {\n                    Plotly.newPlot(\n                        '555107ce-2543-4b67-bb9e-45f5c0262406',\n                        [{\"hoverinfo\": \"text\", \"line\": {\"shape\": \"spline\", \"width\": 3.065236601707713}, \"marker\": {\"color\": \"rgb(0.993248, 0.906157, 0.143936)\"}, \"mode\": \"lines\", \"opacity\": 1, \"text\": \"frodo-sam\", \"type\": \"scatter\", \"x\": [0.9999999808269097, 0.9510565217825223], \"y\": [1.9272299651099908e-08, 0.30901701589938146]}, {\"hoverinfo\": \"text\", \"line\": {\"shape\": \"spline\", \"width\": 3.0572410528849305}, \"marker\": {\"color\": \"rgb(0.267004, 0.004874, 0.329415)\"}, \"mode\": \"lines\", \"opacity\": 1, \"text\": \"frodo-gandalf\", \"type\": \"scatter\", \"x\": [0.9999999808269097, 0.8090169870901412], \"y\": [1.9272299651099908e-08, 0.5877852519323634]}, {\"hoverinfo\": \"text\", \"line\": {\"shape\": \"spline\", \"width\": 2.5350822884460182}, \"marker\": {\"color\": \"rgb(0.993248, 0.906157, 0.143936)\"}, \"mode\": \"lines\", \"opacity\": 1, \"text\": \"frodo-aragorn\", \"type\": \"scatter\", \"x\": [0.9999999808269097, 0.5877852327592731], \"y\": [1.9272299651099908e-08, 0.8090170062632316]}, {\"hoverinfo\": \"text\", \"line\": {\"shape\": \"spline\", \"width\": 3.771120191366883}, \"marker\": {\"color\": \"rgb(0.993248, 0.906157, 0.143936)\"}, \"mode\": \"lines\", \"opacity\": 1, \"text\": \"frodo-pippin\", \"type\": \"scatter\", \"x\": [0.9999999808269097, 0.30901696692396924], \"y\": [1.9272299651099908e-08, 0.9510565409556127]}, {\"hoverinfo\": \"text\", \"line\": {\"shape\": \"spline\", \"width\": 4.468355723905626}, \"marker\": {\"color\": \"rgb(0.993248, 0.906157, 0.143936)\"}, \"mode\": \"lines\", \"opacity\": 1, \"text\": \"frodo-merry\", \"type\": \"scatter\", \"x\": [0.9999999808269097, -4.3612178183203966e-08], \"y\": [1.9272299651099908e-08, 1.0]}, {\"hoverinfo\": \"text\", \"line\": {\"shape\": \"spline\", \"width\": 2.1373731881584335}, \"marker\": {\"color\": \"rgb(0.267004, 0.004874, 0.329415)\"}, \"mode\": \"lines\", \"opacity\": 1, \"text\": \"frodo-gollum\", \"type\": \"scatter\", \"x\": [0.9999999808269097, -0.30901702633019434], \"y\": [1.9272299651099908e-08, 0.951056481350969]}, {\"hoverinfo\": \"text\", \"line\": {\"shape\": \"spline\", \"width\": 2.0794311790693487}, \"marker\": {\"color\": \"rgb(0.993248, 0.906157, 0.143936)\"}, \"mode\": \"lines\", \"opacity\": 1, \"text\": \"frodo-gimli\", \"type\": \"scatter\", \"x\": [0.9999999808269097, -0.5877851729562108], \"y\": [1.9272299651099908e-08, 0.8090170062632316]}, {\"hoverinfo\": \"text\", \"line\": {\"shape\": \"spline\", \"width\": 2.9359504727722476}, \"marker\": {\"color\": \"rgb(0.267004, 0.004874, 0.329415)\"}, \"mode\": \"lines\", \"opacity\": 1, \"text\": \"frodo-grey\", \"type\": \"scatter\", \"x\": [0.9999999808269097, -0.8090170464963663], \"y\": [1.9272299651099908e-08, 0.5877851923277198]}, {\"hoverinfo\": \"text\", \"line\": {\"shape\": \"spline\", \"width\": 4.032464083200535}, \"marker\": {\"color\": \"rgb(0.993248, 0.906157, 0.143936)\"}, \"mode\": \"lines\", \"opacity\": 1, \"text\": \"frodo-bilbo\", \"type\": \"scatter\", \"x\": [0.9999999808269097, -0.95105646197946], \"y\": [1.9272299651099908e-08, 0.30901704570170324]}, {\"hoverinfo\": \"text\", \"line\": {\"shape\": \"spline\", \"width\": 2.453203620950145}, \"marker\": {\"color\": \"rgb(0.993248, 0.906157, 0.143936)\"}, \"mode\": \"lines\", \"opacity\": 1, \"text\": \"frodo-legolas\", \"type\": \"scatter\", \"x\": [0.9999999808269097, -0.999999980628491], \"y\": [1.9272299651099908e-08, -6.8150475237538e-08]}, {\"hoverinfo\": \"text\", \"line\": {\"shape\": \"spline\", \"width\": 0.0}, \"marker\": {\"color\": \"rgb(0.267004, 0.004874, 0.329415)\"}, \"mode\": \"lines\", \"opacity\": 1, \"text\": \"frodo-faramir\", \"type\": \"scatter\", \"x\": [0.9999999808269097, -0.9510565215841037], \"y\": [1.9272299651099908e-08, -0.3090169475524603]}, {\"hoverinfo\": \"text\", \"line\": {\"shape\": \"spline\", \"width\": 2.0222966473293567}, \"marker\": {\"color\": \"rgb(0.267004, 0.004874, 0.329415)\"}, \"mode\": \"lines\", \"opacity\": 1, \"text\": \"frodo-saruman\", \"type\": \"scatter\", \"x\": [0.9999999808269097, -0.8090169272870791], \"y\": [1.9272299651099908e-08, -0.5877853325970515]}, {\"hoverinfo\": \"text\", \"line\": {\"shape\": \"spline\", \"width\": 1.9728872390937378}, \"marker\": {\"color\": \"rgb(0.993248, 0.906157, 0.143936)\"}, \"mode\": \"lines\", \"opacity\": 1, \"text\": \"frodo-boromir\", \"type\": \"scatter\", \"x\": [0.9999999808269097, -0.5877850537469236], \"y\": [1.9272299651099908e-08, -0.8090170869279196]}, {\"hoverinfo\": \"text\", \"line\": {\"shape\": \"spline\", \"width\": 3.258752068509341}, \"marker\": {\"color\": \"rgb(0.267004, 0.004874, 0.329415)\"}, \"mode\": \"lines\", \"opacity\": 1, \"text\": \"frodo-strider\", \"type\": \"scatter\", \"x\": [0.9999999808269097, -0.30901708593483795], \"y\": [1.9272299651099908e-08, -0.9510564428063698]}, {\"hoverinfo\": \"text\", \"line\": {\"shape\": \"spline\", \"width\": 2.3857205043715313}, \"marker\": {\"color\": \"rgb(0.267004, 0.004874, 0.329415)\"}, \"mode\": \"lines\", \"opacity\": 1, \"text\": \"frodo-mordor\", \"type\": \"scatter\", \"x\": [0.9999999808269097, 1.2024089669798168e-08], \"y\": [1.9272299651099908e-08, -0.9999999614554007]}, {\"hoverinfo\": \"text\", \"line\": {\"shape\": \"spline\", \"width\": 1.61341225714811}, \"marker\": {\"color\": \"rgb(0.267004, 0.004874, 0.329415)\"}, \"mode\": \"lines\", \"opacity\": 1, \"text\": \"frodo-rohan\", \"type\": \"scatter\", \"x\": [0.9999999808269097, 0.3090171159355783], \"y\": [1.9272299651099908e-08, -0.9510564428063698]}, {\"hoverinfo\": \"text\", \"line\": {\"shape\": \"spline\", \"width\": 2.911284004387389}, \"marker\": {\"color\": \"rgb(0.993248, 0.906157, 0.143936)\"}, \"mode\": \"lines\", \"opacity\": 1, \"text\": \"frodo-elrond\", \"type\": \"scatter\", \"x\": [0.9999999808269097, 0.5877850539453422], \"y\": [1.9272299651099908e-08, -0.8090170869279196]}, {\"hoverinfo\": \"text\", \"line\": {\"shape\": \"spline\", \"width\": 0.0}, \"marker\": {\"color\": \"rgb(0.267004, 0.004874, 0.329415)\"}, \"mode\": \"lines\", \"opacity\": 1, \"text\": \"frodo-treebeard\", \"type\": \"scatter\", \"x\": [0.9999999808269097, 0.8090169274854976], \"y\": [1.9272299651099908e-08, -0.5877852729924078]}, {\"hoverinfo\": \"text\", \"line\": {\"shape\": \"spline\", \"width\": 0.0}, \"marker\": {\"color\": \"rgb(0.267004, 0.004874, 0.329415)\"}, \"mode\": \"lines\", \"opacity\": 1, \"text\": \"frodo-isengard\", \"type\": \"scatter\", \"x\": [0.9999999808269097, 0.9510565217825223], \"y\": [1.9272299651099908e-08, -0.3090169177501385]}, {\"hoverinfo\": \"text\", \"line\": {\"shape\": \"spline\", \"width\": 2.186140750274775}, \"marker\": {\"color\": \"rgb(0.993248, 0.906157, 0.143936)\"}, \"mode\": \"lines\", \"opacity\": 1, \"text\": \"sam-gandalf\", \"type\": \"scatter\", \"x\": [0.9510565217825223, 0.8090169870901412], \"y\": [0.30901701589938146, 0.5877852519323634]}, {\"hoverinfo\": \"text\", \"line\": {\"shape\": \"spline\", \"width\": 2.5464550765207696}, \"marker\": {\"color\": \"rgb(0.993248, 0.906157, 0.143936)\"}, \"mode\": \"lines\", \"opacity\": 1, \"text\": \"sam-aragorn\", \"type\": \"scatter\", \"x\": [0.9510565217825223, 0.5877852327592731], \"y\": [0.30901701589938146, 0.8090170062632316]}, {\"hoverinfo\": \"text\", \"line\": {\"shape\": \"spline\", \"width\": 4.12751523920866}, \"marker\": {\"color\": \"rgb(0.993248, 0.906157, 0.143936)\"}, \"mode\": \"lines\", \"opacity\": 1, \"text\": \"sam-pippin\", \"type\": \"scatter\", \"x\": [0.9510565217825223, 0.30901696692396924], \"y\": [0.30901701589938146, 0.9510565409556127]}, {\"hoverinfo\": \"text\", \"line\": {\"shape\": \"spline\", \"width\": 4.371738660565548}, \"marker\": {\"color\": \"rgb(0.993248, 0.906157, 0.143936)\"}, \"mode\": \"lines\", \"opacity\": 1, \"text\": \"sam-merry\", \"type\": \"scatter\", \"x\": [0.9510565217825223, -4.3612178183203966e-08], \"y\": [0.30901701589938146, 1.0]}, {\"hoverinfo\": \"text\", \"line\": {\"shape\": \"spline\", \"width\": 0.0}, \"marker\": {\"color\": \"rgb(0.267004, 0.004874, 0.329415)\"}, \"mode\": \"lines\", \"opacity\": 1, \"text\": \"sam-gollum\", \"type\": \"scatter\", \"x\": [0.9510565217825223, -0.30901702633019434], \"y\": [0.30901701589938146, 0.951056481350969]}, {\"hoverinfo\": \"text\", \"line\": {\"shape\": \"spline\", \"width\": 1.2232829020374014}, \"marker\": {\"color\": \"rgb(0.993248, 0.906157, 0.143936)\"}, \"mode\": \"lines\", \"opacity\": 1, \"text\": \"sam-gimli\", \"type\": \"scatter\", \"x\": [0.9510565217825223, -0.5877851729562108], \"y\": [0.30901701589938146, 0.8090170062632316]}, {\"hoverinfo\": \"text\", \"line\": {\"shape\": \"spline\", \"width\": 0.0}, \"marker\": {\"color\": \"rgb(0.267004, 0.004874, 0.329415)\"}, \"mode\": \"lines\", \"opacity\": 1, \"text\": \"sam-grey\", \"type\": \"scatter\", \"x\": [0.9510565217825223, -0.8090170464963663], \"y\": [0.30901701589938146, 0.5877851923277198]}, {\"hoverinfo\": \"text\", \"line\": {\"shape\": \"spline\", \"width\": 2.7418042169786956}, \"marker\": {\"color\": \"rgb(0.993248, 0.906157, 0.143936)\"}, \"mode\": \"lines\", \"opacity\": 1, \"text\": \"sam-bilbo\", \"type\": \"scatter\", \"x\": [0.9510565217825223, -0.95105646197946], \"y\": [0.30901701589938146, 0.30901704570170324]}, {\"hoverinfo\": \"text\", \"line\": {\"shape\": \"spline\", \"width\": 2.1523466213353215}, \"marker\": {\"color\": \"rgb(0.993248, 0.906157, 0.143936)\"}, \"mode\": \"lines\", \"opacity\": 1, \"text\": \"sam-legolas\", \"type\": \"scatter\", \"x\": [0.9510565217825223, -0.999999980628491], \"y\": [0.30901701589938146, -6.8150475237538e-08]}, {\"hoverinfo\": \"text\", \"line\": {\"shape\": \"spline\", \"width\": 0.0}, \"marker\": {\"color\": \"rgb(0.267004, 0.004874, 0.329415)\"}, \"mode\": \"lines\", \"opacity\": 1, \"text\": \"sam-faramir\", \"type\": \"scatter\", \"x\": [0.9510565217825223, -0.9510565215841037], \"y\": [0.30901701589938146, -0.3090169475524603]}, {\"hoverinfo\": \"text\", \"line\": {\"shape\": \"spline\", \"width\": 0.0}, \"marker\": {\"color\": \"rgb(0.267004, 0.004874, 0.329415)\"}, \"mode\": \"lines\", \"opacity\": 1, \"text\": \"sam-saruman\", \"type\": \"scatter\", \"x\": [0.9510565217825223, -0.8090169272870791], \"y\": [0.30901701589938146, -0.5877853325970515]}, {\"hoverinfo\": \"text\", \"line\": {\"shape\": \"spline\", \"width\": 2.1168378751685557}, \"marker\": {\"color\": \"rgb(0.993248, 0.906157, 0.143936)\"}, \"mode\": \"lines\", \"opacity\": 1, \"text\": \"sam-boromir\", \"type\": \"scatter\", \"x\": [0.9510565217825223, -0.5877850537469236], \"y\": [0.30901701589938146, -0.8090170869279196]}, {\"hoverinfo\": \"text\", \"line\": {\"shape\": \"spline\", \"width\": 3.1534529817223946}, \"marker\": {\"color\": \"rgb(0.993248, 0.906157, 0.143936)\"}, \"mode\": \"lines\", \"opacity\": 1, \"text\": \"sam-strider\", \"type\": \"scatter\", \"x\": [0.9510565217825223, -0.30901708593483795], \"y\": [0.30901701589938146, -0.9510564428063698]}, {\"hoverinfo\": \"text\", \"line\": {\"shape\": \"spline\", \"width\": 0.5094884053709958}, \"marker\": {\"color\": \"rgb(0.267004, 0.004874, 0.329415)\"}, \"mode\": \"lines\", \"opacity\": 1, \"text\": \"sam-mordor\", \"type\": \"scatter\", \"x\": [0.9510565217825223, 1.2024089669798168e-08], \"y\": [0.30901701589938146, -0.9999999614554007]}, {\"hoverinfo\": \"text\", \"line\": {\"shape\": \"spline\", \"width\": 0.0}, \"marker\": {\"color\": \"rgb(0.267004, 0.004874, 0.329415)\"}, \"mode\": \"lines\", \"opacity\": 1, \"text\": \"sam-rohan\", \"type\": \"scatter\", \"x\": [0.9510565217825223, 0.3090171159355783], \"y\": [0.30901701589938146, -0.9510564428063698]}, {\"hoverinfo\": \"text\", \"line\": {\"shape\": \"spline\", \"width\": 1.4451816765732632}, \"marker\": {\"color\": \"rgb(0.993248, 0.906157, 0.143936)\"}, \"mode\": \"lines\", \"opacity\": 1, \"text\": \"sam-elrond\", \"type\": \"scatter\", \"x\": [0.9510565217825223, 0.5877850539453422], \"y\": [0.30901701589938146, -0.8090170869279196]}, {\"hoverinfo\": \"text\", \"line\": {\"shape\": \"spline\", \"width\": 0.0}, \"marker\": {\"color\": \"rgb(0.267004, 0.004874, 0.329415)\"}, \"mode\": \"lines\", \"opacity\": 1, \"text\": \"sam-treebeard\", \"type\": \"scatter\", \"x\": [0.9510565217825223, 0.8090169274854976], \"y\": [0.30901701589938146, -0.5877852729924078]}, {\"hoverinfo\": \"text\", \"line\": {\"shape\": \"spline\", \"width\": 0.0}, \"marker\": {\"color\": \"rgb(0.267004, 0.004874, 0.329415)\"}, \"mode\": \"lines\", \"opacity\": 1, \"text\": \"sam-isengard\", \"type\": \"scatter\", \"x\": [0.9510565217825223, 0.9510565217825223], \"y\": [0.30901701589938146, -0.3090169177501385]}, {\"hoverinfo\": \"text\", \"line\": {\"shape\": \"spline\", \"width\": 1.6549342895235377}, \"marker\": {\"color\": \"rgb(0.267004, 0.004874, 0.329415)\"}, \"mode\": \"lines\", \"opacity\": 1, \"text\": \"gandalf-aragorn\", \"type\": \"scatter\", \"x\": [0.8090169870901412, 0.5877852327592731], \"y\": [0.5877852519323634, 0.8090170062632316]}, {\"hoverinfo\": \"text\", \"line\": {\"shape\": \"spline\", \"width\": 3.09422053211164}, \"marker\": {\"color\": \"rgb(0.993248, 0.906157, 0.143936)\"}, \"mode\": \"lines\", \"opacity\": 1, \"text\": \"gandalf-pippin\", \"type\": \"scatter\", \"x\": [0.8090169870901412, 0.30901696692396924], \"y\": [0.5877852519323634, 0.9510565409556127]}, {\"hoverinfo\": \"text\", \"line\": {\"shape\": \"spline\", \"width\": 3.1120239807515504}, \"marker\": {\"color\": \"rgb(0.993248, 0.906157, 0.143936)\"}, \"mode\": \"lines\", \"opacity\": 1, \"text\": \"gandalf-merry\", \"type\": \"scatter\", \"x\": [0.8090169870901412, -4.3612178183203966e-08], \"y\": [0.5877852519323634, 1.0]}, {\"hoverinfo\": \"text\", \"line\": {\"shape\": \"spline\", \"width\": 1.9335130061515513}, \"marker\": {\"color\": \"rgb(0.993248, 0.906157, 0.143936)\"}, \"mode\": \"lines\", \"opacity\": 1, \"text\": \"gandalf-gollum\", \"type\": \"scatter\", \"x\": [0.8090169870901412, -0.30901702633019434], \"y\": [0.5877852519323634, 0.951056481350969]}, {\"hoverinfo\": \"text\", \"line\": {\"shape\": \"spline\", \"width\": 2.621190046794864}, \"marker\": {\"color\": \"rgb(0.993248, 0.906157, 0.143936)\"}, \"mode\": \"lines\", \"opacity\": 1, \"text\": \"gandalf-gimli\", \"type\": \"scatter\", \"x\": [0.8090169870901412, -0.5877851729562108], \"y\": [0.5877852519323634, 0.8090170062632316]}, {\"hoverinfo\": \"text\", \"line\": {\"shape\": \"spline\", \"width\": 2.1573232035000416}, \"marker\": {\"color\": \"rgb(0.267004, 0.004874, 0.329415)\"}, \"mode\": \"lines\", \"opacity\": 1, \"text\": \"gandalf-grey\", \"type\": \"scatter\", \"x\": [0.8090169870901412, -0.8090170464963663], \"y\": [0.5877852519323634, 0.5877851923277198]}, {\"hoverinfo\": \"text\", \"line\": {\"shape\": \"spline\", \"width\": 2.5147492707677586}, \"marker\": {\"color\": \"rgb(0.993248, 0.906157, 0.143936)\"}, \"mode\": \"lines\", \"opacity\": 1, \"text\": \"gandalf-bilbo\", \"type\": \"scatter\", \"x\": [0.8090169870901412, -0.95105646197946], \"y\": [0.5877852519323634, 0.30901704570170324]}, {\"hoverinfo\": \"text\", \"line\": {\"shape\": \"spline\", \"width\": 1.4451816765732632}, \"marker\": {\"color\": \"rgb(0.993248, 0.906157, 0.143936)\"}, \"mode\": \"lines\", \"opacity\": 1, \"text\": \"gandalf-legolas\", \"type\": \"scatter\", \"x\": [0.8090169870901412, -0.999999980628491], \"y\": [0.5877852519323634, -6.8150475237538e-08]}, {\"hoverinfo\": \"text\", \"line\": {\"shape\": \"spline\", \"width\": 0.0}, \"marker\": {\"color\": \"rgb(0.267004, 0.004874, 0.329415)\"}, \"mode\": \"lines\", \"opacity\": 1, \"text\": \"gandalf-faramir\", \"type\": \"scatter\", \"x\": [0.8090169870901412, -0.9510565215841037], \"y\": [0.5877852519323634, -0.3090169475524603]}, {\"hoverinfo\": \"text\", \"line\": {\"shape\": \"spline\", \"width\": 1.6844532054454127}, \"marker\": {\"color\": \"rgb(0.267004, 0.004874, 0.329415)\"}, \"mode\": \"lines\", \"opacity\": 1, \"text\": \"gandalf-saruman\", \"type\": \"scatter\", \"x\": [0.8090169870901412, -0.8090169272870791], \"y\": [0.5877852519323634, -0.5877853325970515]}, {\"hoverinfo\": \"text\", \"line\": {\"shape\": \"spline\", \"width\": 2.7135614819679525}, \"marker\": {\"color\": \"rgb(0.267004, 0.004874, 0.329415)\"}, \"mode\": \"lines\", \"opacity\": 1, \"text\": \"gandalf-boromir\", \"type\": \"scatter\", \"x\": [0.8090169870901412, -0.5877850537469236], \"y\": [0.5877852519323634, -0.8090170869279196]}, {\"hoverinfo\": \"text\", \"line\": {\"shape\": \"spline\", \"width\": 2.6724307929368183}, \"marker\": {\"color\": \"rgb(0.993248, 0.906157, 0.143936)\"}, \"mode\": \"lines\", \"opacity\": 1, \"text\": \"gandalf-strider\", \"type\": \"scatter\", \"x\": [0.8090169870901412, -0.30901708593483795], \"y\": [0.5877852519323634, -0.9510564428063698]}, {\"hoverinfo\": \"text\", \"line\": {\"shape\": \"spline\", \"width\": 1.3429884094979871}, \"marker\": {\"color\": \"rgb(0.993248, 0.906157, 0.143936)\"}, \"mode\": \"lines\", \"opacity\": 1, \"text\": \"gandalf-mordor\", \"type\": \"scatter\", \"x\": [0.8090169870901412, 1.2024089669798168e-08], \"y\": [0.5877852519323634, -0.9999999614554007]}, {\"hoverinfo\": \"text\", \"line\": {\"shape\": \"spline\", \"width\": 0.0}, \"marker\": {\"color\": \"rgb(0.267004, 0.004874, 0.329415)\"}, \"mode\": \"lines\", \"opacity\": 1, \"text\": \"gandalf-rohan\", \"type\": \"scatter\", \"x\": [0.8090169870901412, 0.3090171159355783], \"y\": [0.5877852519323634, -0.9510564428063698]}, {\"hoverinfo\": \"text\", \"line\": {\"shape\": \"spline\", \"width\": 2.560439569769506}, \"marker\": {\"color\": \"rgb(0.267004, 0.004874, 0.329415)\"}, \"mode\": \"lines\", \"opacity\": 1, \"text\": \"gandalf-elrond\", \"type\": \"scatter\", \"x\": [0.8090169870901412, 0.5877850539453422], \"y\": [0.5877852519323634, -0.8090170869279196]}, {\"hoverinfo\": \"text\", \"line\": {\"shape\": \"spline\", \"width\": 0.0}, \"marker\": {\"color\": \"rgb(0.267004, 0.004874, 0.329415)\"}, \"mode\": \"lines\", \"opacity\": 1, \"text\": \"gandalf-treebeard\", \"type\": \"scatter\", \"x\": [0.8090169870901412, 0.8090169274854976], \"y\": [0.5877852519323634, -0.5877852729924078]}, {\"hoverinfo\": \"text\", \"line\": {\"shape\": \"spline\", \"width\": 0.0}, \"marker\": {\"color\": \"rgb(0.267004, 0.004874, 0.329415)\"}, \"mode\": \"lines\", \"opacity\": 1, \"text\": \"gandalf-isengard\", \"type\": \"scatter\", \"x\": [0.8090169870901412, 0.9510565217825223], \"y\": [0.5877852519323634, -0.3090169177501385]}, {\"hoverinfo\": \"text\", \"line\": {\"shape\": \"spline\", \"width\": 2.8822635552665297}, \"marker\": {\"color\": \"rgb(0.993248, 0.906157, 0.143936)\"}, \"mode\": \"lines\", \"opacity\": 1, \"text\": \"aragorn-pippin\", \"type\": \"scatter\", \"x\": [0.5877852327592731, 0.30901696692396924], \"y\": [0.8090170062632316, 0.9510565409556127]}, {\"hoverinfo\": \"text\", \"line\": {\"shape\": \"spline\", \"width\": 3.2638049498181156}, \"marker\": {\"color\": \"rgb(0.993248, 0.906157, 0.143936)\"}, \"mode\": \"lines\", \"opacity\": 1, \"text\": \"aragorn-merry\", \"type\": \"scatter\", \"x\": [0.5877852327592731, -4.3612178183203966e-08], \"y\": [0.8090170062632316, 1.0]}, {\"hoverinfo\": \"text\", \"line\": {\"shape\": \"spline\", \"width\": 2.10107645682708}, \"marker\": {\"color\": \"rgb(0.267004, 0.004874, 0.329415)\"}, \"mode\": \"lines\", \"opacity\": 1, \"text\": \"aragorn-gollum\", \"type\": \"scatter\", \"x\": [0.5877852327592731, -0.30901702633019434], \"y\": [0.8090170062632316, 0.951056481350969]}, {\"hoverinfo\": \"text\", \"line\": {\"shape\": \"spline\", \"width\": 1.0787962830179778}, \"marker\": {\"color\": \"rgb(0.783315, 0.879285, 0.125405)\"}, \"mode\": \"lines\", \"opacity\": 1, \"text\": \"aragorn-gimli\", \"type\": \"scatter\", \"x\": [0.5877852327592731, -0.5877851729562108], \"y\": [0.8090170062632316, 0.8090170062632316]}, {\"hoverinfo\": \"text\", \"line\": {\"shape\": \"spline\", \"width\": 0.0}, \"marker\": {\"color\": \"rgb(0.267004, 0.004874, 0.329415)\"}, \"mode\": \"lines\", \"opacity\": 1, \"text\": \"aragorn-grey\", \"type\": \"scatter\", \"x\": [0.5877852327592731, -0.8090170464963663], \"y\": [0.8090170062632316, 0.5877851923277198]}, {\"hoverinfo\": \"text\", \"line\": {\"shape\": \"spline\", \"width\": 0.0}, \"marker\": {\"color\": \"rgb(0.267004, 0.004874, 0.329415)\"}, \"mode\": \"lines\", \"opacity\": 1, \"text\": \"aragorn-bilbo\", \"type\": \"scatter\", \"x\": [0.5877852327592731, -0.95105646197946], \"y\": [0.8090170062632316, 0.30901704570170324]}, {\"hoverinfo\": \"text\", \"line\": {\"shape\": \"spline\", \"width\": 2.2317309366128537}, \"marker\": {\"color\": \"rgb(0.993248, 0.906157, 0.143936)\"}, \"mode\": \"lines\", \"opacity\": 1, \"text\": \"aragorn-legolas\", \"type\": \"scatter\", \"x\": [0.5877852327592731, -0.999999980628491], \"y\": [0.8090170062632316, -6.8150475237538e-08]}, {\"hoverinfo\": \"text\", \"line\": {\"shape\": \"spline\", \"width\": 0.0}, \"marker\": {\"color\": \"rgb(0.267004, 0.004874, 0.329415)\"}, \"mode\": \"lines\", \"opacity\": 1, \"text\": \"aragorn-faramir\", \"type\": \"scatter\", \"x\": [0.5877852327592731, -0.9510565215841037], \"y\": [0.8090170062632316, -0.3090169475524603]}, {\"hoverinfo\": \"text\", \"line\": {\"shape\": \"spline\", \"width\": 0.0}, \"marker\": {\"color\": \"rgb(0.267004, 0.004874, 0.329415)\"}, \"mode\": \"lines\", \"opacity\": 1, \"text\": \"aragorn-saruman\", \"type\": \"scatter\", \"x\": [0.5877852327592731, -0.8090169272870791], \"y\": [0.8090170062632316, -0.5877853325970515]}, {\"hoverinfo\": \"text\", \"line\": {\"shape\": \"spline\", \"width\": 2.2868649542297437}, \"marker\": {\"color\": \"rgb(0.993248, 0.906157, 0.143936)\"}, \"mode\": \"lines\", \"opacity\": 1, \"text\": \"aragorn-boromir\", \"type\": \"scatter\", \"x\": [0.5877852327592731, -0.5877850537469236], \"y\": [0.8090170062632316, -0.8090170869279196]}, {\"hoverinfo\": \"text\", \"line\": {\"shape\": \"spline\", \"width\": 0.0}, \"marker\": {\"color\": \"rgb(0.267004, 0.004874, 0.329415)\"}, \"mode\": \"lines\", \"opacity\": 1, \"text\": \"aragorn-strider\", \"type\": \"scatter\", \"x\": [0.5877852327592731, -0.30901708593483795], \"y\": [0.8090170062632316, -0.9510564428063698]}, {\"hoverinfo\": \"text\", \"line\": {\"shape\": \"spline\", \"width\": 2.3342601868880357}, \"marker\": {\"color\": \"rgb(0.267004, 0.004874, 0.329415)\"}, \"mode\": \"lines\", \"opacity\": 1, \"text\": \"aragorn-mordor\", \"type\": \"scatter\", \"x\": [0.5877852327592731, 1.2024089669798168e-08], \"y\": [0.8090170062632316, -0.9999999614554007]}, {\"hoverinfo\": \"text\", \"line\": {\"shape\": \"spline\", \"width\": 0.0}, \"marker\": {\"color\": \"rgb(0.267004, 0.004874, 0.329415)\"}, \"mode\": \"lines\", \"opacity\": 1, \"text\": \"aragorn-rohan\", \"type\": \"scatter\", \"x\": [0.5877852327592731, 0.3090171159355783], \"y\": [0.8090170062632316, -0.9510564428063698]}, {\"hoverinfo\": \"text\", \"line\": {\"shape\": \"spline\", \"width\": 1.644695393756582}, \"marker\": {\"color\": \"rgb(0.993248, 0.906157, 0.143936)\"}, \"mode\": \"lines\", \"opacity\": 1, \"text\": \"aragorn-elrond\", \"type\": \"scatter\", \"x\": [0.5877852327592731, 0.5877850539453422], \"y\": [0.8090170062632316, -0.8090170869279196]}, {\"hoverinfo\": \"text\", \"line\": {\"shape\": \"spline\", \"width\": 0.0}, \"marker\": {\"color\": \"rgb(0.267004, 0.004874, 0.329415)\"}, \"mode\": \"lines\", \"opacity\": 1, \"text\": \"aragorn-treebeard\", \"type\": \"scatter\", \"x\": [0.5877852327592731, 0.8090169274854976], \"y\": [0.8090170062632316, -0.5877852729924078]}, {\"hoverinfo\": \"text\", \"line\": {\"shape\": \"spline\", \"width\": 0.0}, \"marker\": {\"color\": \"rgb(0.267004, 0.004874, 0.329415)\"}, \"mode\": \"lines\", \"opacity\": 1, \"text\": \"aragorn-isengard\", \"type\": \"scatter\", \"x\": [0.5877852327592731, 0.9510565217825223], \"y\": [0.8090170062632316, -0.3090169177501385]}, {\"hoverinfo\": \"text\", \"line\": {\"shape\": \"spline\", \"width\": 4.836128345520654}, \"marker\": {\"color\": \"rgb(0.993248, 0.906157, 0.143936)\"}, \"mode\": \"lines\", \"opacity\": 1, \"text\": \"pippin-merry\", \"type\": \"scatter\", \"x\": [0.30901696692396924, -4.3612178183203966e-08], \"y\": [0.9510565409556127, 1.0]}, {\"hoverinfo\": \"text\", \"line\": {\"shape\": \"spline\", \"width\": 0.0}, \"marker\": {\"color\": \"rgb(0.267004, 0.004874, 0.329415)\"}, \"mode\": \"lines\", \"opacity\": 1, \"text\": \"pippin-gollum\", \"type\": \"scatter\", \"x\": [0.30901696692396924, -0.30901702633019434], \"y\": [0.9510565409556127, 0.951056481350969]}, {\"hoverinfo\": \"text\", \"line\": {\"shape\": \"spline\", \"width\": 2.218378250494706}, \"marker\": {\"color\": \"rgb(0.993248, 0.906157, 0.143936)\"}, \"mode\": \"lines\", \"opacity\": 1, \"text\": \"pippin-gimli\", \"type\": \"scatter\", \"x\": [0.30901696692396924, -0.5877851729562108], \"y\": [0.9510565409556127, 0.8090170062632316]}, {\"hoverinfo\": \"text\", \"line\": {\"shape\": \"spline\", \"width\": 0.0}, \"marker\": {\"color\": \"rgb(0.267004, 0.004874, 0.329415)\"}, \"mode\": \"lines\", \"opacity\": 1, \"text\": \"pippin-grey\", \"type\": \"scatter\", \"x\": [0.30901696692396924, -0.8090170464963663], \"y\": [0.9510565409556127, 0.5877851923277198]}, {\"hoverinfo\": \"text\", \"line\": {\"shape\": \"spline\", \"width\": 3.327527269645503}, \"marker\": {\"color\": \"rgb(0.993248, 0.906157, 0.143936)\"}, \"mode\": \"lines\", \"opacity\": 1, \"text\": \"pippin-bilbo\", \"type\": \"scatter\", \"x\": [0.30901696692396924, -0.95105646197946], \"y\": [0.9510565409556127, 0.30901704570170324]}, {\"hoverinfo\": \"text\", \"line\": {\"shape\": \"spline\", \"width\": 2.9675075727619067}, \"marker\": {\"color\": \"rgb(0.993248, 0.906157, 0.143936)\"}, \"mode\": \"lines\", \"opacity\": 1, \"text\": \"pippin-legolas\", \"type\": \"scatter\", \"x\": [0.30901696692396924, -0.999999980628491], \"y\": [0.9510565409556127, -6.8150475237538e-08]}, {\"hoverinfo\": \"text\", \"line\": {\"shape\": \"spline\", \"width\": 0.0}, \"marker\": {\"color\": \"rgb(0.267004, 0.004874, 0.329415)\"}, \"mode\": \"lines\", \"opacity\": 1, \"text\": \"pippin-faramir\", \"type\": \"scatter\", \"x\": [0.30901696692396924, -0.9510565215841037], \"y\": [0.9510565409556127, -0.3090169475524603]}, {\"hoverinfo\": \"text\", \"line\": {\"shape\": \"spline\", \"width\": 0.0}, \"marker\": {\"color\": \"rgb(0.267004, 0.004874, 0.329415)\"}, \"mode\": \"lines\", \"opacity\": 1, \"text\": \"pippin-saruman\", \"type\": \"scatter\", \"x\": [0.30901696692396924, -0.8090169272870791], \"y\": [0.9510565409556127, -0.5877853325970515]}, {\"hoverinfo\": \"text\", \"line\": {\"shape\": \"spline\", \"width\": 3.174443528437443}, \"marker\": {\"color\": \"rgb(0.993248, 0.906157, 0.143936)\"}, \"mode\": \"lines\", \"opacity\": 1, \"text\": \"pippin-boromir\", \"type\": \"scatter\", \"x\": [0.30901696692396924, -0.5877850537469236], \"y\": [0.9510565409556127, -0.8090170869279196]}, {\"hoverinfo\": \"text\", \"line\": {\"shape\": \"spline\", \"width\": 2.345592062737494}, \"marker\": {\"color\": \"rgb(0.993248, 0.906157, 0.143936)\"}, \"mode\": \"lines\", \"opacity\": 1, \"text\": \"pippin-strider\", \"type\": \"scatter\", \"x\": [0.30901696692396924, -0.30901708593483795], \"y\": [0.9510565409556127, -0.9510564428063698]}, {\"hoverinfo\": \"text\", \"line\": {\"shape\": \"spline\", \"width\": 0.0}, \"marker\": {\"color\": \"rgb(0.267004, 0.004874, 0.329415)\"}, \"mode\": \"lines\", \"opacity\": 1, \"text\": \"pippin-mordor\", \"type\": \"scatter\", \"x\": [0.30901696692396924, 1.2024089669798168e-08], \"y\": [0.9510565409556127, -0.9999999614554007]}, {\"hoverinfo\": \"text\", \"line\": {\"shape\": \"spline\", \"width\": 0.0}, \"marker\": {\"color\": \"rgb(0.267004, 0.004874, 0.329415)\"}, \"mode\": \"lines\", \"opacity\": 1, \"text\": \"pippin-rohan\", \"type\": \"scatter\", \"x\": [0.30901696692396924, 0.3090171159355783], \"y\": [0.9510565409556127, -0.9510564428063698]}, {\"hoverinfo\": \"text\", \"line\": {\"shape\": \"spline\", \"width\": 1.6844532054454127}, \"marker\": {\"color\": \"rgb(0.267004, 0.004874, 0.329415)\"}, \"mode\": \"lines\", \"opacity\": 1, \"text\": \"pippin-elrond\", \"type\": \"scatter\", \"x\": [0.30901696692396924, 0.5877850539453422], \"y\": [0.9510565409556127, -0.8090170869279196]}, {\"hoverinfo\": \"text\", \"line\": {\"shape\": \"spline\", \"width\": 0.0}, \"marker\": {\"color\": \"rgb(0.267004, 0.004874, 0.329415)\"}, \"mode\": \"lines\", \"opacity\": 1, \"text\": \"pippin-treebeard\", \"type\": \"scatter\", \"x\": [0.30901696692396924, 0.8090169274854976], \"y\": [0.9510565409556127, -0.5877852729924078]}, {\"hoverinfo\": \"text\", \"line\": {\"shape\": \"spline\", \"width\": 0.0}, \"marker\": {\"color\": \"rgb(0.267004, 0.004874, 0.329415)\"}, \"mode\": \"lines\", \"opacity\": 1, \"text\": \"pippin-isengard\", \"type\": \"scatter\", \"x\": [0.30901696692396924, 0.9510565217825223], \"y\": [0.9510565409556127, -0.3090169177501385]}, {\"hoverinfo\": \"text\", \"line\": {\"shape\": \"spline\", \"width\": 0.0}, \"marker\": {\"color\": \"rgb(0.267004, 0.004874, 0.329415)\"}, \"mode\": \"lines\", \"opacity\": 1, \"text\": \"merry-gollum\", \"type\": \"scatter\", \"x\": [-4.3612178183203966e-08, -0.30901702633019434], \"y\": [1.0, 0.951056481350969]}, {\"hoverinfo\": \"text\", \"line\": {\"shape\": \"spline\", \"width\": 2.218378250494706}, \"marker\": {\"color\": \"rgb(0.993248, 0.906157, 0.143936)\"}, \"mode\": \"lines\", \"opacity\": 1, \"text\": \"merry-gimli\", \"type\": \"scatter\", \"x\": [-4.3612178183203966e-08, -0.5877851729562108], \"y\": [1.0, 0.8090170062632316]}, {\"hoverinfo\": \"text\", \"line\": {\"shape\": \"spline\", \"width\": 1.9335130061515513}, \"marker\": {\"color\": \"rgb(0.993248, 0.906157, 0.143936)\"}, \"mode\": \"lines\", \"opacity\": 1, \"text\": \"merry-grey\", \"type\": \"scatter\", \"x\": [-4.3612178183203966e-08, -0.8090170464963663], \"y\": [1.0, 0.5877851923277198]}, {\"hoverinfo\": \"text\", \"line\": {\"shape\": \"spline\", \"width\": 3.4174678695106495}, \"marker\": {\"color\": \"rgb(0.993248, 0.906157, 0.143936)\"}, \"mode\": \"lines\", \"opacity\": 1, \"text\": \"merry-bilbo\", \"type\": \"scatter\", \"x\": [-4.3612178183203966e-08, -0.95105646197946], \"y\": [1.0, 0.30901704570170324]}, {\"hoverinfo\": \"text\", \"line\": {\"shape\": \"spline\", \"width\": 2.9675075727619067}, \"marker\": {\"color\": \"rgb(0.993248, 0.906157, 0.143936)\"}, \"mode\": \"lines\", \"opacity\": 1, \"text\": \"merry-legolas\", \"type\": \"scatter\", \"x\": [-4.3612178183203966e-08, -0.999999980628491], \"y\": [1.0, -6.8150475237538e-08]}, {\"hoverinfo\": \"text\", \"line\": {\"shape\": \"spline\", \"width\": 0.0}, \"marker\": {\"color\": \"rgb(0.267004, 0.004874, 0.329415)\"}, \"mode\": \"lines\", \"opacity\": 1, \"text\": \"merry-faramir\", \"type\": \"scatter\", \"x\": [-4.3612178183203966e-08, -0.9510565215841037], \"y\": [1.0, -0.3090169475524603]}, {\"hoverinfo\": \"text\", \"line\": {\"shape\": \"spline\", \"width\": 0.0}, \"marker\": {\"color\": \"rgb(0.267004, 0.004874, 0.329415)\"}, \"mode\": \"lines\", \"opacity\": 1, \"text\": \"merry-saruman\", \"type\": \"scatter\", \"x\": [-4.3612178183203966e-08, -0.8090169272870791], \"y\": [1.0, -0.5877853325970515]}, {\"hoverinfo\": \"text\", \"line\": {\"shape\": \"spline\", \"width\": 3.174443528437443}, \"marker\": {\"color\": \"rgb(0.993248, 0.906157, 0.143936)\"}, \"mode\": \"lines\", \"opacity\": 1, \"text\": \"merry-boromir\", \"type\": \"scatter\", \"x\": [-4.3612178183203966e-08, -0.5877850537469236], \"y\": [1.0, -0.8090170869279196]}, {\"hoverinfo\": \"text\", \"line\": {\"shape\": \"spline\", \"width\": 3.7999057309255804}, \"marker\": {\"color\": \"rgb(0.993248, 0.906157, 0.143936)\"}, \"mode\": \"lines\", \"opacity\": 1, \"text\": \"merry-strider\", \"type\": \"scatter\", \"x\": [-4.3612178183203966e-08, -0.30901708593483795], \"y\": [1.0, -0.9510564428063698]}, {\"hoverinfo\": \"text\", \"line\": {\"shape\": \"spline\", \"width\": 0.0}, \"marker\": {\"color\": \"rgb(0.267004, 0.004874, 0.329415)\"}, \"mode\": \"lines\", \"opacity\": 1, \"text\": \"merry-mordor\", \"type\": \"scatter\", \"x\": [-4.3612178183203966e-08, 1.2024089669798168e-08], \"y\": [1.0, -0.9999999614554007]}, {\"hoverinfo\": \"text\", \"line\": {\"shape\": \"spline\", \"width\": 0.0}, \"marker\": {\"color\": \"rgb(0.267004, 0.004874, 0.329415)\"}, \"mode\": \"lines\", \"opacity\": 1, \"text\": \"merry-rohan\", \"type\": \"scatter\", \"x\": [-4.3612178183203966e-08, 0.3090171159355783], \"y\": [1.0, -0.9510564428063698]}, {\"hoverinfo\": \"text\", \"line\": {\"shape\": \"spline\", \"width\": 2.218378250494706}, \"marker\": {\"color\": \"rgb(0.993248, 0.906157, 0.143936)\"}, \"mode\": \"lines\", \"opacity\": 1, \"text\": \"merry-elrond\", \"type\": \"scatter\", \"x\": [-4.3612178183203966e-08, 0.5877850539453422], \"y\": [1.0, -0.8090170869279196]}, {\"hoverinfo\": \"text\", \"line\": {\"shape\": \"spline\", \"width\": 0.0}, \"marker\": {\"color\": \"rgb(0.267004, 0.004874, 0.329415)\"}, \"mode\": \"lines\", \"opacity\": 1, \"text\": \"merry-treebeard\", \"type\": \"scatter\", \"x\": [-4.3612178183203966e-08, 0.8090169274854976], \"y\": [1.0, -0.5877852729924078]}, {\"hoverinfo\": \"text\", \"line\": {\"shape\": \"spline\", \"width\": 0.0}, \"marker\": {\"color\": \"rgb(0.267004, 0.004874, 0.329415)\"}, \"mode\": \"lines\", \"opacity\": 1, \"text\": \"merry-isengard\", \"type\": \"scatter\", \"x\": [-4.3612178183203966e-08, 0.9510565217825223], \"y\": [1.0, -0.3090169177501385]}, {\"hoverinfo\": \"text\", \"line\": {\"shape\": \"spline\", \"width\": 0.0}, \"marker\": {\"color\": \"rgb(0.267004, 0.004874, 0.329415)\"}, \"mode\": \"lines\", \"opacity\": 1, \"text\": \"gollum-gimli\", \"type\": \"scatter\", \"x\": [-0.30901702633019434, -0.5877851729562108], \"y\": [0.951056481350969, 0.8090170062632316]}, {\"hoverinfo\": \"text\", \"line\": {\"shape\": \"spline\", \"width\": 0.0}, \"marker\": {\"color\": \"rgb(0.267004, 0.004874, 0.329415)\"}, \"mode\": \"lines\", \"opacity\": 1, \"text\": \"gollum-grey\", \"type\": \"scatter\", \"x\": [-0.30901702633019434, -0.8090170464963663], \"y\": [0.951056481350969, 0.5877851923277198]}, {\"hoverinfo\": \"text\", \"line\": {\"shape\": \"spline\", \"width\": 2.295059097104621}, \"marker\": {\"color\": \"rgb(0.267004, 0.004874, 0.329415)\"}, \"mode\": \"lines\", \"opacity\": 1, \"text\": \"gollum-bilbo\", \"type\": \"scatter\", \"x\": [-0.30901702633019434, -0.95105646197946], \"y\": [0.951056481350969, 0.30901704570170324]}, {\"hoverinfo\": \"text\", \"line\": {\"shape\": \"spline\", \"width\": 0.5094884053709958}, \"marker\": {\"color\": \"rgb(0.267004, 0.004874, 0.329415)\"}, \"mode\": \"lines\", \"opacity\": 1, \"text\": \"gollum-legolas\", \"type\": \"scatter\", \"x\": [-0.30901702633019434, -0.999999980628491], \"y\": [0.951056481350969, -6.8150475237538e-08]}, {\"hoverinfo\": \"text\", \"line\": {\"shape\": \"spline\", \"width\": 0.0}, \"marker\": {\"color\": \"rgb(0.267004, 0.004874, 0.329415)\"}, \"mode\": \"lines\", \"opacity\": 1, \"text\": \"gollum-faramir\", \"type\": \"scatter\", \"x\": [-0.30901702633019434, -0.9510565215841037], \"y\": [0.951056481350969, -0.3090169475524603]}, {\"hoverinfo\": \"text\", \"line\": {\"shape\": \"spline\", \"width\": 0.0}, \"marker\": {\"color\": \"rgb(0.267004, 0.004874, 0.329415)\"}, \"mode\": \"lines\", \"opacity\": 1, \"text\": \"gollum-saruman\", \"type\": \"scatter\", \"x\": [-0.30901702633019434, -0.8090169272870791], \"y\": [0.951056481350969, -0.5877853325970515]}, {\"hoverinfo\": \"text\", \"line\": {\"shape\": \"spline\", \"width\": 0.0}, \"marker\": {\"color\": \"rgb(0.267004, 0.004874, 0.329415)\"}, \"mode\": \"lines\", \"opacity\": 1, \"text\": \"gollum-boromir\", \"type\": \"scatter\", \"x\": [-0.30901702633019434, -0.5877850537469236], \"y\": [0.951056481350969, -0.8090170869279196]}, {\"hoverinfo\": \"text\", \"line\": {\"shape\": \"spline\", \"width\": 0.0}, \"marker\": {\"color\": \"rgb(0.267004, 0.004874, 0.329415)\"}, \"mode\": \"lines\", \"opacity\": 1, \"text\": \"gollum-strider\", \"type\": \"scatter\", \"x\": [-0.30901702633019434, -0.30901708593483795], \"y\": [0.951056481350969, -0.9510564428063698]}, {\"hoverinfo\": \"text\", \"line\": {\"shape\": \"spline\", \"width\": 0.0}, \"marker\": {\"color\": \"rgb(0.267004, 0.004874, 0.329415)\"}, \"mode\": \"lines\", \"opacity\": 1, \"text\": \"gollum-mordor\", \"type\": \"scatter\", \"x\": [-0.30901702633019434, 1.2024089669798168e-08], \"y\": [0.951056481350969, -0.9999999614554007]}, {\"hoverinfo\": \"text\", \"line\": {\"shape\": \"spline\", \"width\": 0.0}, \"marker\": {\"color\": \"rgb(0.267004, 0.004874, 0.329415)\"}, \"mode\": \"lines\", \"opacity\": 1, \"text\": \"gollum-rohan\", \"type\": \"scatter\", \"x\": [-0.30901702633019434, 0.3090171159355783], \"y\": [0.951056481350969, -0.9510564428063698]}, {\"hoverinfo\": \"text\", \"line\": {\"shape\": \"spline\", \"width\": 0.0}, \"marker\": {\"color\": \"rgb(0.267004, 0.004874, 0.329415)\"}, \"mode\": \"lines\", \"opacity\": 1, \"text\": \"gollum-elrond\", \"type\": \"scatter\", \"x\": [-0.30901702633019434, 0.5877850539453422], \"y\": [0.951056481350969, -0.8090170869279196]}, {\"hoverinfo\": \"text\", \"line\": {\"shape\": \"spline\", \"width\": 0.0}, \"marker\": {\"color\": \"rgb(0.267004, 0.004874, 0.329415)\"}, \"mode\": \"lines\", \"opacity\": 1, \"text\": \"gollum-treebeard\", \"type\": \"scatter\", \"x\": [-0.30901702633019434, 0.8090169274854976], \"y\": [0.951056481350969, -0.5877852729924078]}, {\"hoverinfo\": \"text\", \"line\": {\"shape\": \"spline\", \"width\": 0.0}, \"marker\": {\"color\": \"rgb(0.267004, 0.004874, 0.329415)\"}, \"mode\": \"lines\", \"opacity\": 1, \"text\": \"gollum-isengard\", \"type\": \"scatter\", \"x\": [-0.30901702633019434, 0.9510565217825223], \"y\": [0.951056481350969, -0.3090169177501385]}, {\"hoverinfo\": \"text\", \"line\": {\"shape\": \"spline\", \"width\": 0.0}, \"marker\": {\"color\": \"rgb(0.267004, 0.004874, 0.329415)\"}, \"mode\": \"lines\", \"opacity\": 1, \"text\": \"gimli-grey\", \"type\": \"scatter\", \"x\": [-0.5877851729562108, -0.8090170464963663], \"y\": [0.8090170062632316, 0.5877851923277198]}, {\"hoverinfo\": \"text\", \"line\": {\"shape\": \"spline\", \"width\": 0.0}, \"marker\": {\"color\": \"rgb(0.267004, 0.004874, 0.329415)\"}, \"mode\": \"lines\", \"opacity\": 1, \"text\": \"gimli-bilbo\", \"type\": \"scatter\", \"x\": [-0.5877851729562108, -0.95105646197946], \"y\": [0.8090170062632316, 0.30901704570170324]}, {\"hoverinfo\": \"text\", \"line\": {\"shape\": \"spline\", \"width\": 1.4847273776653582}, \"marker\": {\"color\": \"rgb(0.993248, 0.906157, 0.143936)\"}, \"mode\": \"lines\", \"opacity\": 1, \"text\": \"gimli-legolas\", \"type\": \"scatter\", \"x\": [-0.5877851729562108, -0.999999980628491], \"y\": [0.8090170062632316, -6.8150475237538e-08]}, {\"hoverinfo\": \"text\", \"line\": {\"shape\": \"spline\", \"width\": 0.0}, \"marker\": {\"color\": \"rgb(0.267004, 0.004874, 0.329415)\"}, \"mode\": \"lines\", \"opacity\": 1, \"text\": \"gimli-faramir\", \"type\": \"scatter\", \"x\": [-0.5877851729562108, -0.9510565215841037], \"y\": [0.8090170062632316, -0.3090169475524603]}, {\"hoverinfo\": \"text\", \"line\": {\"shape\": \"spline\", \"width\": 0.0}, \"marker\": {\"color\": \"rgb(0.267004, 0.004874, 0.329415)\"}, \"mode\": \"lines\", \"opacity\": 1, \"text\": \"gimli-saruman\", \"type\": \"scatter\", \"x\": [-0.5877851729562108, -0.8090169272870791], \"y\": [0.8090170062632316, -0.5877853325970515]}, {\"hoverinfo\": \"text\", \"line\": {\"shape\": \"spline\", \"width\": 0.8012254169549037}, \"marker\": {\"color\": \"rgb(0.267004, 0.004874, 0.329415)\"}, \"mode\": \"lines\", \"opacity\": 1, \"text\": \"gimli-boromir\", \"type\": \"scatter\", \"x\": [-0.5877851729562108, -0.5877850537469236], \"y\": [0.8090170062632316, -0.8090170869279196]}, {\"hoverinfo\": \"text\", \"line\": {\"shape\": \"spline\", \"width\": 0.0}, \"marker\": {\"color\": \"rgb(0.267004, 0.004874, 0.329415)\"}, \"mode\": \"lines\", \"opacity\": 1, \"text\": \"gimli-strider\", \"type\": \"scatter\", \"x\": [-0.5877851729562108, -0.30901708593483795], \"y\": [0.8090170062632316, -0.9510564428063698]}, {\"hoverinfo\": \"text\", \"line\": {\"shape\": \"spline\", \"width\": 0.0}, \"marker\": {\"color\": \"rgb(0.267004, 0.004874, 0.329415)\"}, \"mode\": \"lines\", \"opacity\": 1, \"text\": \"gimli-mordor\", \"type\": \"scatter\", \"x\": [-0.5877851729562108, 1.2024089669798168e-08], \"y\": [0.8090170062632316, -0.9999999614554007]}, {\"hoverinfo\": \"text\", \"line\": {\"shape\": \"spline\", \"width\": 0.0}, \"marker\": {\"color\": \"rgb(0.267004, 0.004874, 0.329415)\"}, \"mode\": \"lines\", \"opacity\": 1, \"text\": \"gimli-rohan\", \"type\": \"scatter\", \"x\": [-0.5877851729562108, 0.3090171159355783], \"y\": [0.8090170062632316, -0.9510564428063698]}, {\"hoverinfo\": \"text\", \"line\": {\"shape\": \"spline\", \"width\": 0.0}, \"marker\": {\"color\": \"rgb(0.267004, 0.004874, 0.329415)\"}, \"mode\": \"lines\", \"opacity\": 1, \"text\": \"gimli-elrond\", \"type\": \"scatter\", \"x\": [-0.5877851729562108, 0.5877850539453422], \"y\": [0.8090170062632316, -0.8090170869279196]}, {\"hoverinfo\": \"text\", \"line\": {\"shape\": \"spline\", \"width\": 0.0}, \"marker\": {\"color\": \"rgb(0.267004, 0.004874, 0.329415)\"}, \"mode\": \"lines\", \"opacity\": 1, \"text\": \"gimli-treebeard\", \"type\": \"scatter\", \"x\": [-0.5877851729562108, 0.8090169274854976], \"y\": [0.8090170062632316, -0.5877852729924078]}, {\"hoverinfo\": \"text\", \"line\": {\"shape\": \"spline\", \"width\": 0.0}, \"marker\": {\"color\": \"rgb(0.267004, 0.004874, 0.329415)\"}, \"mode\": \"lines\", \"opacity\": 1, \"text\": \"gimli-isengard\", \"type\": \"scatter\", \"x\": [-0.5877851729562108, 0.9510565217825223], \"y\": [0.8090170062632316, -0.3090169177501385]}, {\"hoverinfo\": \"text\", \"line\": {\"shape\": \"spline\", \"width\": 1.9335130061515513}, \"marker\": {\"color\": \"rgb(0.993248, 0.906157, 0.143936)\"}, \"mode\": \"lines\", \"opacity\": 1, \"text\": \"grey-bilbo\", \"type\": \"scatter\", \"x\": [-0.8090170464963663, -0.95105646197946], \"y\": [0.5877851923277198, 0.30901704570170324]}, {\"hoverinfo\": \"text\", \"line\": {\"shape\": \"spline\", \"width\": 1.9335130061515513}, \"marker\": {\"color\": \"rgb(0.993248, 0.906157, 0.143936)\"}, \"mode\": \"lines\", \"opacity\": 1, \"text\": \"grey-legolas\", \"type\": \"scatter\", \"x\": [-0.8090170464963663, -0.999999980628491], \"y\": [0.5877851923277198, -6.8150475237538e-08]}, {\"hoverinfo\": \"text\", \"line\": {\"shape\": \"spline\", \"width\": 0.0}, \"marker\": {\"color\": \"rgb(0.267004, 0.004874, 0.329415)\"}, \"mode\": \"lines\", \"opacity\": 1, \"text\": \"grey-faramir\", \"type\": \"scatter\", \"x\": [-0.8090170464963663, -0.9510565215841037], \"y\": [0.5877851923277198, -0.3090169475524603]}, {\"hoverinfo\": \"text\", \"line\": {\"shape\": \"spline\", \"width\": 0.0}, \"marker\": {\"color\": \"rgb(0.267004, 0.004874, 0.329415)\"}, \"mode\": \"lines\", \"opacity\": 1, \"text\": \"grey-saruman\", \"type\": \"scatter\", \"x\": [-0.8090170464963663, -0.8090169272870791], \"y\": [0.5877851923277198, -0.5877853325970515]}, {\"hoverinfo\": \"text\", \"line\": {\"shape\": \"spline\", \"width\": 0.0}, \"marker\": {\"color\": \"rgb(0.267004, 0.004874, 0.329415)\"}, \"mode\": \"lines\", \"opacity\": 1, \"text\": \"grey-boromir\", \"type\": \"scatter\", \"x\": [-0.8090170464963663, -0.5877850537469236], \"y\": [0.5877851923277198, -0.8090170869279196]}, {\"hoverinfo\": \"text\", \"line\": {\"shape\": \"spline\", \"width\": 0.5094884053709958}, \"marker\": {\"color\": \"rgb(0.267004, 0.004874, 0.329415)\"}, \"mode\": \"lines\", \"opacity\": 1, \"text\": \"grey-strider\", \"type\": \"scatter\", \"x\": [-0.8090170464963663, -0.30901708593483795], \"y\": [0.5877851923277198, -0.9510564428063698]}, {\"hoverinfo\": \"text\", \"line\": {\"shape\": \"spline\", \"width\": 2.0222966473293567}, \"marker\": {\"color\": \"rgb(0.267004, 0.004874, 0.329415)\"}, \"mode\": \"lines\", \"opacity\": 1, \"text\": \"grey-mordor\", \"type\": \"scatter\", \"x\": [-0.8090170464963663, 1.2024089669798168e-08], \"y\": [0.5877851923277198, -0.9999999614554007]}, {\"hoverinfo\": \"text\", \"line\": {\"shape\": \"spline\", \"width\": 0.0}, \"marker\": {\"color\": \"rgb(0.267004, 0.004874, 0.329415)\"}, \"mode\": \"lines\", \"opacity\": 1, \"text\": \"grey-rohan\", \"type\": \"scatter\", \"x\": [-0.8090170464963663, 0.3090171159355783], \"y\": [0.5877851923277198, -0.9510564428063698]}, {\"hoverinfo\": \"text\", \"line\": {\"shape\": \"spline\", \"width\": 2.0627942281206626}, \"marker\": {\"color\": \"rgb(0.267004, 0.004874, 0.329415)\"}, \"mode\": \"lines\", \"opacity\": 1, \"text\": \"grey-elrond\", \"type\": \"scatter\", \"x\": [-0.8090170464963663, 0.5877850539453422], \"y\": [0.5877851923277198, -0.8090170869279196]}, {\"hoverinfo\": \"text\", \"line\": {\"shape\": \"spline\", \"width\": 0.0}, \"marker\": {\"color\": \"rgb(0.267004, 0.004874, 0.329415)\"}, \"mode\": \"lines\", \"opacity\": 1, \"text\": \"grey-treebeard\", \"type\": \"scatter\", \"x\": [-0.8090170464963663, 0.8090169274854976], \"y\": [0.5877851923277198, -0.5877852729924078]}, {\"hoverinfo\": \"text\", \"line\": {\"shape\": \"spline\", \"width\": 0.0}, \"marker\": {\"color\": \"rgb(0.267004, 0.004874, 0.329415)\"}, \"mode\": \"lines\", \"opacity\": 1, \"text\": \"grey-isengard\", \"type\": \"scatter\", \"x\": [-0.8090170464963663, 0.9510565217825223], \"y\": [0.5877851923277198, -0.3090169177501385]}, {\"hoverinfo\": \"text\", \"line\": {\"shape\": \"spline\", \"width\": 0.0}, \"marker\": {\"color\": \"rgb(0.267004, 0.004874, 0.329415)\"}, \"mode\": \"lines\", \"opacity\": 1, \"text\": \"bilbo-legolas\", \"type\": \"scatter\", \"x\": [-0.95105646197946, -0.999999980628491], \"y\": [0.30901704570170324, -6.8150475237538e-08]}, {\"hoverinfo\": \"text\", \"line\": {\"shape\": \"spline\", \"width\": 0.0}, \"marker\": {\"color\": \"rgb(0.267004, 0.004874, 0.329415)\"}, \"mode\": \"lines\", \"opacity\": 1, \"text\": \"bilbo-faramir\", \"type\": \"scatter\", \"x\": [-0.95105646197946, -0.9510565215841037], \"y\": [0.30901704570170324, -0.3090169475524603]}, {\"hoverinfo\": \"text\", \"line\": {\"shape\": \"spline\", \"width\": 0.0}, \"marker\": {\"color\": \"rgb(0.267004, 0.004874, 0.329415)\"}, \"mode\": \"lines\", \"opacity\": 1, \"text\": \"bilbo-saruman\", \"type\": \"scatter\", \"x\": [-0.95105646197946, -0.8090169272870791], \"y\": [0.30901704570170324, -0.5877853325970515]}, {\"hoverinfo\": \"text\", \"line\": {\"shape\": \"spline\", \"width\": 2.2787144538936683}, \"marker\": {\"color\": \"rgb(0.267004, 0.004874, 0.329415)\"}, \"mode\": \"lines\", \"opacity\": 1, \"text\": \"bilbo-boromir\", \"type\": \"scatter\", \"x\": [-0.95105646197946, -0.5877850537469236], \"y\": [0.30901704570170324, -0.8090170869279196]}, {\"hoverinfo\": \"text\", \"line\": {\"shape\": \"spline\", \"width\": 0.5094884053709958}, \"marker\": {\"color\": \"rgb(0.267004, 0.004874, 0.329415)\"}, \"mode\": \"lines\", \"opacity\": 1, \"text\": \"bilbo-strider\", \"type\": \"scatter\", \"x\": [-0.95105646197946, -0.30901708593483795], \"y\": [0.30901704570170324, -0.9510564428063698]}, {\"hoverinfo\": \"text\", \"line\": {\"shape\": \"spline\", \"width\": 0.0}, \"marker\": {\"color\": \"rgb(0.267004, 0.004874, 0.329415)\"}, \"mode\": \"lines\", \"opacity\": 1, \"text\": \"bilbo-mordor\", \"type\": \"scatter\", \"x\": [-0.95105646197946, 1.2024089669798168e-08], \"y\": [0.30901704570170324, -0.9999999614554007]}, {\"hoverinfo\": \"text\", \"line\": {\"shape\": \"spline\", \"width\": 0.0}, \"marker\": {\"color\": \"rgb(0.267004, 0.004874, 0.329415)\"}, \"mode\": \"lines\", \"opacity\": 1, \"text\": \"bilbo-rohan\", \"type\": \"scatter\", \"x\": [-0.95105646197946, 0.3090171159355783], \"y\": [0.30901704570170324, -0.9510564428063698]}, {\"hoverinfo\": \"text\", \"line\": {\"shape\": \"spline\", \"width\": 0.5094884053709958}, \"marker\": {\"color\": \"rgb(0.267004, 0.004874, 0.329415)\"}, \"mode\": \"lines\", \"opacity\": 1, \"text\": \"bilbo-elrond\", \"type\": \"scatter\", \"x\": [-0.95105646197946, 0.5877850539453422], \"y\": [0.30901704570170324, -0.8090170869279196]}, {\"hoverinfo\": \"text\", \"line\": {\"shape\": \"spline\", \"width\": 0.0}, \"marker\": {\"color\": \"rgb(0.267004, 0.004874, 0.329415)\"}, \"mode\": \"lines\", \"opacity\": 1, \"text\": \"bilbo-treebeard\", \"type\": \"scatter\", \"x\": [-0.95105646197946, 0.8090169274854976], \"y\": [0.30901704570170324, -0.5877852729924078]}, {\"hoverinfo\": \"text\", \"line\": {\"shape\": \"spline\", \"width\": 0.0}, \"marker\": {\"color\": \"rgb(0.267004, 0.004874, 0.329415)\"}, \"mode\": \"lines\", \"opacity\": 1, \"text\": \"bilbo-isengard\", \"type\": \"scatter\", \"x\": [-0.95105646197946, 0.9510565217825223], \"y\": [0.30901704570170324, -0.3090169177501385]}, {\"hoverinfo\": \"text\", \"line\": {\"shape\": \"spline\", \"width\": 0.0}, \"marker\": {\"color\": \"rgb(0.267004, 0.004874, 0.329415)\"}, \"mode\": \"lines\", \"opacity\": 1, \"text\": \"legolas-faramir\", \"type\": \"scatter\", \"x\": [-0.999999980628491, -0.9510565215841037], \"y\": [-6.8150475237538e-08, -0.3090169475524603]}, {\"hoverinfo\": \"text\", \"line\": {\"shape\": \"spline\", \"width\": 0.0}, \"marker\": {\"color\": \"rgb(0.267004, 0.004874, 0.329415)\"}, \"mode\": \"lines\", \"opacity\": 1, \"text\": \"legolas-saruman\", \"type\": \"scatter\", \"x\": [-0.999999980628491, -0.8090169272870791], \"y\": [-6.8150475237538e-08, -0.5877853325970515]}, {\"hoverinfo\": \"text\", \"line\": {\"shape\": \"spline\", \"width\": 0.8965165973398457}, \"marker\": {\"color\": \"rgb(0.185783, 0.704891, 0.485273)\"}, \"mode\": \"lines\", \"opacity\": 1, \"text\": \"legolas-boromir\", \"type\": \"scatter\", \"x\": [-0.999999980628491, -0.5877850537469236], \"y\": [-6.8150475237538e-08, -0.8090170869279196]}, {\"hoverinfo\": \"text\", \"line\": {\"shape\": \"spline\", \"width\": 0.0}, \"marker\": {\"color\": \"rgb(0.267004, 0.004874, 0.329415)\"}, \"mode\": \"lines\", \"opacity\": 1, \"text\": \"legolas-strider\", \"type\": \"scatter\", \"x\": [-0.999999980628491, -0.30901708593483795], \"y\": [-6.8150475237538e-08, -0.9510564428063698]}, {\"hoverinfo\": \"text\", \"line\": {\"shape\": \"spline\", \"width\": 0.0}, \"marker\": {\"color\": \"rgb(0.267004, 0.004874, 0.329415)\"}, \"mode\": \"lines\", \"opacity\": 1, \"text\": \"legolas-mordor\", \"type\": \"scatter\", \"x\": [-0.999999980628491, 1.2024089669798168e-08], \"y\": [-6.8150475237538e-08, -0.9999999614554007]}, {\"hoverinfo\": \"text\", \"line\": {\"shape\": \"spline\", \"width\": 0.0}, \"marker\": {\"color\": \"rgb(0.267004, 0.004874, 0.329415)\"}, \"mode\": \"lines\", \"opacity\": 1, \"text\": \"legolas-rohan\", \"type\": \"scatter\", \"x\": [-0.999999980628491, 0.3090171159355783], \"y\": [-6.8150475237538e-08, -0.9510564428063698]}, {\"hoverinfo\": \"text\", \"line\": {\"shape\": \"spline\", \"width\": 0.0}, \"marker\": {\"color\": \"rgb(0.267004, 0.004874, 0.329415)\"}, \"mode\": \"lines\", \"opacity\": 1, \"text\": \"legolas-elrond\", \"type\": \"scatter\", \"x\": [-0.999999980628491, 0.5877850539453422], \"y\": [-6.8150475237538e-08, -0.8090170869279196]}, {\"hoverinfo\": \"text\", \"line\": {\"shape\": \"spline\", \"width\": 0.0}, \"marker\": {\"color\": \"rgb(0.267004, 0.004874, 0.329415)\"}, \"mode\": \"lines\", \"opacity\": 1, \"text\": \"legolas-treebeard\", \"type\": \"scatter\", \"x\": [-0.999999980628491, 0.8090169274854976], \"y\": [-6.8150475237538e-08, -0.5877852729924078]}, {\"hoverinfo\": \"text\", \"line\": {\"shape\": \"spline\", \"width\": 0.0}, \"marker\": {\"color\": \"rgb(0.267004, 0.004874, 0.329415)\"}, \"mode\": \"lines\", \"opacity\": 1, \"text\": \"legolas-isengard\", \"type\": \"scatter\", \"x\": [-0.999999980628491, 0.9510565217825223], \"y\": [-6.8150475237538e-08, -0.3090169177501385]}, {\"hoverinfo\": \"text\", \"line\": {\"shape\": \"spline\", \"width\": 0.0}, \"marker\": {\"color\": \"rgb(0.267004, 0.004874, 0.329415)\"}, \"mode\": \"lines\", \"opacity\": 1, \"text\": \"faramir-saruman\", \"type\": \"scatter\", \"x\": [-0.9510565215841037, -0.8090169272870791], \"y\": [-0.3090169475524603, -0.5877853325970515]}, {\"hoverinfo\": \"text\", \"line\": {\"shape\": \"spline\", \"width\": 0.0}, \"marker\": {\"color\": \"rgb(0.267004, 0.004874, 0.329415)\"}, \"mode\": \"lines\", \"opacity\": 1, \"text\": \"faramir-boromir\", \"type\": \"scatter\", \"x\": [-0.9510565215841037, -0.5877850537469236], \"y\": [-0.3090169475524603, -0.8090170869279196]}, {\"hoverinfo\": \"text\", \"line\": {\"shape\": \"spline\", \"width\": 0.0}, \"marker\": {\"color\": \"rgb(0.267004, 0.004874, 0.329415)\"}, \"mode\": \"lines\", \"opacity\": 1, \"text\": \"faramir-strider\", \"type\": \"scatter\", \"x\": [-0.9510565215841037, -0.30901708593483795], \"y\": [-0.3090169475524603, -0.9510564428063698]}, {\"hoverinfo\": \"text\", \"line\": {\"shape\": \"spline\", \"width\": 0.0}, \"marker\": {\"color\": \"rgb(0.267004, 0.004874, 0.329415)\"}, \"mode\": \"lines\", \"opacity\": 1, \"text\": \"faramir-mordor\", \"type\": \"scatter\", \"x\": [-0.9510565215841037, 1.2024089669798168e-08], \"y\": [-0.3090169475524603, -0.9999999614554007]}, {\"hoverinfo\": \"text\", \"line\": {\"shape\": \"spline\", \"width\": 0.0}, \"marker\": {\"color\": \"rgb(0.267004, 0.004874, 0.329415)\"}, \"mode\": \"lines\", \"opacity\": 1, \"text\": \"faramir-rohan\", \"type\": \"scatter\", \"x\": [-0.9510565215841037, 0.3090171159355783], \"y\": [-0.3090169475524603, -0.9510564428063698]}, {\"hoverinfo\": \"text\", \"line\": {\"shape\": \"spline\", \"width\": 0.0}, \"marker\": {\"color\": \"rgb(0.267004, 0.004874, 0.329415)\"}, \"mode\": \"lines\", \"opacity\": 1, \"text\": \"faramir-elrond\", \"type\": \"scatter\", \"x\": [-0.9510565215841037, 0.5877850539453422], \"y\": [-0.3090169475524603, -0.8090170869279196]}, {\"hoverinfo\": \"text\", \"line\": {\"shape\": \"spline\", \"width\": 0.0}, \"marker\": {\"color\": \"rgb(0.267004, 0.004874, 0.329415)\"}, \"mode\": \"lines\", \"opacity\": 1, \"text\": \"faramir-treebeard\", \"type\": \"scatter\", \"x\": [-0.9510565215841037, 0.8090169274854976], \"y\": [-0.3090169475524603, -0.5877852729924078]}, {\"hoverinfo\": \"text\", \"line\": {\"shape\": \"spline\", \"width\": 0.0}, \"marker\": {\"color\": \"rgb(0.267004, 0.004874, 0.329415)\"}, \"mode\": \"lines\", \"opacity\": 1, \"text\": \"faramir-isengard\", \"type\": \"scatter\", \"x\": [-0.9510565215841037, 0.9510565217825223], \"y\": [-0.3090169475524603, -0.3090169177501385]}, {\"hoverinfo\": \"text\", \"line\": {\"shape\": \"spline\", \"width\": 0.5094884053709958}, \"marker\": {\"color\": \"rgb(0.267004, 0.004874, 0.329415)\"}, \"mode\": \"lines\", \"opacity\": 1, \"text\": \"saruman-boromir\", \"type\": \"scatter\", \"x\": [-0.8090169272870791, -0.5877850537469236], \"y\": [-0.5877853325970515, -0.8090170869279196]}, {\"hoverinfo\": \"text\", \"line\": {\"shape\": \"spline\", \"width\": 0.0}, \"marker\": {\"color\": \"rgb(0.267004, 0.004874, 0.329415)\"}, \"mode\": \"lines\", \"opacity\": 1, \"text\": \"saruman-strider\", \"type\": \"scatter\", \"x\": [-0.8090169272870791, -0.30901708593483795], \"y\": [-0.5877853325970515, -0.9510564428063698]}, {\"hoverinfo\": \"text\", \"line\": {\"shape\": \"spline\", \"width\": 2.6485094373969025}, \"marker\": {\"color\": \"rgb(0.267004, 0.004874, 0.329415)\"}, \"mode\": \"lines\", \"opacity\": 1, \"text\": \"saruman-mordor\", \"type\": \"scatter\", \"x\": [-0.8090169272870791, 1.2024089669798168e-08], \"y\": [-0.5877853325970515, -0.9999999614554007]}, {\"hoverinfo\": \"text\", \"line\": {\"shape\": \"spline\", \"width\": 2.7353927048718987}, \"marker\": {\"color\": \"rgb(0.267004, 0.004874, 0.329415)\"}, \"mode\": \"lines\", \"opacity\": 1, \"text\": \"saruman-rohan\", \"type\": \"scatter\", \"x\": [-0.8090169272870791, 0.3090171159355783], \"y\": [-0.5877853325970515, -0.9510564428063698]}, {\"hoverinfo\": \"text\", \"line\": {\"shape\": \"spline\", \"width\": 0.0}, \"marker\": {\"color\": \"rgb(0.267004, 0.004874, 0.329415)\"}, \"mode\": \"lines\", \"opacity\": 1, \"text\": \"saruman-elrond\", \"type\": \"scatter\", \"x\": [-0.8090169272870791, 0.5877850539453422], \"y\": [-0.5877853325970515, -0.8090170869279196]}, {\"hoverinfo\": \"text\", \"line\": {\"shape\": \"spline\", \"width\": 0.0}, \"marker\": {\"color\": \"rgb(0.267004, 0.004874, 0.329415)\"}, \"mode\": \"lines\", \"opacity\": 1, \"text\": \"saruman-treebeard\", \"type\": \"scatter\", \"x\": [-0.8090169272870791, 0.8090169274854976], \"y\": [-0.5877853325970515, -0.5877852729924078]}, {\"hoverinfo\": \"text\", \"line\": {\"shape\": \"spline\", \"width\": 2.218378250494706}, \"marker\": {\"color\": \"rgb(0.993248, 0.906157, 0.143936)\"}, \"mode\": \"lines\", \"opacity\": 1, \"text\": \"saruman-isengard\", \"type\": \"scatter\", \"x\": [-0.8090169272870791, 0.9510565217825223], \"y\": [-0.5877853325970515, -0.3090169177501385]}, {\"hoverinfo\": \"text\", \"line\": {\"shape\": \"spline\", \"width\": 2.6135663185537092}, \"marker\": {\"color\": \"rgb(0.267004, 0.004874, 0.329415)\"}, \"mode\": \"lines\", \"opacity\": 1, \"text\": \"boromir-strider\", \"type\": \"scatter\", \"x\": [-0.5877850537469236, -0.30901708593483795], \"y\": [-0.8090170869279196, -0.9510564428063698]}, {\"hoverinfo\": \"text\", \"line\": {\"shape\": \"spline\", \"width\": 3.062612160341412}, \"marker\": {\"color\": \"rgb(0.993248, 0.906157, 0.143936)\"}, \"mode\": \"lines\", \"opacity\": 1, \"text\": \"boromir-mordor\", \"type\": \"scatter\", \"x\": [-0.5877850537469236, 1.2024089669798168e-08], \"y\": [-0.8090170869279196, -0.9999999614554007]}, {\"hoverinfo\": \"text\", \"line\": {\"shape\": \"spline\", \"width\": 0.0}, \"marker\": {\"color\": \"rgb(0.267004, 0.004874, 0.329415)\"}, \"mode\": \"lines\", \"opacity\": 1, \"text\": \"boromir-rohan\", \"type\": \"scatter\", \"x\": [-0.5877850537469236, 0.3090171159355783], \"y\": [-0.8090170869279196, -0.9510564428063698]}, {\"hoverinfo\": \"text\", \"line\": {\"shape\": \"spline\", \"width\": 0.8012254169549037}, \"marker\": {\"color\": \"rgb(0.267004, 0.004874, 0.329415)\"}, \"mode\": \"lines\", \"opacity\": 1, \"text\": \"boromir-elrond\", \"type\": \"scatter\", \"x\": [-0.5877850537469236, 0.5877850539453422], \"y\": [-0.8090170869279196, -0.8090170869279196]}, {\"hoverinfo\": \"text\", \"line\": {\"shape\": \"spline\", \"width\": 0.0}, \"marker\": {\"color\": \"rgb(0.267004, 0.004874, 0.329415)\"}, \"mode\": \"lines\", \"opacity\": 1, \"text\": \"boromir-treebeard\", \"type\": \"scatter\", \"x\": [-0.5877850537469236, 0.8090169274854976], \"y\": [-0.8090170869279196, -0.5877852729924078]}, {\"hoverinfo\": \"text\", \"line\": {\"shape\": \"spline\", \"width\": 0.0}, \"marker\": {\"color\": \"rgb(0.267004, 0.004874, 0.329415)\"}, \"mode\": \"lines\", \"opacity\": 1, \"text\": \"boromir-isengard\", \"type\": \"scatter\", \"x\": [-0.5877850537469236, 0.9510565217825223], \"y\": [-0.8090170869279196, -0.3090169177501385]}, {\"hoverinfo\": \"text\", \"line\": {\"shape\": \"spline\", \"width\": 2.0222966473293567}, \"marker\": {\"color\": \"rgb(0.267004, 0.004874, 0.329415)\"}, \"mode\": \"lines\", \"opacity\": 1, \"text\": \"strider-mordor\", \"type\": \"scatter\", \"x\": [-0.30901708593483795, 1.2024089669798168e-08], \"y\": [-0.9510564428063698, -0.9999999614554007]}, {\"hoverinfo\": \"text\", \"line\": {\"shape\": \"spline\", \"width\": 0.0}, \"marker\": {\"color\": \"rgb(0.267004, 0.004874, 0.329415)\"}, \"mode\": \"lines\", \"opacity\": 1, \"text\": \"strider-rohan\", \"type\": \"scatter\", \"x\": [-0.30901708593483795, 0.3090171159355783], \"y\": [-0.9510564428063698, -0.9510564428063698]}, {\"hoverinfo\": \"text\", \"line\": {\"shape\": \"spline\", \"width\": 2.956618332580066}, \"marker\": {\"color\": \"rgb(0.993248, 0.906157, 0.143936)\"}, \"mode\": \"lines\", \"opacity\": 1, \"text\": \"strider-elrond\", \"type\": \"scatter\", \"x\": [-0.30901708593483795, 0.5877850539453422], \"y\": [-0.9510564428063698, -0.8090170869279196]}, {\"hoverinfo\": \"text\", \"line\": {\"shape\": \"spline\", \"width\": 0.0}, \"marker\": {\"color\": \"rgb(0.267004, 0.004874, 0.329415)\"}, \"mode\": \"lines\", \"opacity\": 1, \"text\": \"strider-treebeard\", \"type\": \"scatter\", \"x\": [-0.30901708593483795, 0.8090169274854976], \"y\": [-0.9510564428063698, -0.5877852729924078]}, {\"hoverinfo\": \"text\", \"line\": {\"shape\": \"spline\", \"width\": 0.0}, \"marker\": {\"color\": \"rgb(0.267004, 0.004874, 0.329415)\"}, \"mode\": \"lines\", \"opacity\": 1, \"text\": \"strider-isengard\", \"type\": \"scatter\", \"x\": [-0.30901708593483795, 0.9510565217825223], \"y\": [-0.9510564428063698, -0.3090169177501385]}, {\"hoverinfo\": \"text\", \"line\": {\"shape\": \"spline\", \"width\": 0.0}, \"marker\": {\"color\": \"rgb(0.267004, 0.004874, 0.329415)\"}, \"mode\": \"lines\", \"opacity\": 1, \"text\": \"mordor-rohan\", \"type\": \"scatter\", \"x\": [1.2024089669798168e-08, 0.3090171159355783], \"y\": [-0.9999999614554007, -0.9510564428063698]}, {\"hoverinfo\": \"text\", \"line\": {\"shape\": \"spline\", \"width\": 0.0}, \"marker\": {\"color\": \"rgb(0.267004, 0.004874, 0.329415)\"}, \"mode\": \"lines\", \"opacity\": 1, \"text\": \"mordor-elrond\", \"type\": \"scatter\", \"x\": [1.2024089669798168e-08, 0.5877850539453422], \"y\": [-0.9999999614554007, -0.8090170869279196]}, {\"hoverinfo\": \"text\", \"line\": {\"shape\": \"spline\", \"width\": 0.0}, \"marker\": {\"color\": \"rgb(0.267004, 0.004874, 0.329415)\"}, \"mode\": \"lines\", \"opacity\": 1, \"text\": \"mordor-treebeard\", \"type\": \"scatter\", \"x\": [1.2024089669798168e-08, 0.8090169274854976], \"y\": [-0.9999999614554007, -0.5877852729924078]}, {\"hoverinfo\": \"text\", \"line\": {\"shape\": \"spline\", \"width\": 0.0}, \"marker\": {\"color\": \"rgb(0.267004, 0.004874, 0.329415)\"}, \"mode\": \"lines\", \"opacity\": 1, \"text\": \"mordor-isengard\", \"type\": \"scatter\", \"x\": [1.2024089669798168e-08, 0.9510565217825223], \"y\": [-0.9999999614554007, -0.3090169177501385]}, {\"hoverinfo\": \"text\", \"line\": {\"shape\": \"spline\", \"width\": 0.0}, \"marker\": {\"color\": \"rgb(0.267004, 0.004874, 0.329415)\"}, \"mode\": \"lines\", \"opacity\": 1, \"text\": \"rohan-elrond\", \"type\": \"scatter\", \"x\": [0.3090171159355783, 0.5877850539453422], \"y\": [-0.9510564428063698, -0.8090170869279196]}, {\"hoverinfo\": \"text\", \"line\": {\"shape\": \"spline\", \"width\": 0.0}, \"marker\": {\"color\": \"rgb(0.267004, 0.004874, 0.329415)\"}, \"mode\": \"lines\", \"opacity\": 1, \"text\": \"rohan-treebeard\", \"type\": \"scatter\", \"x\": [0.3090171159355783, 0.8090169274854976], \"y\": [-0.9510564428063698, -0.5877852729924078]}, {\"hoverinfo\": \"text\", \"line\": {\"shape\": \"spline\", \"width\": 1.8318101926150907}, \"marker\": {\"color\": \"rgb(0.993248, 0.906157, 0.143936)\"}, \"mode\": \"lines\", \"opacity\": 1, \"text\": \"rohan-isengard\", \"type\": \"scatter\", \"x\": [0.3090171159355783, 0.9510565217825223], \"y\": [-0.9510564428063698, -0.3090169177501385]}, {\"hoverinfo\": \"text\", \"line\": {\"shape\": \"spline\", \"width\": 0.0}, \"marker\": {\"color\": \"rgb(0.267004, 0.004874, 0.329415)\"}, \"mode\": \"lines\", \"opacity\": 1, \"text\": \"elrond-treebeard\", \"type\": \"scatter\", \"x\": [0.5877850539453422, 0.8090169274854976], \"y\": [-0.8090170869279196, -0.5877852729924078]}, {\"hoverinfo\": \"text\", \"line\": {\"shape\": \"spline\", \"width\": 0.0}, \"marker\": {\"color\": \"rgb(0.267004, 0.004874, 0.329415)\"}, \"mode\": \"lines\", \"opacity\": 1, \"text\": \"elrond-isengard\", \"type\": \"scatter\", \"x\": [0.5877850539453422, 0.9510565217825223], \"y\": [-0.8090170869279196, -0.3090169177501385]}, {\"hoverinfo\": \"text\", \"line\": {\"shape\": \"spline\", \"width\": 0.0}, \"marker\": {\"color\": \"rgb(0.267004, 0.004874, 0.329415)\"}, \"mode\": \"lines\", \"opacity\": 1, \"text\": \"treebeard-isengard\", \"type\": \"scatter\", \"x\": [0.8090169274854976, 0.9510565217825223], \"y\": [-0.5877852729924078, -0.3090169177501385]}, {\"hoverinfo\": \"text\", \"hovertext\": [\"Entity: frodo\", \"Entity: sam\", \"Entity: gandalf\", \"Entity: aragorn\", \"Entity: pippin\", \"Entity: merry\", \"Entity: gollum\", \"Entity: gimli\", \"Entity: grey\", \"Entity: bilbo\", \"Entity: legolas\", \"Entity: faramir\", \"Entity: saruman\", \"Entity: boromir\", \"Entity: strider\", \"Entity: mordor\", \"Entity: rohan\", \"Entity: elrond\", \"Entity: treebeard\", \"Entity: isengard\"], \"marker\": {\"color\": \"SkyBlue\", \"size\": [60.0, 48.325769210678104, 45.06663410788285, 36.11757348220637, 35.2287799260492, 32.88815286532223, 27.05471724512918, 26.581814338905883, 25.92622415903324, 25.750926515499266, 24.819428401357385, 23.196931577798452, 22.64360313552671, 22.32125781802544, 20.457770711545287, 20.32449391358817, 19.272109180098127, 18.208654760946004, 16.430298402229674, 16.03970915426452]}, \"mode\": \"markers+text\", \"text\": [\"frodo\", \"sam\", \"gandalf\", \"aragorn\", \"pippin\", \"merry\", \"gollum\", \"gimli\", \"grey\", \"bilbo\", \"legolas\", \"faramir\", \"saruman\", \"boromir\", \"strider\", \"mordor\", \"rohan\", \"elrond\", \"treebeard\", \"isengard\"], \"textposition\": \"bottom center\", \"type\": \"scatter\", \"x\": [0.9999999808269097, 0.9510565217825223, 0.8090169870901412, 0.5877852327592731, 0.30901696692396924, -4.3612178183203966e-08, -0.30901702633019434, -0.5877851729562108, -0.8090170464963663, -0.95105646197946, -0.999999980628491, -0.9510565215841037, -0.8090169272870791, -0.5877850537469236, -0.30901708593483795, 1.2024089669798168e-08, 0.3090171159355783, 0.5877850539453422, 0.8090169274854976, 0.9510565217825223], \"y\": [1.9272299651099908e-08, 0.30901701589938146, 0.5877852519323634, 0.8090170062632316, 0.9510565409556127, 1.0, 0.951056481350969, 0.8090170062632316, 0.5877851923277198, 0.30901704570170324, -6.8150475237538e-08, -0.3090169475524603, -0.5877853325970515, -0.8090170869279196, -0.9510564428063698, -0.9999999614554007, -0.9510564428063698, -0.8090170869279196, -0.5877852729924078, -0.3090169177501385]}],\n                        {\"height\": 600, \"margin\": {\"b\": 40, \"l\": 40, \"r\": 40, \"t\": 40}, \"showlegend\": true, \"template\": {\"data\": {\"bar\": [{\"error_x\": {\"color\": \"#2a3f5f\"}, \"error_y\": {\"color\": \"#2a3f5f\"}, \"marker\": {\"line\": {\"color\": \"#E5ECF6\", \"width\": 0.5}}, \"type\": \"bar\"}], \"barpolar\": [{\"marker\": {\"line\": {\"color\": \"#E5ECF6\", \"width\": 0.5}}, \"type\": \"barpolar\"}], \"carpet\": [{\"aaxis\": {\"endlinecolor\": \"#2a3f5f\", \"gridcolor\": \"white\", \"linecolor\": \"white\", \"minorgridcolor\": \"white\", \"startlinecolor\": \"#2a3f5f\"}, \"baxis\": {\"endlinecolor\": \"#2a3f5f\", \"gridcolor\": \"white\", \"linecolor\": \"white\", \"minorgridcolor\": \"white\", \"startlinecolor\": \"#2a3f5f\"}, \"type\": \"carpet\"}], \"choropleth\": [{\"colorbar\": {\"outlinewidth\": 0, \"ticks\": \"\"}, \"type\": \"choropleth\"}], \"contour\": [{\"colorbar\": {\"outlinewidth\": 0, \"ticks\": \"\"}, \"colorscale\": [[0.0, \"#0d0887\"], [0.1111111111111111, \"#46039f\"], [0.2222222222222222, \"#7201a8\"], [0.3333333333333333, \"#9c179e\"], [0.4444444444444444, \"#bd3786\"], [0.5555555555555556, \"#d8576b\"], [0.6666666666666666, \"#ed7953\"], [0.7777777777777778, \"#fb9f3a\"], [0.8888888888888888, \"#fdca26\"], [1.0, \"#f0f921\"]], \"type\": \"contour\"}], \"contourcarpet\": [{\"colorbar\": {\"outlinewidth\": 0, \"ticks\": \"\"}, \"type\": \"contourcarpet\"}], \"heatmap\": [{\"colorbar\": {\"outlinewidth\": 0, \"ticks\": \"\"}, \"colorscale\": [[0.0, \"#0d0887\"], [0.1111111111111111, \"#46039f\"], [0.2222222222222222, \"#7201a8\"], [0.3333333333333333, \"#9c179e\"], [0.4444444444444444, \"#bd3786\"], [0.5555555555555556, \"#d8576b\"], [0.6666666666666666, \"#ed7953\"], [0.7777777777777778, \"#fb9f3a\"], [0.8888888888888888, \"#fdca26\"], [1.0, \"#f0f921\"]], \"type\": \"heatmap\"}], \"heatmapgl\": [{\"colorbar\": {\"outlinewidth\": 0, \"ticks\": \"\"}, \"colorscale\": [[0.0, \"#0d0887\"], [0.1111111111111111, \"#46039f\"], [0.2222222222222222, \"#7201a8\"], [0.3333333333333333, \"#9c179e\"], [0.4444444444444444, \"#bd3786\"], [0.5555555555555556, \"#d8576b\"], [0.6666666666666666, \"#ed7953\"], [0.7777777777777778, \"#fb9f3a\"], [0.8888888888888888, \"#fdca26\"], [1.0, \"#f0f921\"]], \"type\": \"heatmapgl\"}], \"histogram\": [{\"marker\": {\"colorbar\": {\"outlinewidth\": 0, \"ticks\": \"\"}}, \"type\": \"histogram\"}], \"histogram2d\": [{\"colorbar\": {\"outlinewidth\": 0, \"ticks\": \"\"}, \"colorscale\": [[0.0, \"#0d0887\"], [0.1111111111111111, \"#46039f\"], [0.2222222222222222, \"#7201a8\"], [0.3333333333333333, \"#9c179e\"], [0.4444444444444444, \"#bd3786\"], [0.5555555555555556, \"#d8576b\"], [0.6666666666666666, \"#ed7953\"], [0.7777777777777778, \"#fb9f3a\"], [0.8888888888888888, \"#fdca26\"], [1.0, \"#f0f921\"]], \"type\": \"histogram2d\"}], \"histogram2dcontour\": [{\"colorbar\": {\"outlinewidth\": 0, \"ticks\": \"\"}, \"colorscale\": [[0.0, \"#0d0887\"], [0.1111111111111111, \"#46039f\"], [0.2222222222222222, \"#7201a8\"], [0.3333333333333333, \"#9c179e\"], [0.4444444444444444, \"#bd3786\"], [0.5555555555555556, \"#d8576b\"], [0.6666666666666666, \"#ed7953\"], [0.7777777777777778, \"#fb9f3a\"], [0.8888888888888888, \"#fdca26\"], [1.0, \"#f0f921\"]], \"type\": \"histogram2dcontour\"}], \"mesh3d\": [{\"colorbar\": {\"outlinewidth\": 0, \"ticks\": \"\"}, \"type\": \"mesh3d\"}], \"parcoords\": [{\"line\": {\"colorbar\": {\"outlinewidth\": 0, \"ticks\": \"\"}}, \"type\": \"parcoords\"}], \"pie\": [{\"automargin\": true, \"type\": \"pie\"}], \"scatter\": [{\"marker\": {\"colorbar\": {\"outlinewidth\": 0, \"ticks\": \"\"}}, \"type\": \"scatter\"}], \"scatter3d\": [{\"line\": {\"colorbar\": {\"outlinewidth\": 0, \"ticks\": \"\"}}, \"marker\": {\"colorbar\": {\"outlinewidth\": 0, \"ticks\": \"\"}}, \"type\": \"scatter3d\"}], \"scattercarpet\": [{\"marker\": {\"colorbar\": {\"outlinewidth\": 0, \"ticks\": \"\"}}, \"type\": \"scattercarpet\"}], \"scattergeo\": [{\"marker\": {\"colorbar\": {\"outlinewidth\": 0, \"ticks\": \"\"}}, \"type\": \"scattergeo\"}], \"scattergl\": [{\"marker\": {\"colorbar\": {\"outlinewidth\": 0, \"ticks\": \"\"}}, \"type\": \"scattergl\"}], \"scattermapbox\": [{\"marker\": {\"colorbar\": {\"outlinewidth\": 0, \"ticks\": \"\"}}, \"type\": \"scattermapbox\"}], \"scatterpolar\": [{\"marker\": {\"colorbar\": {\"outlinewidth\": 0, \"ticks\": \"\"}}, \"type\": \"scatterpolar\"}], \"scatterpolargl\": [{\"marker\": {\"colorbar\": {\"outlinewidth\": 0, \"ticks\": \"\"}}, \"type\": \"scatterpolargl\"}], \"scatterternary\": [{\"marker\": {\"colorbar\": {\"outlinewidth\": 0, \"ticks\": \"\"}}, \"type\": \"scatterternary\"}], \"surface\": [{\"colorbar\": {\"outlinewidth\": 0, \"ticks\": \"\"}, \"colorscale\": [[0.0, \"#0d0887\"], [0.1111111111111111, \"#46039f\"], [0.2222222222222222, \"#7201a8\"], [0.3333333333333333, \"#9c179e\"], [0.4444444444444444, \"#bd3786\"], [0.5555555555555556, \"#d8576b\"], [0.6666666666666666, \"#ed7953\"], [0.7777777777777778, \"#fb9f3a\"], [0.8888888888888888, \"#fdca26\"], [1.0, \"#f0f921\"]], \"type\": \"surface\"}], \"table\": [{\"cells\": {\"fill\": {\"color\": \"#EBF0F8\"}, \"line\": {\"color\": \"white\"}}, \"header\": {\"fill\": {\"color\": \"#C8D4E3\"}, \"line\": {\"color\": \"white\"}}, \"type\": \"table\"}]}, \"layout\": {\"annotationdefaults\": {\"arrowcolor\": \"#2a3f5f\", \"arrowhead\": 0, \"arrowwidth\": 1}, \"coloraxis\": {\"colorbar\": {\"outlinewidth\": 0, \"ticks\": \"\"}}, \"colorscale\": {\"diverging\": [[0, \"#8e0152\"], [0.1, \"#c51b7d\"], [0.2, \"#de77ae\"], [0.3, \"#f1b6da\"], [0.4, \"#fde0ef\"], [0.5, \"#f7f7f7\"], [0.6, \"#e6f5d0\"], [0.7, \"#b8e186\"], [0.8, \"#7fbc41\"], [0.9, \"#4d9221\"], [1, \"#276419\"]], \"sequential\": [[0.0, \"#0d0887\"], [0.1111111111111111, \"#46039f\"], [0.2222222222222222, \"#7201a8\"], [0.3333333333333333, \"#9c179e\"], [0.4444444444444444, \"#bd3786\"], [0.5555555555555556, \"#d8576b\"], [0.6666666666666666, \"#ed7953\"], [0.7777777777777778, \"#fb9f3a\"], [0.8888888888888888, \"#fdca26\"], [1.0, \"#f0f921\"]], \"sequentialminus\": [[0.0, \"#0d0887\"], [0.1111111111111111, \"#46039f\"], [0.2222222222222222, \"#7201a8\"], [0.3333333333333333, \"#9c179e\"], [0.4444444444444444, \"#bd3786\"], [0.5555555555555556, \"#d8576b\"], [0.6666666666666666, \"#ed7953\"], [0.7777777777777778, \"#fb9f3a\"], [0.8888888888888888, \"#fdca26\"], [1.0, \"#f0f921\"]]}, \"colorway\": [\"#636efa\", \"#EF553B\", \"#00cc96\", \"#ab63fa\", \"#FFA15A\", \"#19d3f3\", \"#FF6692\", \"#B6E880\", \"#FF97FF\", \"#FECB52\"], \"font\": {\"color\": \"#2a3f5f\"}, \"geo\": {\"bgcolor\": \"white\", \"lakecolor\": \"white\", \"landcolor\": \"#E5ECF6\", \"showlakes\": true, \"showland\": true, \"subunitcolor\": \"white\"}, \"hoverlabel\": {\"align\": \"left\"}, \"hovermode\": \"closest\", \"mapbox\": {\"style\": \"light\"}, \"paper_bgcolor\": \"white\", \"plot_bgcolor\": \"#E5ECF6\", \"polar\": {\"angularaxis\": {\"gridcolor\": \"white\", \"linecolor\": \"white\", \"ticks\": \"\"}, \"bgcolor\": \"#E5ECF6\", \"radialaxis\": {\"gridcolor\": \"white\", \"linecolor\": \"white\", \"ticks\": \"\"}}, \"scene\": {\"xaxis\": {\"backgroundcolor\": \"#E5ECF6\", \"gridcolor\": \"white\", \"gridwidth\": 2, \"linecolor\": \"white\", \"showbackground\": true, \"ticks\": \"\", \"zerolinecolor\": \"white\"}, \"yaxis\": {\"backgroundcolor\": \"#E5ECF6\", \"gridcolor\": \"white\", \"gridwidth\": 2, \"linecolor\": \"white\", \"showbackground\": true, \"ticks\": \"\", \"zerolinecolor\": \"white\"}, \"zaxis\": {\"backgroundcolor\": \"#E5ECF6\", \"gridcolor\": \"white\", \"gridwidth\": 2, \"linecolor\": \"white\", \"showbackground\": true, \"ticks\": \"\", \"zerolinecolor\": \"white\"}}, \"shapedefaults\": {\"line\": {\"color\": \"#2a3f5f\"}}, \"ternary\": {\"aaxis\": {\"gridcolor\": \"white\", \"linecolor\": \"white\", \"ticks\": \"\"}, \"baxis\": {\"gridcolor\": \"white\", \"linecolor\": \"white\", \"ticks\": \"\"}, \"bgcolor\": \"#E5ECF6\", \"caxis\": {\"gridcolor\": \"white\", \"linecolor\": \"white\", \"ticks\": \"\"}}, \"title\": {\"x\": 0.05}, \"xaxis\": {\"automargin\": true, \"gridcolor\": \"white\", \"linecolor\": \"white\", \"ticks\": \"\", \"title\": {\"standoff\": 15}, \"zerolinecolor\": \"white\", \"zerolinewidth\": 2}, \"yaxis\": {\"automargin\": true, \"gridcolor\": \"white\", \"linecolor\": \"white\", \"ticks\": \"\", \"title\": {\"standoff\": 15}, \"zerolinecolor\": \"white\", \"zerolinewidth\": 2}}}, \"title\": {\"text\": \"LoR Grafo de Sentimentos - Livro 1\"}, \"xaxis\": {\"showgrid\": false, \"showticklabels\": false, \"zeroline\": false}, \"yaxis\": {\"showgrid\": false, \"showticklabels\": false, \"zeroline\": false}},\n                        {\"responsive\": true}\n                    ).then(function(){\n                            \nvar gd = document.getElementById('555107ce-2543-4b67-bb9e-45f5c0262406');\nvar x = new MutationObserver(function (mutations, observer) {{\n        var display = window.getComputedStyle(gd).display;\n        if (!display || display === 'none') {{\n            console.log([gd, 'removed!']);\n            Plotly.purge(gd);\n            observer.disconnect();\n        }}\n}});\n\n// Listen for the removal of the full notebook cells\nvar notebookContainer = gd.closest('#notebook-container');\nif (notebookContainer) {{\n    x.observe(notebookContainer, {childList: true});\n}}\n\n// Listen for the clearing of the current output cell\nvar outputEl = gd.closest('.output');\nif (outputEl) {{\n    x.observe(outputEl, {childList: true});\n}}\n\n                        })\n                };\n                \n            </script>\n        </div>\n</body>\n</html>"
       },
       {
        "metadata": {
         "tags": []
        },
        "output_type": "display_data",
        "text/html": "<html>\n<head><meta charset=\"utf-8\" /></head>\n<body>\n    <div>\n            <script src=\"https://cdnjs.cloudflare.com/ajax/libs/mathjax/2.7.5/MathJax.js?config=TeX-AMS-MML_SVG\"></script><script type=\"text/javascript\">if (window.MathJax) {MathJax.Hub.Config({SVG: {font: \"STIX-Web\"}});}</script>\n                <script type=\"text/javascript\">window.PlotlyConfig = {MathJaxConfig: 'local'};</script>\n        <script src=\"https://cdn.plot.ly/plotly-latest.min.js\"></script>    \n            <div id=\"5bef124d-c73b-4aba-a7e8-b85289d0a384\" class=\"plotly-graph-div\" style=\"height:600px; width:100%;\"></div>\n            <script type=\"text/javascript\">\n                \n                    window.PLOTLYENV=window.PLOTLYENV || {};\n                    \n                if (document.getElementById(\"5bef124d-c73b-4aba-a7e8-b85289d0a384\")) {\n                    Plotly.newPlot(\n                        '5bef124d-c73b-4aba-a7e8-b85289d0a384',\n                        [{\"hoverinfo\": \"text\", \"line\": {\"shape\": \"spline\", \"width\": 5.320981634208613}, \"marker\": {\"color\": \"rgb(0.03137254901960784, 0.23695501730103807, 0.4919492502883507)\"}, \"mode\": \"lines\", \"opacity\": 1, \"text\": \"frodo-sam\", \"type\": \"scatter\", \"x\": [0.9999999808269097, 0.9510565217825223], \"y\": [1.9272299651099908e-08, 0.30901701589938146]}, {\"hoverinfo\": \"text\", \"line\": {\"shape\": \"spline\", \"width\": 4.93184032226929}, \"marker\": {\"color\": \"rgb(0.03137254901960784, 0.31003460207612454, 0.6004613610149943)\"}, \"mode\": \"lines\", \"opacity\": 1, \"text\": \"frodo-gandalf\", \"type\": \"scatter\", \"x\": [0.9999999808269097, 0.8090169870901412], \"y\": [1.9272299651099908e-08, 0.5877852519323634]}, {\"hoverinfo\": \"text\", \"line\": {\"shape\": \"spline\", \"width\": 4.323107089074033}, \"marker\": {\"color\": \"rgb(0.11172625913110343, 0.42049980776624374, 0.6921184159938486)\"}, \"mode\": \"lines\", \"opacity\": 1, \"text\": \"frodo-aragorn\", \"type\": \"scatter\", \"x\": [0.9999999808269097, 0.5877852327592731], \"y\": [1.9272299651099908e-08, 0.8090170062632316]}, {\"hoverinfo\": \"text\", \"line\": {\"shape\": \"spline\", \"width\": 4.6064473960994645}, \"marker\": {\"color\": \"rgb(0.07174163783160323, 0.3693194925028835, 0.6521337946943484)\"}, \"mode\": \"lines\", \"opacity\": 1, \"text\": \"frodo-pippin\", \"type\": \"scatter\", \"x\": [0.9999999808269097, 0.30901696692396924], \"y\": [1.9272299651099908e-08, 0.9510565409556127]}, {\"hoverinfo\": \"text\", \"line\": {\"shape\": \"spline\", \"width\": 4.39671390475901}, \"marker\": {\"color\": \"rgb(0.10249903883121878, 0.4086889657823914, 0.6828911956939638)\"}, \"mode\": \"lines\", \"opacity\": 1, \"text\": \"frodo-merry\", \"type\": \"scatter\", \"x\": [0.9999999808269097, -4.3612178183203966e-08], \"y\": [1.9272299651099908e-08, 1.0]}, {\"hoverinfo\": \"text\", \"line\": {\"shape\": \"spline\", \"width\": 3.275328024188183}, \"marker\": {\"color\": \"rgb(0.31115724721261057, 0.6082891195693964, 0.7968935024990389)\"}, \"mode\": \"lines\", \"opacity\": 1, \"text\": \"frodo-gollum\", \"type\": \"scatter\", \"x\": [0.9999999808269097, -0.30901702633019434], \"y\": [1.9272299651099908e-08, 0.951056481350969]}, {\"hoverinfo\": \"text\", \"line\": {\"shape\": \"spline\", \"width\": 3.4302269912950014}, \"marker\": {\"color\": \"rgb(0.2758477508650519, 0.5841753171856978, 0.783114186851211)\"}, \"mode\": \"lines\", \"opacity\": 1, \"text\": \"frodo-gimli\", \"type\": \"scatter\", \"x\": [0.9999999808269097, -0.5877851729562108], \"y\": [1.9272299651099908e-08, 0.8090170062632316]}, {\"hoverinfo\": \"text\", \"line\": {\"shape\": \"spline\", \"width\": 3.8393578534434583}, \"marker\": {\"color\": \"rgb(0.19538638985005768, 0.5091118800461361, 0.7437908496732026)\"}, \"mode\": \"lines\", \"opacity\": 1, \"text\": \"frodo-grey\", \"type\": \"scatter\", \"x\": [0.9999999808269097, -0.8090170464963663], \"y\": [1.9272299651099908e-08, 0.5877851923277198]}, {\"hoverinfo\": \"text\", \"line\": {\"shape\": \"spline\", \"width\": 4.979009439443868}, \"marker\": {\"color\": \"rgb(0.03137254901960784, 0.301914648212226, 0.588404459823145)\"}, \"mode\": \"lines\", \"opacity\": 1, \"text\": \"frodo-bilbo\", \"type\": \"scatter\", \"x\": [0.9999999808269097, -0.95105646197946], \"y\": [1.9272299651099908e-08, 0.30901704570170324]}, {\"hoverinfo\": \"text\", \"line\": {\"shape\": \"spline\", \"width\": 3.664267137630106}, \"marker\": {\"color\": \"rgb(0.2278662053056517, 0.54159169550173, 0.7605228758169935)\"}, \"mode\": \"lines\", \"opacity\": 1, \"text\": \"frodo-legolas\", \"type\": \"scatter\", \"x\": [0.9999999808269097, -0.999999980628491], \"y\": [1.9272299651099908e-08, -6.8150475237538e-08]}, {\"hoverinfo\": \"text\", \"line\": {\"shape\": \"spline\", \"width\": 0.0}, \"marker\": {\"color\": \"rgb(0.9686274509803922, 0.984313725490196, 1.0)\"}, \"mode\": \"lines\", \"opacity\": 1, \"text\": \"frodo-faramir\", \"type\": \"scatter\", \"x\": [0.9999999808269097, -0.9510565215841037], \"y\": [1.9272299651099908e-08, -0.3090169475524603]}, {\"hoverinfo\": \"text\", \"line\": {\"shape\": \"spline\", \"width\": 2.3241598233899414}, \"marker\": {\"color\": \"rgb(0.5545098039215688, 0.7564167627835449, 0.8683121876201461)\"}, \"mode\": \"lines\", \"opacity\": 1, \"text\": \"frodo-saruman\", \"type\": \"scatter\", \"x\": [0.9999999808269097, -0.8090169272870791], \"y\": [1.9272299651099908e-08, -0.5877853325970515]}, {\"hoverinfo\": \"text\", \"line\": {\"shape\": \"spline\", \"width\": 4.195772999114598}, \"marker\": {\"color\": \"rgb(0.13042675893886968, 0.4441522491349481, 0.710326797385621)\"}, \"mode\": \"lines\", \"opacity\": 1, \"text\": \"frodo-boromir\", \"type\": \"scatter\", \"x\": [0.9999999808269097, -0.5877850537469236], \"y\": [1.9272299651099908e-08, -0.8090170869279196]}, {\"hoverinfo\": \"text\", \"line\": {\"shape\": \"spline\", \"width\": 4.494376368301199}, \"marker\": {\"color\": \"rgb(0.087120338331411, 0.38900422914263744, 0.6675124951941561)\"}, \"mode\": \"lines\", \"opacity\": 1, \"text\": \"frodo-strider\", \"type\": \"scatter\", \"x\": [0.9999999808269097, -0.30901708593483795], \"y\": [1.9272299651099908e-08, -0.9510564428063698]}, {\"hoverinfo\": \"text\", \"line\": {\"shape\": \"spline\", \"width\": 3.4302269912950014}, \"marker\": {\"color\": \"rgb(0.2758477508650519, 0.5841753171856978, 0.783114186851211)\"}, \"mode\": \"lines\", \"opacity\": 1, \"text\": \"frodo-mordor\", \"type\": \"scatter\", \"x\": [0.9999999808269097, 1.2024089669798168e-08], \"y\": [1.9272299651099908e-08, -0.9999999614554007]}, {\"hoverinfo\": \"text\", \"line\": {\"shape\": \"spline\", \"width\": 2.3241598233899414}, \"marker\": {\"color\": \"rgb(0.5545098039215688, 0.7564167627835449, 0.8683121876201461)\"}, \"mode\": \"lines\", \"opacity\": 1, \"text\": \"frodo-rohan\", \"type\": \"scatter\", \"x\": [0.9999999808269097, 0.3090171159355783], \"y\": [1.9272299651099908e-08, -0.9510564428063698]}, {\"hoverinfo\": \"text\", \"line\": {\"shape\": \"spline\", \"width\": 3.7572727048986567}, \"marker\": {\"color\": \"rgb(0.2116262975778547, 0.5253517877739331, 0.7521568627450981)\"}, \"mode\": \"lines\", \"opacity\": 1, \"text\": \"frodo-elrond\", \"type\": \"scatter\", \"x\": [0.9999999808269097, 0.5877850539453422], \"y\": [1.9272299651099908e-08, -0.8090170869279196]}, {\"hoverinfo\": \"text\", \"line\": {\"shape\": \"spline\", \"width\": 0.0}, \"marker\": {\"color\": \"rgb(0.9686274509803922, 0.984313725490196, 1.0)\"}, \"mode\": \"lines\", \"opacity\": 1, \"text\": \"frodo-treebeard\", \"type\": \"scatter\", \"x\": [0.9999999808269097, 0.8090169274854976], \"y\": [1.9272299651099908e-08, -0.5877852729924078]}, {\"hoverinfo\": \"text\", \"line\": {\"shape\": \"spline\", \"width\": 0.0}, \"marker\": {\"color\": \"rgb(0.9686274509803922, 0.984313725490196, 1.0)\"}, \"mode\": \"lines\", \"opacity\": 1, \"text\": \"frodo-isengard\", \"type\": \"scatter\", \"x\": [0.9999999808269097, 0.9510565217825223], \"y\": [1.9272299651099908e-08, -0.3090169177501385]}, {\"hoverinfo\": \"text\", \"line\": {\"shape\": \"spline\", \"width\": 2.796596538497057}, \"marker\": {\"color\": \"rgb(0.42274509803921567, 0.684075355632449, 0.8398923490965013)\"}, \"mode\": \"lines\", \"opacity\": 1, \"text\": \"sam-gandalf\", \"type\": \"scatter\", \"x\": [0.9510565217825223, 0.8090169870901412], \"y\": [0.30901701589938146, 0.5877852519323634]}, {\"hoverinfo\": \"text\", \"line\": {\"shape\": \"spline\", \"width\": 3.9128196976950558}, \"marker\": {\"color\": \"rgb(0.18320645905420993, 0.49693194925028833, 0.7375163398692811)\"}, \"mode\": \"lines\", \"opacity\": 1, \"text\": \"sam-aragorn\", \"type\": \"scatter\", \"x\": [0.9510565217825223, 0.5877852327592731], \"y\": [0.30901701589938146, 0.8090170062632316]}, {\"hoverinfo\": \"text\", \"line\": {\"shape\": \"spline\", \"width\": 4.881261602658734}, \"marker\": {\"color\": \"rgb(0.03175701653210304, 0.31813917723952323, 0.6121491733948482)\"}, \"mode\": \"lines\", \"opacity\": 1, \"text\": \"sam-pippin\", \"type\": \"scatter\", \"x\": [0.9510565217825223, 0.30901696692396924], \"y\": [0.30901701589938146, 0.9510565409556127]}, {\"hoverinfo\": \"text\", \"line\": {\"shape\": \"spline\", \"width\": 4.283181800119896}, \"marker\": {\"color\": \"rgb(0.11787773933102653, 0.4283737024221453, 0.6982698961937717)\"}, \"mode\": \"lines\", \"opacity\": 1, \"text\": \"sam-merry\", \"type\": \"scatter\", \"x\": [0.9510565217825223, -4.3612178183203966e-08], \"y\": [0.30901701589938146, 1.0]}, {\"hoverinfo\": \"text\", \"line\": {\"shape\": \"spline\", \"width\": 0.0}, \"marker\": {\"color\": \"rgb(0.9686274509803922, 0.984313725490196, 1.0)\"}, \"mode\": \"lines\", \"opacity\": 1, \"text\": \"sam-gollum\", \"type\": \"scatter\", \"x\": [0.9510565217825223, -0.30901702633019434], \"y\": [0.30901701589938146, 0.951056481350969]}, {\"hoverinfo\": \"text\", \"line\": {\"shape\": \"spline\", \"width\": 3.076114408270707}, \"marker\": {\"color\": \"rgb(0.3565551710880431, 0.6392925797770088, 0.8146097654748174)\"}, \"mode\": \"lines\", \"opacity\": 1, \"text\": \"sam-gimli\", \"type\": \"scatter\", \"x\": [0.9510565217825223, -0.5877851729562108], \"y\": [0.30901701589938146, 0.8090170062632316]}, {\"hoverinfo\": \"text\", \"line\": {\"shape\": \"spline\", \"width\": 0.0}, \"marker\": {\"color\": \"rgb(0.9686274509803922, 0.984313725490196, 1.0)\"}, \"mode\": \"lines\", \"opacity\": 1, \"text\": \"sam-grey\", \"type\": \"scatter\", \"x\": [0.9510565217825223, -0.8090170464963663], \"y\": [0.30901701589938146, 0.5877851923277198]}, {\"hoverinfo\": \"text\", \"line\": {\"shape\": \"spline\", \"width\": 3.5569830554891237}, \"marker\": {\"color\": \"rgb(0.24816608996539793, 0.5618915801614763, 0.7709803921568628)\"}, \"mode\": \"lines\", \"opacity\": 1, \"text\": \"sam-bilbo\", \"type\": \"scatter\", \"x\": [0.9510565217825223, -0.95105646197946], \"y\": [0.30901701589938146, 0.30901704570170324]}, {\"hoverinfo\": \"text\", \"line\": {\"shape\": \"spline\", \"width\": 3.076114408270707}, \"marker\": {\"color\": \"rgb(0.3565551710880431, 0.6392925797770088, 0.8146097654748174)\"}, \"mode\": \"lines\", \"opacity\": 1, \"text\": \"sam-legolas\", \"type\": \"scatter\", \"x\": [0.9510565217825223, -0.999999980628491], \"y\": [0.30901701589938146, -6.8150475237538e-08]}, {\"hoverinfo\": \"text\", \"line\": {\"shape\": \"spline\", \"width\": 0.0}, \"marker\": {\"color\": \"rgb(0.9686274509803922, 0.984313725490196, 1.0)\"}, \"mode\": \"lines\", \"opacity\": 1, \"text\": \"sam-faramir\", \"type\": \"scatter\", \"x\": [0.9510565217825223, -0.9510565215841037], \"y\": [0.30901701589938146, -0.3090169475524603]}, {\"hoverinfo\": \"text\", \"line\": {\"shape\": \"spline\", \"width\": 0.0}, \"marker\": {\"color\": \"rgb(0.9686274509803922, 0.984313725490196, 1.0)\"}, \"mode\": \"lines\", \"opacity\": 1, \"text\": \"sam-saruman\", \"type\": \"scatter\", \"x\": [0.9510565217825223, -0.8090169272870791], \"y\": [0.30901701589938146, -0.5877853325970515]}, {\"hoverinfo\": \"text\", \"line\": {\"shape\": \"spline\", \"width\": 3.275328024188183}, \"marker\": {\"color\": \"rgb(0.31115724721261057, 0.6082891195693964, 0.7968935024990389)\"}, \"mode\": \"lines\", \"opacity\": 1, \"text\": \"sam-boromir\", \"type\": \"scatter\", \"x\": [0.9510565217825223, -0.5877850537469236], \"y\": [0.30901701589938146, -0.8090170869279196]}, {\"hoverinfo\": \"text\", \"line\": {\"shape\": \"spline\", \"width\": 4.0958709164328635}, \"marker\": {\"color\": \"rgb(0.14666666666666667, 0.46039215686274504, 0.7186928104575163)\"}, \"mode\": \"lines\", \"opacity\": 1, \"text\": \"sam-strider\", \"type\": \"scatter\", \"x\": [0.9510565217825223, -0.30901708593483795], \"y\": [0.30901701589938146, -0.9510564428063698]}, {\"hoverinfo\": \"text\", \"line\": {\"shape\": \"spline\", \"width\": 2.3241598233899414}, \"marker\": {\"color\": \"rgb(0.5545098039215688, 0.7564167627835449, 0.8683121876201461)\"}, \"mode\": \"lines\", \"opacity\": 1, \"text\": \"sam-mordor\", \"type\": \"scatter\", \"x\": [0.9510565217825223, 1.2024089669798168e-08], \"y\": [0.30901701589938146, -0.9999999614554007]}, {\"hoverinfo\": \"text\", \"line\": {\"shape\": \"spline\", \"width\": 0.0}, \"marker\": {\"color\": \"rgb(0.9686274509803922, 0.984313725490196, 1.0)\"}, \"mode\": \"lines\", \"opacity\": 1, \"text\": \"sam-rohan\", \"type\": \"scatter\", \"x\": [0.9510565217825223, 0.3090171159355783], \"y\": [0.30901701589938146, -0.9510564428063698]}, {\"hoverinfo\": \"text\", \"line\": {\"shape\": \"spline\", \"width\": 2.3241598233899414}, \"marker\": {\"color\": \"rgb(0.5545098039215688, 0.7564167627835449, 0.8683121876201461)\"}, \"mode\": \"lines\", \"opacity\": 1, \"text\": \"sam-elrond\", \"type\": \"scatter\", \"x\": [0.9510565217825223, 0.5877850539453422], \"y\": [0.30901701589938146, -0.8090170869279196]}, {\"hoverinfo\": \"text\", \"line\": {\"shape\": \"spline\", \"width\": 0.0}, \"marker\": {\"color\": \"rgb(0.9686274509803922, 0.984313725490196, 1.0)\"}, \"mode\": \"lines\", \"opacity\": 1, \"text\": \"sam-treebeard\", \"type\": \"scatter\", \"x\": [0.9510565217825223, 0.8090169274854976], \"y\": [0.30901701589938146, -0.5877852729924078]}, {\"hoverinfo\": \"text\", \"line\": {\"shape\": \"spline\", \"width\": 0.0}, \"marker\": {\"color\": \"rgb(0.9686274509803922, 0.984313725490196, 1.0)\"}, \"mode\": \"lines\", \"opacity\": 1, \"text\": \"sam-isengard\", \"type\": \"scatter\", \"x\": [0.9510565217825223, 0.9510565217825223], \"y\": [0.30901701589938146, -0.3090169177501385]}, {\"hoverinfo\": \"text\", \"line\": {\"shape\": \"spline\", \"width\": 3.8393578534434583}, \"marker\": {\"color\": \"rgb(0.19538638985005768, 0.5091118800461361, 0.7437908496732026)\"}, \"mode\": \"lines\", \"opacity\": 1, \"text\": \"gandalf-aragorn\", \"type\": \"scatter\", \"x\": [0.8090169870901412, 0.5877852327592731], \"y\": [0.5877852519323634, 0.8090170062632316]}, {\"hoverinfo\": \"text\", \"line\": {\"shape\": \"spline\", \"width\": 3.4302269912950014}, \"marker\": {\"color\": \"rgb(0.2758477508650519, 0.5841753171856978, 0.783114186851211)\"}, \"mode\": \"lines\", \"opacity\": 1, \"text\": \"gandalf-pippin\", \"type\": \"scatter\", \"x\": [0.8090169870901412, 0.30901696692396924], \"y\": [0.5877852519323634, 0.9510565409556127]}, {\"hoverinfo\": \"text\", \"line\": {\"shape\": \"spline\", \"width\": 3.076114408270707}, \"marker\": {\"color\": \"rgb(0.3565551710880431, 0.6392925797770088, 0.8146097654748174)\"}, \"mode\": \"lines\", \"opacity\": 1, \"text\": \"gandalf-merry\", \"type\": \"scatter\", \"x\": [0.8090169870901412, -4.3612178183203966e-08], \"y\": [0.5877852519323634, 1.0]}, {\"hoverinfo\": \"text\", \"line\": {\"shape\": \"spline\", \"width\": 2.3241598233899414}, \"marker\": {\"color\": \"rgb(0.5545098039215688, 0.7564167627835449, 0.8683121876201461)\"}, \"mode\": \"lines\", \"opacity\": 1, \"text\": \"gandalf-gollum\", \"type\": \"scatter\", \"x\": [0.8090169870901412, -0.30901702633019434], \"y\": [0.5877852519323634, 0.951056481350969]}, {\"hoverinfo\": \"text\", \"line\": {\"shape\": \"spline\", \"width\": 3.5569830554891237}, \"marker\": {\"color\": \"rgb(0.24816608996539793, 0.5618915801614763, 0.7709803921568628)\"}, \"mode\": \"lines\", \"opacity\": 1, \"text\": \"gandalf-gimli\", \"type\": \"scatter\", \"x\": [0.8090169870901412, -0.5877851729562108], \"y\": [0.5877852519323634, 0.8090170062632316]}, {\"hoverinfo\": \"text\", \"line\": {\"shape\": \"spline\", \"width\": 4.040008786191011}, \"marker\": {\"color\": \"rgb(0.15884659746251442, 0.4725720876585928, 0.724967320261438)\"}, \"mode\": \"lines\", \"opacity\": 1, \"text\": \"gandalf-grey\", \"type\": \"scatter\", \"x\": [0.8090169870901412, -0.8090170464963663], \"y\": [0.5877852519323634, 0.5877851923277198]}, {\"hoverinfo\": \"text\", \"line\": {\"shape\": \"spline\", \"width\": 4.360877544958936}, \"marker\": {\"color\": \"rgb(0.10557477893118032, 0.41262591311034214, 0.6859669357939254)\"}, \"mode\": \"lines\", \"opacity\": 1, \"text\": \"gandalf-bilbo\", \"type\": \"scatter\", \"x\": [0.8090169870901412, -0.95105646197946], \"y\": [0.5877852519323634, 0.30901704570170324]}, {\"hoverinfo\": \"text\", \"line\": {\"shape\": \"spline\", \"width\": 2.3241598233899414}, \"marker\": {\"color\": \"rgb(0.5545098039215688, 0.7564167627835449, 0.8683121876201461)\"}, \"mode\": \"lines\", \"opacity\": 1, \"text\": \"gandalf-legolas\", \"type\": \"scatter\", \"x\": [0.8090169870901412, -0.999999980628491], \"y\": [0.5877852519323634, -6.8150475237538e-08]}, {\"hoverinfo\": \"text\", \"line\": {\"shape\": \"spline\", \"width\": 0.0}, \"marker\": {\"color\": \"rgb(0.9686274509803922, 0.984313725490196, 1.0)\"}, \"mode\": \"lines\", \"opacity\": 1, \"text\": \"gandalf-faramir\", \"type\": \"scatter\", \"x\": [0.8090169870901412, -0.9510565215841037], \"y\": [0.5877852519323634, -0.3090169475524603]}, {\"hoverinfo\": \"text\", \"line\": {\"shape\": \"spline\", \"width\": 2.796596538497057}, \"marker\": {\"color\": \"rgb(0.42274509803921567, 0.684075355632449, 0.8398923490965013)\"}, \"mode\": \"lines\", \"opacity\": 1, \"text\": \"gandalf-saruman\", \"type\": \"scatter\", \"x\": [0.8090169870901412, -0.8090169272870791], \"y\": [0.5877852519323634, -0.5877853325970515]}, {\"hoverinfo\": \"text\", \"line\": {\"shape\": \"spline\", \"width\": 3.664267137630106}, \"marker\": {\"color\": \"rgb(0.2278662053056517, 0.54159169550173, 0.7605228758169935)\"}, \"mode\": \"lines\", \"opacity\": 1, \"text\": \"gandalf-boromir\", \"type\": \"scatter\", \"x\": [0.8090169870901412, -0.5877850537469236], \"y\": [0.5877852519323634, -0.8090170869279196]}, {\"hoverinfo\": \"text\", \"line\": {\"shape\": \"spline\", \"width\": 3.076114408270707}, \"marker\": {\"color\": \"rgb(0.3565551710880431, 0.6392925797770088, 0.8146097654748174)\"}, \"mode\": \"lines\", \"opacity\": 1, \"text\": \"gandalf-strider\", \"type\": \"scatter\", \"x\": [0.8090169870901412, -0.30901708593483795], \"y\": [0.5877852519323634, -0.9510564428063698]}, {\"hoverinfo\": \"text\", \"line\": {\"shape\": \"spline\", \"width\": 2.796596538497057}, \"marker\": {\"color\": \"rgb(0.42274509803921567, 0.684075355632449, 0.8398923490965013)\"}, \"mode\": \"lines\", \"opacity\": 1, \"text\": \"gandalf-mordor\", \"type\": \"scatter\", \"x\": [0.8090169870901412, 1.2024089669798168e-08], \"y\": [0.5877852519323634, -0.9999999614554007]}, {\"hoverinfo\": \"text\", \"line\": {\"shape\": \"spline\", \"width\": 0.0}, \"marker\": {\"color\": \"rgb(0.9686274509803922, 0.984313725490196, 1.0)\"}, \"mode\": \"lines\", \"opacity\": 1, \"text\": \"gandalf-rohan\", \"type\": \"scatter\", \"x\": [0.8090169870901412, 0.3090171159355783], \"y\": [0.5877852519323634, -0.9510564428063698]}, {\"hoverinfo\": \"text\", \"line\": {\"shape\": \"spline\", \"width\": 4.0958709164328635}, \"marker\": {\"color\": \"rgb(0.14666666666666667, 0.46039215686274504, 0.7186928104575163)\"}, \"mode\": \"lines\", \"opacity\": 1, \"text\": \"gandalf-elrond\", \"type\": \"scatter\", \"x\": [0.8090169870901412, 0.5877850539453422], \"y\": [0.5877852519323634, -0.8090170869279196]}, {\"hoverinfo\": \"text\", \"line\": {\"shape\": \"spline\", \"width\": 0.0}, \"marker\": {\"color\": \"rgb(0.9686274509803922, 0.984313725490196, 1.0)\"}, \"mode\": \"lines\", \"opacity\": 1, \"text\": \"gandalf-treebeard\", \"type\": \"scatter\", \"x\": [0.8090169870901412, 0.8090169274854976], \"y\": [0.5877852519323634, -0.5877852729924078]}, {\"hoverinfo\": \"text\", \"line\": {\"shape\": \"spline\", \"width\": 0.0}, \"marker\": {\"color\": \"rgb(0.9686274509803922, 0.984313725490196, 1.0)\"}, \"mode\": \"lines\", \"opacity\": 1, \"text\": \"gandalf-isengard\", \"type\": \"scatter\", \"x\": [0.8090169870901412, 0.9510565217825223], \"y\": [0.5877852519323634, -0.3090169177501385]}, {\"hoverinfo\": \"text\", \"line\": {\"shape\": \"spline\", \"width\": 3.076114408270707}, \"marker\": {\"color\": \"rgb(0.3565551710880431, 0.6392925797770088, 0.8146097654748174)\"}, \"mode\": \"lines\", \"opacity\": 1, \"text\": \"aragorn-pippin\", \"type\": \"scatter\", \"x\": [0.5877852327592731, 0.30901696692396924], \"y\": [0.8090170062632316, 0.9510565409556127]}, {\"hoverinfo\": \"text\", \"line\": {\"shape\": \"spline\", \"width\": 3.5569830554891237}, \"marker\": {\"color\": \"rgb(0.24816608996539793, 0.5618915801614763, 0.7709803921568628)\"}, \"mode\": \"lines\", \"opacity\": 1, \"text\": \"aragorn-merry\", \"type\": \"scatter\", \"x\": [0.5877852327592731, -4.3612178183203966e-08], \"y\": [0.8090170062632316, 1.0]}, {\"hoverinfo\": \"text\", \"line\": {\"shape\": \"spline\", \"width\": 3.076114408270707}, \"marker\": {\"color\": \"rgb(0.3565551710880431, 0.6392925797770088, 0.8146097654748174)\"}, \"mode\": \"lines\", \"opacity\": 1, \"text\": \"aragorn-gollum\", \"type\": \"scatter\", \"x\": [0.5877852327592731, -0.30901702633019434], \"y\": [0.8090170062632316, 0.951056481350969]}, {\"hoverinfo\": \"text\", \"line\": {\"shape\": \"spline\", \"width\": 3.275328024188183}, \"marker\": {\"color\": \"rgb(0.31115724721261057, 0.6082891195693964, 0.7968935024990389)\"}, \"mode\": \"lines\", \"opacity\": 1, \"text\": \"aragorn-gimli\", \"type\": \"scatter\", \"x\": [0.5877852327592731, -0.5877851729562108], \"y\": [0.8090170062632316, 0.8090170062632316]}, {\"hoverinfo\": \"text\", \"line\": {\"shape\": \"spline\", \"width\": 0.0}, \"marker\": {\"color\": \"rgb(0.9686274509803922, 0.984313725490196, 1.0)\"}, \"mode\": \"lines\", \"opacity\": 1, \"text\": \"aragorn-grey\", \"type\": \"scatter\", \"x\": [0.5877852327592731, -0.8090170464963663], \"y\": [0.8090170062632316, 0.5877851923277198]}, {\"hoverinfo\": \"text\", \"line\": {\"shape\": \"spline\", \"width\": 0.0}, \"marker\": {\"color\": \"rgb(0.9686274509803922, 0.984313725490196, 1.0)\"}, \"mode\": \"lines\", \"opacity\": 1, \"text\": \"aragorn-bilbo\", \"type\": \"scatter\", \"x\": [0.5877852327592731, -0.95105646197946], \"y\": [0.8090170062632316, 0.30901704570170324]}, {\"hoverinfo\": \"text\", \"line\": {\"shape\": \"spline\", \"width\": 3.7572727048986567}, \"marker\": {\"color\": \"rgb(0.2116262975778547, 0.5253517877739331, 0.7521568627450981)\"}, \"mode\": \"lines\", \"opacity\": 1, \"text\": \"aragorn-legolas\", \"type\": \"scatter\", \"x\": [0.5877852327592731, -0.999999980628491], \"y\": [0.8090170062632316, -6.8150475237538e-08]}, {\"hoverinfo\": \"text\", \"line\": {\"shape\": \"spline\", \"width\": 0.0}, \"marker\": {\"color\": \"rgb(0.9686274509803922, 0.984313725490196, 1.0)\"}, \"mode\": \"lines\", \"opacity\": 1, \"text\": \"aragorn-faramir\", \"type\": \"scatter\", \"x\": [0.5877852327592731, -0.9510565215841037], \"y\": [0.8090170062632316, -0.3090169475524603]}, {\"hoverinfo\": \"text\", \"line\": {\"shape\": \"spline\", \"width\": 0.0}, \"marker\": {\"color\": \"rgb(0.9686274509803922, 0.984313725490196, 1.0)\"}, \"mode\": \"lines\", \"opacity\": 1, \"text\": \"aragorn-saruman\", \"type\": \"scatter\", \"x\": [0.5877852327592731, -0.8090169272870791], \"y\": [0.8090170062632316, -0.5877853325970515]}, {\"hoverinfo\": \"text\", \"line\": {\"shape\": \"spline\", \"width\": 4.430804633865887}, \"marker\": {\"color\": \"rgb(0.09634755863129565, 0.4008150711264898, 0.6767397154940408)\"}, \"mode\": \"lines\", \"opacity\": 1, \"text\": \"aragorn-boromir\", \"type\": \"scatter\", \"x\": [0.5877852327592731, -0.5877850537469236], \"y\": [0.8090170062632316, -0.8090170869279196]}, {\"hoverinfo\": \"text\", \"line\": {\"shape\": \"spline\", \"width\": 0.0}, \"marker\": {\"color\": \"rgb(0.9686274509803922, 0.984313725490196, 1.0)\"}, \"mode\": \"lines\", \"opacity\": 1, \"text\": \"aragorn-strider\", \"type\": \"scatter\", \"x\": [0.5877852327592731, -0.30901708593483795], \"y\": [0.8090170062632316, -0.9510564428063698]}, {\"hoverinfo\": \"text\", \"line\": {\"shape\": \"spline\", \"width\": 3.076114408270707}, \"marker\": {\"color\": \"rgb(0.3565551710880431, 0.6392925797770088, 0.8146097654748174)\"}, \"mode\": \"lines\", \"opacity\": 1, \"text\": \"aragorn-mordor\", \"type\": \"scatter\", \"x\": [0.5877852327592731, 1.2024089669798168e-08], \"y\": [0.8090170062632316, -0.9999999614554007]}, {\"hoverinfo\": \"text\", \"line\": {\"shape\": \"spline\", \"width\": 0.0}, \"marker\": {\"color\": \"rgb(0.9686274509803922, 0.984313725490196, 1.0)\"}, \"mode\": \"lines\", \"opacity\": 1, \"text\": \"aragorn-rohan\", \"type\": \"scatter\", \"x\": [0.5877852327592731, 0.3090171159355783], \"y\": [0.8090170062632316, -0.9510564428063698]}, {\"hoverinfo\": \"text\", \"line\": {\"shape\": \"spline\", \"width\": 3.5569830554891237}, \"marker\": {\"color\": \"rgb(0.24816608996539793, 0.5618915801614763, 0.7709803921568628)\"}, \"mode\": \"lines\", \"opacity\": 1, \"text\": \"aragorn-elrond\", \"type\": \"scatter\", \"x\": [0.5877852327592731, 0.5877850539453422], \"y\": [0.8090170062632316, -0.8090170869279196]}, {\"hoverinfo\": \"text\", \"line\": {\"shape\": \"spline\", \"width\": 0.0}, \"marker\": {\"color\": \"rgb(0.9686274509803922, 0.984313725490196, 1.0)\"}, \"mode\": \"lines\", \"opacity\": 1, \"text\": \"aragorn-treebeard\", \"type\": \"scatter\", \"x\": [0.5877852327592731, 0.8090169274854976], \"y\": [0.8090170062632316, -0.5877852729924078]}, {\"hoverinfo\": \"text\", \"line\": {\"shape\": \"spline\", \"width\": 0.0}, \"marker\": {\"color\": \"rgb(0.9686274509803922, 0.984313725490196, 1.0)\"}, \"mode\": \"lines\", \"opacity\": 1, \"text\": \"aragorn-isengard\", \"type\": \"scatter\", \"x\": [0.5877852327592731, 0.9510565217825223], \"y\": [0.8090170062632316, -0.3090169177501385]}, {\"hoverinfo\": \"text\", \"line\": {\"shape\": \"spline\", \"width\": 4.863555948030478}, \"marker\": {\"color\": \"rgb(0.03483275663206459, 0.32207612456747403, 0.6152249134948098)\"}, \"mode\": \"lines\", \"opacity\": 1, \"text\": \"pippin-merry\", \"type\": \"scatter\", \"x\": [0.30901696692396924, -4.3612178183203966e-08], \"y\": [0.9510565409556127, 1.0]}, {\"hoverinfo\": \"text\", \"line\": {\"shape\": \"spline\", \"width\": 0.0}, \"marker\": {\"color\": \"rgb(0.9686274509803922, 0.984313725490196, 1.0)\"}, \"mode\": \"lines\", \"opacity\": 1, \"text\": \"pippin-gollum\", \"type\": \"scatter\", \"x\": [0.30901696692396924, -0.30901702633019434], \"y\": [0.9510565409556127, 0.951056481350969]}, {\"hoverinfo\": \"text\", \"line\": {\"shape\": \"spline\", \"width\": 2.3241598233899414}, \"marker\": {\"color\": \"rgb(0.5545098039215688, 0.7564167627835449, 0.8683121876201461)\"}, \"mode\": \"lines\", \"opacity\": 1, \"text\": \"pippin-gimli\", \"type\": \"scatter\", \"x\": [0.30901696692396924, -0.5877851729562108], \"y\": [0.9510565409556127, 0.8090170062632316]}, {\"hoverinfo\": \"text\", \"line\": {\"shape\": \"spline\", \"width\": 0.0}, \"marker\": {\"color\": \"rgb(0.9686274509803922, 0.984313725490196, 1.0)\"}, \"mode\": \"lines\", \"opacity\": 1, \"text\": \"pippin-grey\", \"type\": \"scatter\", \"x\": [0.30901696692396924, -0.8090170464963663], \"y\": [0.9510565409556127, 0.5877851923277198]}, {\"hoverinfo\": \"text\", \"line\": {\"shape\": \"spline\", \"width\": 3.275328024188183}, \"marker\": {\"color\": \"rgb(0.31115724721261057, 0.6082891195693964, 0.7968935024990389)\"}, \"mode\": \"lines\", \"opacity\": 1, \"text\": \"pippin-bilbo\", \"type\": \"scatter\", \"x\": [0.30901696692396924, -0.95105646197946], \"y\": [0.9510565409556127, 0.30901704570170324]}, {\"hoverinfo\": \"text\", \"line\": {\"shape\": \"spline\", \"width\": 3.076114408270707}, \"marker\": {\"color\": \"rgb(0.3565551710880431, 0.6392925797770088, 0.8146097654748174)\"}, \"mode\": \"lines\", \"opacity\": 1, \"text\": \"pippin-legolas\", \"type\": \"scatter\", \"x\": [0.30901696692396924, -0.999999980628491], \"y\": [0.9510565409556127, -6.8150475237538e-08]}, {\"hoverinfo\": \"text\", \"line\": {\"shape\": \"spline\", \"width\": 0.0}, \"marker\": {\"color\": \"rgb(0.9686274509803922, 0.984313725490196, 1.0)\"}, \"mode\": \"lines\", \"opacity\": 1, \"text\": \"pippin-faramir\", \"type\": \"scatter\", \"x\": [0.30901696692396924, -0.9510565215841037], \"y\": [0.9510565409556127, -0.3090169475524603]}, {\"hoverinfo\": \"text\", \"line\": {\"shape\": \"spline\", \"width\": 0.0}, \"marker\": {\"color\": \"rgb(0.9686274509803922, 0.984313725490196, 1.0)\"}, \"mode\": \"lines\", \"opacity\": 1, \"text\": \"pippin-saruman\", \"type\": \"scatter\", \"x\": [0.30901696692396924, -0.8090169272870791], \"y\": [0.9510565409556127, -0.5877853325970515]}, {\"hoverinfo\": \"text\", \"line\": {\"shape\": \"spline\", \"width\": 3.076114408270707}, \"marker\": {\"color\": \"rgb(0.3565551710880431, 0.6392925797770088, 0.8146097654748174)\"}, \"mode\": \"lines\", \"opacity\": 1, \"text\": \"pippin-boromir\", \"type\": \"scatter\", \"x\": [0.30901696692396924, -0.5877850537469236], \"y\": [0.9510565409556127, -0.8090170869279196]}, {\"hoverinfo\": \"text\", \"line\": {\"shape\": \"spline\", \"width\": 3.275328024188183}, \"marker\": {\"color\": \"rgb(0.31115724721261057, 0.6082891195693964, 0.7968935024990389)\"}, \"mode\": \"lines\", \"opacity\": 1, \"text\": \"pippin-strider\", \"type\": \"scatter\", \"x\": [0.30901696692396924, -0.30901708593483795], \"y\": [0.9510565409556127, -0.9510564428063698]}, {\"hoverinfo\": \"text\", \"line\": {\"shape\": \"spline\", \"width\": 0.0}, \"marker\": {\"color\": \"rgb(0.9686274509803922, 0.984313725490196, 1.0)\"}, \"mode\": \"lines\", \"opacity\": 1, \"text\": \"pippin-mordor\", \"type\": \"scatter\", \"x\": [0.30901696692396924, 1.2024089669798168e-08], \"y\": [0.9510565409556127, -0.9999999614554007]}, {\"hoverinfo\": \"text\", \"line\": {\"shape\": \"spline\", \"width\": 0.0}, \"marker\": {\"color\": \"rgb(0.9686274509803922, 0.984313725490196, 1.0)\"}, \"mode\": \"lines\", \"opacity\": 1, \"text\": \"pippin-rohan\", \"type\": \"scatter\", \"x\": [0.30901696692396924, 0.3090171159355783], \"y\": [0.9510565409556127, -0.9510564428063698]}, {\"hoverinfo\": \"text\", \"line\": {\"shape\": \"spline\", \"width\": 2.796596538497057}, \"marker\": {\"color\": \"rgb(0.42274509803921567, 0.684075355632449, 0.8398923490965013)\"}, \"mode\": \"lines\", \"opacity\": 1, \"text\": \"pippin-elrond\", \"type\": \"scatter\", \"x\": [0.30901696692396924, 0.5877850539453422], \"y\": [0.9510565409556127, -0.8090170869279196]}, {\"hoverinfo\": \"text\", \"line\": {\"shape\": \"spline\", \"width\": 0.0}, \"marker\": {\"color\": \"rgb(0.9686274509803922, 0.984313725490196, 1.0)\"}, \"mode\": \"lines\", \"opacity\": 1, \"text\": \"pippin-treebeard\", \"type\": \"scatter\", \"x\": [0.30901696692396924, 0.8090169274854976], \"y\": [0.9510565409556127, -0.5877852729924078]}, {\"hoverinfo\": \"text\", \"line\": {\"shape\": \"spline\", \"width\": 0.0}, \"marker\": {\"color\": \"rgb(0.9686274509803922, 0.984313725490196, 1.0)\"}, \"mode\": \"lines\", \"opacity\": 1, \"text\": \"pippin-isengard\", \"type\": \"scatter\", \"x\": [0.30901696692396924, 0.9510565217825223], \"y\": [0.9510565409556127, -0.3090169177501385]}, {\"hoverinfo\": \"text\", \"line\": {\"shape\": \"spline\", \"width\": 0.0}, \"marker\": {\"color\": \"rgb(0.9686274509803922, 0.984313725490196, 1.0)\"}, \"mode\": \"lines\", \"opacity\": 1, \"text\": \"merry-gollum\", \"type\": \"scatter\", \"x\": [-4.3612178183203966e-08, -0.30901702633019434], \"y\": [1.0, 0.951056481350969]}, {\"hoverinfo\": \"text\", \"line\": {\"shape\": \"spline\", \"width\": 2.3241598233899414}, \"marker\": {\"color\": \"rgb(0.5545098039215688, 0.7564167627835449, 0.8683121876201461)\"}, \"mode\": \"lines\", \"opacity\": 1, \"text\": \"merry-gimli\", \"type\": \"scatter\", \"x\": [-4.3612178183203966e-08, -0.5877851729562108], \"y\": [1.0, 0.8090170062632316]}, {\"hoverinfo\": \"text\", \"line\": {\"shape\": \"spline\", \"width\": 2.3241598233899414}, \"marker\": {\"color\": \"rgb(0.5545098039215688, 0.7564167627835449, 0.8683121876201461)\"}, \"mode\": \"lines\", \"opacity\": 1, \"text\": \"merry-grey\", \"type\": \"scatter\", \"x\": [-4.3612178183203966e-08, -0.8090170464963663], \"y\": [1.0, 0.5877851923277198]}, {\"hoverinfo\": \"text\", \"line\": {\"shape\": \"spline\", \"width\": 3.275328024188183}, \"marker\": {\"color\": \"rgb(0.31115724721261057, 0.6082891195693964, 0.7968935024990389)\"}, \"mode\": \"lines\", \"opacity\": 1, \"text\": \"merry-bilbo\", \"type\": \"scatter\", \"x\": [-4.3612178183203966e-08, -0.95105646197946], \"y\": [1.0, 0.30901704570170324]}, {\"hoverinfo\": \"text\", \"line\": {\"shape\": \"spline\", \"width\": 3.076114408270707}, \"marker\": {\"color\": \"rgb(0.3565551710880431, 0.6392925797770088, 0.8146097654748174)\"}, \"mode\": \"lines\", \"opacity\": 1, \"text\": \"merry-legolas\", \"type\": \"scatter\", \"x\": [-4.3612178183203966e-08, -0.999999980628491], \"y\": [1.0, -6.8150475237538e-08]}, {\"hoverinfo\": \"text\", \"line\": {\"shape\": \"spline\", \"width\": 0.0}, \"marker\": {\"color\": \"rgb(0.9686274509803922, 0.984313725490196, 1.0)\"}, \"mode\": \"lines\", \"opacity\": 1, \"text\": \"merry-faramir\", \"type\": \"scatter\", \"x\": [-4.3612178183203966e-08, -0.9510565215841037], \"y\": [1.0, -0.3090169475524603]}, {\"hoverinfo\": \"text\", \"line\": {\"shape\": \"spline\", \"width\": 0.0}, \"marker\": {\"color\": \"rgb(0.9686274509803922, 0.984313725490196, 1.0)\"}, \"mode\": \"lines\", \"opacity\": 1, \"text\": \"merry-saruman\", \"type\": \"scatter\", \"x\": [-4.3612178183203966e-08, -0.8090169272870791], \"y\": [1.0, -0.5877853325970515]}, {\"hoverinfo\": \"text\", \"line\": {\"shape\": \"spline\", \"width\": 3.076114408270707}, \"marker\": {\"color\": \"rgb(0.3565551710880431, 0.6392925797770088, 0.8146097654748174)\"}, \"mode\": \"lines\", \"opacity\": 1, \"text\": \"merry-boromir\", \"type\": \"scatter\", \"x\": [-4.3612178183203966e-08, -0.5877850537469236], \"y\": [1.0, -0.8090170869279196]}, {\"hoverinfo\": \"text\", \"line\": {\"shape\": \"spline\", \"width\": 3.9792990383550952}, \"marker\": {\"color\": \"rgb(0.17102652825836218, 0.4847520184544406, 0.7312418300653595)\"}, \"mode\": \"lines\", \"opacity\": 1, \"text\": \"merry-strider\", \"type\": \"scatter\", \"x\": [-4.3612178183203966e-08, -0.30901708593483795], \"y\": [1.0, -0.9510564428063698]}, {\"hoverinfo\": \"text\", \"line\": {\"shape\": \"spline\", \"width\": 0.0}, \"marker\": {\"color\": \"rgb(0.9686274509803922, 0.984313725490196, 1.0)\"}, \"mode\": \"lines\", \"opacity\": 1, \"text\": \"merry-mordor\", \"type\": \"scatter\", \"x\": [-4.3612178183203966e-08, 1.2024089669798168e-08], \"y\": [1.0, -0.9999999614554007]}, {\"hoverinfo\": \"text\", \"line\": {\"shape\": \"spline\", \"width\": 0.0}, \"marker\": {\"color\": \"rgb(0.9686274509803922, 0.984313725490196, 1.0)\"}, \"mode\": \"lines\", \"opacity\": 1, \"text\": \"merry-rohan\", \"type\": \"scatter\", \"x\": [-4.3612178183203966e-08, 0.3090171159355783], \"y\": [1.0, -0.9510564428063698]}, {\"hoverinfo\": \"text\", \"line\": {\"shape\": \"spline\", \"width\": 2.3241598233899414}, \"marker\": {\"color\": \"rgb(0.5545098039215688, 0.7564167627835449, 0.8683121876201461)\"}, \"mode\": \"lines\", \"opacity\": 1, \"text\": \"merry-elrond\", \"type\": \"scatter\", \"x\": [-4.3612178183203966e-08, 0.5877850539453422], \"y\": [1.0, -0.8090170869279196]}, {\"hoverinfo\": \"text\", \"line\": {\"shape\": \"spline\", \"width\": 0.0}, \"marker\": {\"color\": \"rgb(0.9686274509803922, 0.984313725490196, 1.0)\"}, \"mode\": \"lines\", \"opacity\": 1, \"text\": \"merry-treebeard\", \"type\": \"scatter\", \"x\": [-4.3612178183203966e-08, 0.8090169274854976], \"y\": [1.0, -0.5877852729924078]}, {\"hoverinfo\": \"text\", \"line\": {\"shape\": \"spline\", \"width\": 0.0}, \"marker\": {\"color\": \"rgb(0.9686274509803922, 0.984313725490196, 1.0)\"}, \"mode\": \"lines\", \"opacity\": 1, \"text\": \"merry-isengard\", \"type\": \"scatter\", \"x\": [-4.3612178183203966e-08, 0.9510565217825223], \"y\": [1.0, -0.3090169177501385]}, {\"hoverinfo\": \"text\", \"line\": {\"shape\": \"spline\", \"width\": 0.0}, \"marker\": {\"color\": \"rgb(0.9686274509803922, 0.984313725490196, 1.0)\"}, \"mode\": \"lines\", \"opacity\": 1, \"text\": \"gollum-gimli\", \"type\": \"scatter\", \"x\": [-0.30901702633019434, -0.5877851729562108], \"y\": [0.951056481350969, 0.8090170062632316]}, {\"hoverinfo\": \"text\", \"line\": {\"shape\": \"spline\", \"width\": 0.0}, \"marker\": {\"color\": \"rgb(0.9686274509803922, 0.984313725490196, 1.0)\"}, \"mode\": \"lines\", \"opacity\": 1, \"text\": \"gollum-grey\", \"type\": \"scatter\", \"x\": [-0.30901702633019434, -0.8090170464963663], \"y\": [0.951056481350969, 0.5877851923277198]}, {\"hoverinfo\": \"text\", \"line\": {\"shape\": \"spline\", \"width\": 3.8393578534434583}, \"marker\": {\"color\": \"rgb(0.19538638985005768, 0.5091118800461361, 0.7437908496732026)\"}, \"mode\": \"lines\", \"opacity\": 1, \"text\": \"gollum-bilbo\", \"type\": \"scatter\", \"x\": [-0.30901702633019434, -0.95105646197946], \"y\": [0.951056481350969, 0.30901704570170324]}, {\"hoverinfo\": \"text\", \"line\": {\"shape\": \"spline\", \"width\": 2.3241598233899414}, \"marker\": {\"color\": \"rgb(0.5545098039215688, 0.7564167627835449, 0.8683121876201461)\"}, \"mode\": \"lines\", \"opacity\": 1, \"text\": \"gollum-legolas\", \"type\": \"scatter\", \"x\": [-0.30901702633019434, -0.999999980628491], \"y\": [0.951056481350969, -6.8150475237538e-08]}, {\"hoverinfo\": \"text\", \"line\": {\"shape\": \"spline\", \"width\": 0.0}, \"marker\": {\"color\": \"rgb(0.9686274509803922, 0.984313725490196, 1.0)\"}, \"mode\": \"lines\", \"opacity\": 1, \"text\": \"gollum-faramir\", \"type\": \"scatter\", \"x\": [-0.30901702633019434, -0.9510565215841037], \"y\": [0.951056481350969, -0.3090169475524603]}, {\"hoverinfo\": \"text\", \"line\": {\"shape\": \"spline\", \"width\": 0.0}, \"marker\": {\"color\": \"rgb(0.9686274509803922, 0.984313725490196, 1.0)\"}, \"mode\": \"lines\", \"opacity\": 1, \"text\": \"gollum-saruman\", \"type\": \"scatter\", \"x\": [-0.30901702633019434, -0.8090169272870791], \"y\": [0.951056481350969, -0.5877853325970515]}, {\"hoverinfo\": \"text\", \"line\": {\"shape\": \"spline\", \"width\": 0.0}, \"marker\": {\"color\": \"rgb(0.9686274509803922, 0.984313725490196, 1.0)\"}, \"mode\": \"lines\", \"opacity\": 1, \"text\": \"gollum-boromir\", \"type\": \"scatter\", \"x\": [-0.30901702633019434, -0.5877850537469236], \"y\": [0.951056481350969, -0.8090170869279196]}, {\"hoverinfo\": \"text\", \"line\": {\"shape\": \"spline\", \"width\": 0.0}, \"marker\": {\"color\": \"rgb(0.9686274509803922, 0.984313725490196, 1.0)\"}, \"mode\": \"lines\", \"opacity\": 1, \"text\": \"gollum-strider\", \"type\": \"scatter\", \"x\": [-0.30901702633019434, -0.30901708593483795], \"y\": [0.951056481350969, -0.9510564428063698]}, {\"hoverinfo\": \"text\", \"line\": {\"shape\": \"spline\", \"width\": 0.0}, \"marker\": {\"color\": \"rgb(0.9686274509803922, 0.984313725490196, 1.0)\"}, \"mode\": \"lines\", \"opacity\": 1, \"text\": \"gollum-mordor\", \"type\": \"scatter\", \"x\": [-0.30901702633019434, 1.2024089669798168e-08], \"y\": [0.951056481350969, -0.9999999614554007]}, {\"hoverinfo\": \"text\", \"line\": {\"shape\": \"spline\", \"width\": 0.0}, \"marker\": {\"color\": \"rgb(0.9686274509803922, 0.984313725490196, 1.0)\"}, \"mode\": \"lines\", \"opacity\": 1, \"text\": \"gollum-rohan\", \"type\": \"scatter\", \"x\": [-0.30901702633019434, 0.3090171159355783], \"y\": [0.951056481350969, -0.9510564428063698]}, {\"hoverinfo\": \"text\", \"line\": {\"shape\": \"spline\", \"width\": 0.0}, \"marker\": {\"color\": \"rgb(0.9686274509803922, 0.984313725490196, 1.0)\"}, \"mode\": \"lines\", \"opacity\": 1, \"text\": \"gollum-elrond\", \"type\": \"scatter\", \"x\": [-0.30901702633019434, 0.5877850539453422], \"y\": [0.951056481350969, -0.8090170869279196]}, {\"hoverinfo\": \"text\", \"line\": {\"shape\": \"spline\", \"width\": 0.0}, \"marker\": {\"color\": \"rgb(0.9686274509803922, 0.984313725490196, 1.0)\"}, \"mode\": \"lines\", \"opacity\": 1, \"text\": \"gollum-treebeard\", \"type\": \"scatter\", \"x\": [-0.30901702633019434, 0.8090169274854976], \"y\": [0.951056481350969, -0.5877852729924078]}, {\"hoverinfo\": \"text\", \"line\": {\"shape\": \"spline\", \"width\": 0.0}, \"marker\": {\"color\": \"rgb(0.9686274509803922, 0.984313725490196, 1.0)\"}, \"mode\": \"lines\", \"opacity\": 1, \"text\": \"gollum-isengard\", \"type\": \"scatter\", \"x\": [-0.30901702633019434, 0.9510565217825223], \"y\": [0.951056481350969, -0.3090169177501385]}, {\"hoverinfo\": \"text\", \"line\": {\"shape\": \"spline\", \"width\": 0.0}, \"marker\": {\"color\": \"rgb(0.9686274509803922, 0.984313725490196, 1.0)\"}, \"mode\": \"lines\", \"opacity\": 1, \"text\": \"gimli-grey\", \"type\": \"scatter\", \"x\": [-0.5877851729562108, -0.8090170464963663], \"y\": [0.8090170062632316, 0.5877851923277198]}, {\"hoverinfo\": \"text\", \"line\": {\"shape\": \"spline\", \"width\": 0.0}, \"marker\": {\"color\": \"rgb(0.9686274509803922, 0.984313725490196, 1.0)\"}, \"mode\": \"lines\", \"opacity\": 1, \"text\": \"gimli-bilbo\", \"type\": \"scatter\", \"x\": [-0.5877851729562108, -0.95105646197946], \"y\": [0.8090170062632316, 0.30901704570170324]}, {\"hoverinfo\": \"text\", \"line\": {\"shape\": \"spline\", \"width\": 3.7572727048986567}, \"marker\": {\"color\": \"rgb(0.2116262975778547, 0.5253517877739331, 0.7521568627450981)\"}, \"mode\": \"lines\", \"opacity\": 1, \"text\": \"gimli-legolas\", \"type\": \"scatter\", \"x\": [-0.5877851729562108, -0.999999980628491], \"y\": [0.8090170062632316, -6.8150475237538e-08]}, {\"hoverinfo\": \"text\", \"line\": {\"shape\": \"spline\", \"width\": 0.0}, \"marker\": {\"color\": \"rgb(0.9686274509803922, 0.984313725490196, 1.0)\"}, \"mode\": \"lines\", \"opacity\": 1, \"text\": \"gimli-faramir\", \"type\": \"scatter\", \"x\": [-0.5877851729562108, -0.9510565215841037], \"y\": [0.8090170062632316, -0.3090169475524603]}, {\"hoverinfo\": \"text\", \"line\": {\"shape\": \"spline\", \"width\": 0.0}, \"marker\": {\"color\": \"rgb(0.9686274509803922, 0.984313725490196, 1.0)\"}, \"mode\": \"lines\", \"opacity\": 1, \"text\": \"gimli-saruman\", \"type\": \"scatter\", \"x\": [-0.5877851729562108, -0.8090169272870791], \"y\": [0.8090170062632316, -0.5877853325970515]}, {\"hoverinfo\": \"text\", \"line\": {\"shape\": \"spline\", \"width\": 2.796596538497057}, \"marker\": {\"color\": \"rgb(0.42274509803921567, 0.684075355632449, 0.8398923490965013)\"}, \"mode\": \"lines\", \"opacity\": 1, \"text\": \"gimli-boromir\", \"type\": \"scatter\", \"x\": [-0.5877851729562108, -0.5877850537469236], \"y\": [0.8090170062632316, -0.8090170869279196]}, {\"hoverinfo\": \"text\", \"line\": {\"shape\": \"spline\", \"width\": 0.0}, \"marker\": {\"color\": \"rgb(0.9686274509803922, 0.984313725490196, 1.0)\"}, \"mode\": \"lines\", \"opacity\": 1, \"text\": \"gimli-strider\", \"type\": \"scatter\", \"x\": [-0.5877851729562108, -0.30901708593483795], \"y\": [0.8090170062632316, -0.9510564428063698]}, {\"hoverinfo\": \"text\", \"line\": {\"shape\": \"spline\", \"width\": 0.0}, \"marker\": {\"color\": \"rgb(0.9686274509803922, 0.984313725490196, 1.0)\"}, \"mode\": \"lines\", \"opacity\": 1, \"text\": \"gimli-mordor\", \"type\": \"scatter\", \"x\": [-0.5877851729562108, 1.2024089669798168e-08], \"y\": [0.8090170062632316, -0.9999999614554007]}, {\"hoverinfo\": \"text\", \"line\": {\"shape\": \"spline\", \"width\": 0.0}, \"marker\": {\"color\": \"rgb(0.9686274509803922, 0.984313725490196, 1.0)\"}, \"mode\": \"lines\", \"opacity\": 1, \"text\": \"gimli-rohan\", \"type\": \"scatter\", \"x\": [-0.5877851729562108, 0.3090171159355783], \"y\": [0.8090170062632316, -0.9510564428063698]}, {\"hoverinfo\": \"text\", \"line\": {\"shape\": \"spline\", \"width\": 0.0}, \"marker\": {\"color\": \"rgb(0.9686274509803922, 0.984313725490196, 1.0)\"}, \"mode\": \"lines\", \"opacity\": 1, \"text\": \"gimli-elrond\", \"type\": \"scatter\", \"x\": [-0.5877851729562108, 0.5877850539453422], \"y\": [0.8090170062632316, -0.8090170869279196]}, {\"hoverinfo\": \"text\", \"line\": {\"shape\": \"spline\", \"width\": 0.0}, \"marker\": {\"color\": \"rgb(0.9686274509803922, 0.984313725490196, 1.0)\"}, \"mode\": \"lines\", \"opacity\": 1, \"text\": \"gimli-treebeard\", \"type\": \"scatter\", \"x\": [-0.5877851729562108, 0.8090169274854976], \"y\": [0.8090170062632316, -0.5877852729924078]}, {\"hoverinfo\": \"text\", \"line\": {\"shape\": \"spline\", \"width\": 0.0}, \"marker\": {\"color\": \"rgb(0.9686274509803922, 0.984313725490196, 1.0)\"}, \"mode\": \"lines\", \"opacity\": 1, \"text\": \"gimli-isengard\", \"type\": \"scatter\", \"x\": [-0.5877851729562108, 0.9510565217825223], \"y\": [0.8090170062632316, -0.3090169177501385]}, {\"hoverinfo\": \"text\", \"line\": {\"shape\": \"spline\", \"width\": 2.3241598233899414}, \"marker\": {\"color\": \"rgb(0.5545098039215688, 0.7564167627835449, 0.8683121876201461)\"}, \"mode\": \"lines\", \"opacity\": 1, \"text\": \"grey-bilbo\", \"type\": \"scatter\", \"x\": [-0.8090170464963663, -0.95105646197946], \"y\": [0.5877851923277198, 0.30901704570170324]}, {\"hoverinfo\": \"text\", \"line\": {\"shape\": \"spline\", \"width\": 2.3241598233899414}, \"marker\": {\"color\": \"rgb(0.5545098039215688, 0.7564167627835449, 0.8683121876201461)\"}, \"mode\": \"lines\", \"opacity\": 1, \"text\": \"grey-legolas\", \"type\": \"scatter\", \"x\": [-0.8090170464963663, -0.999999980628491], \"y\": [0.5877851923277198, -6.8150475237538e-08]}, {\"hoverinfo\": \"text\", \"line\": {\"shape\": \"spline\", \"width\": 0.0}, \"marker\": {\"color\": \"rgb(0.9686274509803922, 0.984313725490196, 1.0)\"}, \"mode\": \"lines\", \"opacity\": 1, \"text\": \"grey-faramir\", \"type\": \"scatter\", \"x\": [-0.8090170464963663, -0.9510565215841037], \"y\": [0.5877851923277198, -0.3090169475524603]}, {\"hoverinfo\": \"text\", \"line\": {\"shape\": \"spline\", \"width\": 0.0}, \"marker\": {\"color\": \"rgb(0.9686274509803922, 0.984313725490196, 1.0)\"}, \"mode\": \"lines\", \"opacity\": 1, \"text\": \"grey-saruman\", \"type\": \"scatter\", \"x\": [-0.8090170464963663, -0.8090169272870791], \"y\": [0.5877851923277198, -0.5877853325970515]}, {\"hoverinfo\": \"text\", \"line\": {\"shape\": \"spline\", \"width\": 0.0}, \"marker\": {\"color\": \"rgb(0.9686274509803922, 0.984313725490196, 1.0)\"}, \"mode\": \"lines\", \"opacity\": 1, \"text\": \"grey-boromir\", \"type\": \"scatter\", \"x\": [-0.8090170464963663, -0.5877850537469236], \"y\": [0.5877851923277198, -0.8090170869279196]}, {\"hoverinfo\": \"text\", \"line\": {\"shape\": \"spline\", \"width\": 2.3241598233899414}, \"marker\": {\"color\": \"rgb(0.5545098039215688, 0.7564167627835449, 0.8683121876201461)\"}, \"mode\": \"lines\", \"opacity\": 1, \"text\": \"grey-strider\", \"type\": \"scatter\", \"x\": [-0.8090170464963663, -0.30901708593483795], \"y\": [0.5877851923277198, -0.9510564428063698]}, {\"hoverinfo\": \"text\", \"line\": {\"shape\": \"spline\", \"width\": 2.3241598233899414}, \"marker\": {\"color\": \"rgb(0.5545098039215688, 0.7564167627835449, 0.8683121876201461)\"}, \"mode\": \"lines\", \"opacity\": 1, \"text\": \"grey-mordor\", \"type\": \"scatter\", \"x\": [-0.8090170464963663, 1.2024089669798168e-08], \"y\": [0.5877851923277198, -0.9999999614554007]}, {\"hoverinfo\": \"text\", \"line\": {\"shape\": \"spline\", \"width\": 0.0}, \"marker\": {\"color\": \"rgb(0.9686274509803922, 0.984313725490196, 1.0)\"}, \"mode\": \"lines\", \"opacity\": 1, \"text\": \"grey-rohan\", \"type\": \"scatter\", \"x\": [-0.8090170464963663, 0.3090171159355783], \"y\": [0.5877851923277198, -0.9510564428063698]}, {\"hoverinfo\": \"text\", \"line\": {\"shape\": \"spline\", \"width\": 2.796596538497057}, \"marker\": {\"color\": \"rgb(0.42274509803921567, 0.684075355632449, 0.8398923490965013)\"}, \"mode\": \"lines\", \"opacity\": 1, \"text\": \"grey-elrond\", \"type\": \"scatter\", \"x\": [-0.8090170464963663, 0.5877850539453422], \"y\": [0.5877851923277198, -0.8090170869279196]}, {\"hoverinfo\": \"text\", \"line\": {\"shape\": \"spline\", \"width\": 0.0}, \"marker\": {\"color\": \"rgb(0.9686274509803922, 0.984313725490196, 1.0)\"}, \"mode\": \"lines\", \"opacity\": 1, \"text\": \"grey-treebeard\", \"type\": \"scatter\", \"x\": [-0.8090170464963663, 0.8090169274854976], \"y\": [0.5877851923277198, -0.5877852729924078]}, {\"hoverinfo\": \"text\", \"line\": {\"shape\": \"spline\", \"width\": 0.0}, \"marker\": {\"color\": \"rgb(0.9686274509803922, 0.984313725490196, 1.0)\"}, \"mode\": \"lines\", \"opacity\": 1, \"text\": \"grey-isengard\", \"type\": \"scatter\", \"x\": [-0.8090170464963663, 0.9510565217825223], \"y\": [0.5877851923277198, -0.3090169177501385]}, {\"hoverinfo\": \"text\", \"line\": {\"shape\": \"spline\", \"width\": 0.0}, \"marker\": {\"color\": \"rgb(0.9686274509803922, 0.984313725490196, 1.0)\"}, \"mode\": \"lines\", \"opacity\": 1, \"text\": \"bilbo-legolas\", \"type\": \"scatter\", \"x\": [-0.95105646197946, -0.999999980628491], \"y\": [0.30901704570170324, -6.8150475237538e-08]}, {\"hoverinfo\": \"text\", \"line\": {\"shape\": \"spline\", \"width\": 0.0}, \"marker\": {\"color\": \"rgb(0.9686274509803922, 0.984313725490196, 1.0)\"}, \"mode\": \"lines\", \"opacity\": 1, \"text\": \"bilbo-faramir\", \"type\": \"scatter\", \"x\": [-0.95105646197946, -0.9510565215841037], \"y\": [0.30901704570170324, -0.3090169475524603]}, {\"hoverinfo\": \"text\", \"line\": {\"shape\": \"spline\", \"width\": 0.0}, \"marker\": {\"color\": \"rgb(0.9686274509803922, 0.984313725490196, 1.0)\"}, \"mode\": \"lines\", \"opacity\": 1, \"text\": \"bilbo-saruman\", \"type\": \"scatter\", \"x\": [-0.95105646197946, -0.8090169272870791], \"y\": [0.30901704570170324, -0.5877853325970515]}, {\"hoverinfo\": \"text\", \"line\": {\"shape\": \"spline\", \"width\": 2.3241598233899414}, \"marker\": {\"color\": \"rgb(0.5545098039215688, 0.7564167627835449, 0.8683121876201461)\"}, \"mode\": \"lines\", \"opacity\": 1, \"text\": \"bilbo-boromir\", \"type\": \"scatter\", \"x\": [-0.95105646197946, -0.5877850537469236], \"y\": [0.30901704570170324, -0.8090170869279196]}, {\"hoverinfo\": \"text\", \"line\": {\"shape\": \"spline\", \"width\": 2.3241598233899414}, \"marker\": {\"color\": \"rgb(0.5545098039215688, 0.7564167627835449, 0.8683121876201461)\"}, \"mode\": \"lines\", \"opacity\": 1, \"text\": \"bilbo-strider\", \"type\": \"scatter\", \"x\": [-0.95105646197946, -0.30901708593483795], \"y\": [0.30901704570170324, -0.9510564428063698]}, {\"hoverinfo\": \"text\", \"line\": {\"shape\": \"spline\", \"width\": 0.0}, \"marker\": {\"color\": \"rgb(0.9686274509803922, 0.984313725490196, 1.0)\"}, \"mode\": \"lines\", \"opacity\": 1, \"text\": \"bilbo-mordor\", \"type\": \"scatter\", \"x\": [-0.95105646197946, 1.2024089669798168e-08], \"y\": [0.30901704570170324, -0.9999999614554007]}, {\"hoverinfo\": \"text\", \"line\": {\"shape\": \"spline\", \"width\": 0.0}, \"marker\": {\"color\": \"rgb(0.9686274509803922, 0.984313725490196, 1.0)\"}, \"mode\": \"lines\", \"opacity\": 1, \"text\": \"bilbo-rohan\", \"type\": \"scatter\", \"x\": [-0.95105646197946, 0.3090171159355783], \"y\": [0.30901704570170324, -0.9510564428063698]}, {\"hoverinfo\": \"text\", \"line\": {\"shape\": \"spline\", \"width\": 2.3241598233899414}, \"marker\": {\"color\": \"rgb(0.5545098039215688, 0.7564167627835449, 0.8683121876201461)\"}, \"mode\": \"lines\", \"opacity\": 1, \"text\": \"bilbo-elrond\", \"type\": \"scatter\", \"x\": [-0.95105646197946, 0.5877850539453422], \"y\": [0.30901704570170324, -0.8090170869279196]}, {\"hoverinfo\": \"text\", \"line\": {\"shape\": \"spline\", \"width\": 0.0}, \"marker\": {\"color\": \"rgb(0.9686274509803922, 0.984313725490196, 1.0)\"}, \"mode\": \"lines\", \"opacity\": 1, \"text\": \"bilbo-treebeard\", \"type\": \"scatter\", \"x\": [-0.95105646197946, 0.8090169274854976], \"y\": [0.30901704570170324, -0.5877852729924078]}, {\"hoverinfo\": \"text\", \"line\": {\"shape\": \"spline\", \"width\": 0.0}, \"marker\": {\"color\": \"rgb(0.9686274509803922, 0.984313725490196, 1.0)\"}, \"mode\": \"lines\", \"opacity\": 1, \"text\": \"bilbo-isengard\", \"type\": \"scatter\", \"x\": [-0.95105646197946, 0.9510565217825223], \"y\": [0.30901704570170324, -0.3090169177501385]}, {\"hoverinfo\": \"text\", \"line\": {\"shape\": \"spline\", \"width\": 0.0}, \"marker\": {\"color\": \"rgb(0.9686274509803922, 0.984313725490196, 1.0)\"}, \"mode\": \"lines\", \"opacity\": 1, \"text\": \"legolas-faramir\", \"type\": \"scatter\", \"x\": [-0.999999980628491, -0.9510565215841037], \"y\": [-6.8150475237538e-08, -0.3090169475524603]}, {\"hoverinfo\": \"text\", \"line\": {\"shape\": \"spline\", \"width\": 0.0}, \"marker\": {\"color\": \"rgb(0.9686274509803922, 0.984313725490196, 1.0)\"}, \"mode\": \"lines\", \"opacity\": 1, \"text\": \"legolas-saruman\", \"type\": \"scatter\", \"x\": [-0.999999980628491, -0.8090169272870791], \"y\": [-6.8150475237538e-08, -0.5877853325970515]}, {\"hoverinfo\": \"text\", \"line\": {\"shape\": \"spline\", \"width\": 3.4302269912950014}, \"marker\": {\"color\": \"rgb(0.2758477508650519, 0.5841753171856978, 0.783114186851211)\"}, \"mode\": \"lines\", \"opacity\": 1, \"text\": \"legolas-boromir\", \"type\": \"scatter\", \"x\": [-0.999999980628491, -0.5877850537469236], \"y\": [-6.8150475237538e-08, -0.8090170869279196]}, {\"hoverinfo\": \"text\", \"line\": {\"shape\": \"spline\", \"width\": 0.0}, \"marker\": {\"color\": \"rgb(0.9686274509803922, 0.984313725490196, 1.0)\"}, \"mode\": \"lines\", \"opacity\": 1, \"text\": \"legolas-strider\", \"type\": \"scatter\", \"x\": [-0.999999980628491, -0.30901708593483795], \"y\": [-6.8150475237538e-08, -0.9510564428063698]}, {\"hoverinfo\": \"text\", \"line\": {\"shape\": \"spline\", \"width\": 0.0}, \"marker\": {\"color\": \"rgb(0.9686274509803922, 0.984313725490196, 1.0)\"}, \"mode\": \"lines\", \"opacity\": 1, \"text\": \"legolas-mordor\", \"type\": \"scatter\", \"x\": [-0.999999980628491, 1.2024089669798168e-08], \"y\": [-6.8150475237538e-08, -0.9999999614554007]}, {\"hoverinfo\": \"text\", \"line\": {\"shape\": \"spline\", \"width\": 0.0}, \"marker\": {\"color\": \"rgb(0.9686274509803922, 0.984313725490196, 1.0)\"}, \"mode\": \"lines\", \"opacity\": 1, \"text\": \"legolas-rohan\", \"type\": \"scatter\", \"x\": [-0.999999980628491, 0.3090171159355783], \"y\": [-6.8150475237538e-08, -0.9510564428063698]}, {\"hoverinfo\": \"text\", \"line\": {\"shape\": \"spline\", \"width\": 0.0}, \"marker\": {\"color\": \"rgb(0.9686274509803922, 0.984313725490196, 1.0)\"}, \"mode\": \"lines\", \"opacity\": 1, \"text\": \"legolas-elrond\", \"type\": \"scatter\", \"x\": [-0.999999980628491, 0.5877850539453422], \"y\": [-6.8150475237538e-08, -0.8090170869279196]}, {\"hoverinfo\": \"text\", \"line\": {\"shape\": \"spline\", \"width\": 0.0}, \"marker\": {\"color\": \"rgb(0.9686274509803922, 0.984313725490196, 1.0)\"}, \"mode\": \"lines\", \"opacity\": 1, \"text\": \"legolas-treebeard\", \"type\": \"scatter\", \"x\": [-0.999999980628491, 0.8090169274854976], \"y\": [-6.8150475237538e-08, -0.5877852729924078]}, {\"hoverinfo\": \"text\", \"line\": {\"shape\": \"spline\", \"width\": 0.0}, \"marker\": {\"color\": \"rgb(0.9686274509803922, 0.984313725490196, 1.0)\"}, \"mode\": \"lines\", \"opacity\": 1, \"text\": \"legolas-isengard\", \"type\": \"scatter\", \"x\": [-0.999999980628491, 0.9510565217825223], \"y\": [-6.8150475237538e-08, -0.3090169177501385]}, {\"hoverinfo\": \"text\", \"line\": {\"shape\": \"spline\", \"width\": 0.0}, \"marker\": {\"color\": \"rgb(0.9686274509803922, 0.984313725490196, 1.0)\"}, \"mode\": \"lines\", \"opacity\": 1, \"text\": \"faramir-saruman\", \"type\": \"scatter\", \"x\": [-0.9510565215841037, -0.8090169272870791], \"y\": [-0.3090169475524603, -0.5877853325970515]}, {\"hoverinfo\": \"text\", \"line\": {\"shape\": \"spline\", \"width\": 0.0}, \"marker\": {\"color\": \"rgb(0.9686274509803922, 0.984313725490196, 1.0)\"}, \"mode\": \"lines\", \"opacity\": 1, \"text\": \"faramir-boromir\", \"type\": \"scatter\", \"x\": [-0.9510565215841037, -0.5877850537469236], \"y\": [-0.3090169475524603, -0.8090170869279196]}, {\"hoverinfo\": \"text\", \"line\": {\"shape\": \"spline\", \"width\": 0.0}, \"marker\": {\"color\": \"rgb(0.9686274509803922, 0.984313725490196, 1.0)\"}, \"mode\": \"lines\", \"opacity\": 1, \"text\": \"faramir-strider\", \"type\": \"scatter\", \"x\": [-0.9510565215841037, -0.30901708593483795], \"y\": [-0.3090169475524603, -0.9510564428063698]}, {\"hoverinfo\": \"text\", \"line\": {\"shape\": \"spline\", \"width\": 0.0}, \"marker\": {\"color\": \"rgb(0.9686274509803922, 0.984313725490196, 1.0)\"}, \"mode\": \"lines\", \"opacity\": 1, \"text\": \"faramir-mordor\", \"type\": \"scatter\", \"x\": [-0.9510565215841037, 1.2024089669798168e-08], \"y\": [-0.3090169475524603, -0.9999999614554007]}, {\"hoverinfo\": \"text\", \"line\": {\"shape\": \"spline\", \"width\": 0.0}, \"marker\": {\"color\": \"rgb(0.9686274509803922, 0.984313725490196, 1.0)\"}, \"mode\": \"lines\", \"opacity\": 1, \"text\": \"faramir-rohan\", \"type\": \"scatter\", \"x\": [-0.9510565215841037, 0.3090171159355783], \"y\": [-0.3090169475524603, -0.9510564428063698]}, {\"hoverinfo\": \"text\", \"line\": {\"shape\": \"spline\", \"width\": 0.0}, \"marker\": {\"color\": \"rgb(0.9686274509803922, 0.984313725490196, 1.0)\"}, \"mode\": \"lines\", \"opacity\": 1, \"text\": \"faramir-elrond\", \"type\": \"scatter\", \"x\": [-0.9510565215841037, 0.5877850539453422], \"y\": [-0.3090169475524603, -0.8090170869279196]}, {\"hoverinfo\": \"text\", \"line\": {\"shape\": \"spline\", \"width\": 0.0}, \"marker\": {\"color\": \"rgb(0.9686274509803922, 0.984313725490196, 1.0)\"}, \"mode\": \"lines\", \"opacity\": 1, \"text\": \"faramir-treebeard\", \"type\": \"scatter\", \"x\": [-0.9510565215841037, 0.8090169274854976], \"y\": [-0.3090169475524603, -0.5877852729924078]}, {\"hoverinfo\": \"text\", \"line\": {\"shape\": \"spline\", \"width\": 0.0}, \"marker\": {\"color\": \"rgb(0.9686274509803922, 0.984313725490196, 1.0)\"}, \"mode\": \"lines\", \"opacity\": 1, \"text\": \"faramir-isengard\", \"type\": \"scatter\", \"x\": [-0.9510565215841037, 0.9510565217825223], \"y\": [-0.3090169475524603, -0.3090169177501385]}, {\"hoverinfo\": \"text\", \"line\": {\"shape\": \"spline\", \"width\": 2.3241598233899414}, \"marker\": {\"color\": \"rgb(0.5545098039215688, 0.7564167627835449, 0.8683121876201461)\"}, \"mode\": \"lines\", \"opacity\": 1, \"text\": \"saruman-boromir\", \"type\": \"scatter\", \"x\": [-0.8090169272870791, -0.5877850537469236], \"y\": [-0.5877853325970515, -0.8090170869279196]}, {\"hoverinfo\": \"text\", \"line\": {\"shape\": \"spline\", \"width\": 0.0}, \"marker\": {\"color\": \"rgb(0.9686274509803922, 0.984313725490196, 1.0)\"}, \"mode\": \"lines\", \"opacity\": 1, \"text\": \"saruman-strider\", \"type\": \"scatter\", \"x\": [-0.8090169272870791, -0.30901708593483795], \"y\": [-0.5877853325970515, -0.9510564428063698]}, {\"hoverinfo\": \"text\", \"line\": {\"shape\": \"spline\", \"width\": 3.076114408270707}, \"marker\": {\"color\": \"rgb(0.3565551710880431, 0.6392925797770088, 0.8146097654748174)\"}, \"mode\": \"lines\", \"opacity\": 1, \"text\": \"saruman-mordor\", \"type\": \"scatter\", \"x\": [-0.8090169272870791, 1.2024089669798168e-08], \"y\": [-0.5877853325970515, -0.9999999614554007]}, {\"hoverinfo\": \"text\", \"line\": {\"shape\": \"spline\", \"width\": 2.3241598233899414}, \"marker\": {\"color\": \"rgb(0.5545098039215688, 0.7564167627835449, 0.8683121876201461)\"}, \"mode\": \"lines\", \"opacity\": 1, \"text\": \"saruman-rohan\", \"type\": \"scatter\", \"x\": [-0.8090169272870791, 0.3090171159355783], \"y\": [-0.5877853325970515, -0.9510564428063698]}, {\"hoverinfo\": \"text\", \"line\": {\"shape\": \"spline\", \"width\": 0.0}, \"marker\": {\"color\": \"rgb(0.9686274509803922, 0.984313725490196, 1.0)\"}, \"mode\": \"lines\", \"opacity\": 1, \"text\": \"saruman-elrond\", \"type\": \"scatter\", \"x\": [-0.8090169272870791, 0.5877850539453422], \"y\": [-0.5877853325970515, -0.8090170869279196]}, {\"hoverinfo\": \"text\", \"line\": {\"shape\": \"spline\", \"width\": 0.0}, \"marker\": {\"color\": \"rgb(0.9686274509803922, 0.984313725490196, 1.0)\"}, \"mode\": \"lines\", \"opacity\": 1, \"text\": \"saruman-treebeard\", \"type\": \"scatter\", \"x\": [-0.8090169272870791, 0.8090169274854976], \"y\": [-0.5877853325970515, -0.5877852729924078]}, {\"hoverinfo\": \"text\", \"line\": {\"shape\": \"spline\", \"width\": 2.3241598233899414}, \"marker\": {\"color\": \"rgb(0.5545098039215688, 0.7564167627835449, 0.8683121876201461)\"}, \"mode\": \"lines\", \"opacity\": 1, \"text\": \"saruman-isengard\", \"type\": \"scatter\", \"x\": [-0.8090169272870791, 0.9510565217825223], \"y\": [-0.5877853325970515, -0.3090169177501385]}, {\"hoverinfo\": \"text\", \"line\": {\"shape\": \"spline\", \"width\": 2.3241598233899414}, \"marker\": {\"color\": \"rgb(0.5545098039215688, 0.7564167627835449, 0.8683121876201461)\"}, \"mode\": \"lines\", \"opacity\": 1, \"text\": \"boromir-strider\", \"type\": \"scatter\", \"x\": [-0.5877850537469236, -0.30901708593483795], \"y\": [-0.8090170869279196, -0.9510564428063698]}, {\"hoverinfo\": \"text\", \"line\": {\"shape\": \"spline\", \"width\": 2.3241598233899414}, \"marker\": {\"color\": \"rgb(0.5545098039215688, 0.7564167627835449, 0.8683121876201461)\"}, \"mode\": \"lines\", \"opacity\": 1, \"text\": \"boromir-mordor\", \"type\": \"scatter\", \"x\": [-0.5877850537469236, 1.2024089669798168e-08], \"y\": [-0.8090170869279196, -0.9999999614554007]}, {\"hoverinfo\": \"text\", \"line\": {\"shape\": \"spline\", \"width\": 0.0}, \"marker\": {\"color\": \"rgb(0.9686274509803922, 0.984313725490196, 1.0)\"}, \"mode\": \"lines\", \"opacity\": 1, \"text\": \"boromir-rohan\", \"type\": \"scatter\", \"x\": [-0.5877850537469236, 0.3090171159355783], \"y\": [-0.8090170869279196, -0.9510564428063698]}, {\"hoverinfo\": \"text\", \"line\": {\"shape\": \"spline\", \"width\": 2.796596538497057}, \"marker\": {\"color\": \"rgb(0.42274509803921567, 0.684075355632449, 0.8398923490965013)\"}, \"mode\": \"lines\", \"opacity\": 1, \"text\": \"boromir-elrond\", \"type\": \"scatter\", \"x\": [-0.5877850537469236, 0.5877850539453422], \"y\": [-0.8090170869279196, -0.8090170869279196]}, {\"hoverinfo\": \"text\", \"line\": {\"shape\": \"spline\", \"width\": 0.0}, \"marker\": {\"color\": \"rgb(0.9686274509803922, 0.984313725490196, 1.0)\"}, \"mode\": \"lines\", \"opacity\": 1, \"text\": \"boromir-treebeard\", \"type\": \"scatter\", \"x\": [-0.5877850537469236, 0.8090169274854976], \"y\": [-0.8090170869279196, -0.5877852729924078]}, {\"hoverinfo\": \"text\", \"line\": {\"shape\": \"spline\", \"width\": 0.0}, \"marker\": {\"color\": \"rgb(0.9686274509803922, 0.984313725490196, 1.0)\"}, \"mode\": \"lines\", \"opacity\": 1, \"text\": \"boromir-isengard\", \"type\": \"scatter\", \"x\": [-0.5877850537469236, 0.9510565217825223], \"y\": [-0.8090170869279196, -0.3090169177501385]}, {\"hoverinfo\": \"text\", \"line\": {\"shape\": \"spline\", \"width\": 2.3241598233899414}, \"marker\": {\"color\": \"rgb(0.5545098039215688, 0.7564167627835449, 0.8683121876201461)\"}, \"mode\": \"lines\", \"opacity\": 1, \"text\": \"strider-mordor\", \"type\": \"scatter\", \"x\": [-0.30901708593483795, 1.2024089669798168e-08], \"y\": [-0.9510564428063698, -0.9999999614554007]}, {\"hoverinfo\": \"text\", \"line\": {\"shape\": \"spline\", \"width\": 0.0}, \"marker\": {\"color\": \"rgb(0.9686274509803922, 0.984313725490196, 1.0)\"}, \"mode\": \"lines\", \"opacity\": 1, \"text\": \"strider-rohan\", \"type\": \"scatter\", \"x\": [-0.30901708593483795, 0.3090171159355783], \"y\": [-0.9510564428063698, -0.9510564428063698]}, {\"hoverinfo\": \"text\", \"line\": {\"shape\": \"spline\", \"width\": 3.275328024188183}, \"marker\": {\"color\": \"rgb(0.31115724721261057, 0.6082891195693964, 0.7968935024990389)\"}, \"mode\": \"lines\", \"opacity\": 1, \"text\": \"strider-elrond\", \"type\": \"scatter\", \"x\": [-0.30901708593483795, 0.5877850539453422], \"y\": [-0.9510564428063698, -0.8090170869279196]}, {\"hoverinfo\": \"text\", \"line\": {\"shape\": \"spline\", \"width\": 0.0}, \"marker\": {\"color\": \"rgb(0.9686274509803922, 0.984313725490196, 1.0)\"}, \"mode\": \"lines\", \"opacity\": 1, \"text\": \"strider-treebeard\", \"type\": \"scatter\", \"x\": [-0.30901708593483795, 0.8090169274854976], \"y\": [-0.9510564428063698, -0.5877852729924078]}, {\"hoverinfo\": \"text\", \"line\": {\"shape\": \"spline\", \"width\": 0.0}, \"marker\": {\"color\": \"rgb(0.9686274509803922, 0.984313725490196, 1.0)\"}, \"mode\": \"lines\", \"opacity\": 1, \"text\": \"strider-isengard\", \"type\": \"scatter\", \"x\": [-0.30901708593483795, 0.9510565217825223], \"y\": [-0.9510564428063698, -0.3090169177501385]}, {\"hoverinfo\": \"text\", \"line\": {\"shape\": \"spline\", \"width\": 0.0}, \"marker\": {\"color\": \"rgb(0.9686274509803922, 0.984313725490196, 1.0)\"}, \"mode\": \"lines\", \"opacity\": 1, \"text\": \"mordor-rohan\", \"type\": \"scatter\", \"x\": [1.2024089669798168e-08, 0.3090171159355783], \"y\": [-0.9999999614554007, -0.9510564428063698]}, {\"hoverinfo\": \"text\", \"line\": {\"shape\": \"spline\", \"width\": 0.0}, \"marker\": {\"color\": \"rgb(0.9686274509803922, 0.984313725490196, 1.0)\"}, \"mode\": \"lines\", \"opacity\": 1, \"text\": \"mordor-elrond\", \"type\": \"scatter\", \"x\": [1.2024089669798168e-08, 0.5877850539453422], \"y\": [-0.9999999614554007, -0.8090170869279196]}, {\"hoverinfo\": \"text\", \"line\": {\"shape\": \"spline\", \"width\": 0.0}, \"marker\": {\"color\": \"rgb(0.9686274509803922, 0.984313725490196, 1.0)\"}, \"mode\": \"lines\", \"opacity\": 1, \"text\": \"mordor-treebeard\", \"type\": \"scatter\", \"x\": [1.2024089669798168e-08, 0.8090169274854976], \"y\": [-0.9999999614554007, -0.5877852729924078]}, {\"hoverinfo\": \"text\", \"line\": {\"shape\": \"spline\", \"width\": 0.0}, \"marker\": {\"color\": \"rgb(0.9686274509803922, 0.984313725490196, 1.0)\"}, \"mode\": \"lines\", \"opacity\": 1, \"text\": \"mordor-isengard\", \"type\": \"scatter\", \"x\": [1.2024089669798168e-08, 0.9510565217825223], \"y\": [-0.9999999614554007, -0.3090169177501385]}, {\"hoverinfo\": \"text\", \"line\": {\"shape\": \"spline\", \"width\": 0.0}, \"marker\": {\"color\": \"rgb(0.9686274509803922, 0.984313725490196, 1.0)\"}, \"mode\": \"lines\", \"opacity\": 1, \"text\": \"rohan-elrond\", \"type\": \"scatter\", \"x\": [0.3090171159355783, 0.5877850539453422], \"y\": [-0.9510564428063698, -0.8090170869279196]}, {\"hoverinfo\": \"text\", \"line\": {\"shape\": \"spline\", \"width\": 0.0}, \"marker\": {\"color\": \"rgb(0.9686274509803922, 0.984313725490196, 1.0)\"}, \"mode\": \"lines\", \"opacity\": 1, \"text\": \"rohan-treebeard\", \"type\": \"scatter\", \"x\": [0.3090171159355783, 0.8090169274854976], \"y\": [-0.9510564428063698, -0.5877852729924078]}, {\"hoverinfo\": \"text\", \"line\": {\"shape\": \"spline\", \"width\": 3.076114408270707}, \"marker\": {\"color\": \"rgb(0.3565551710880431, 0.6392925797770088, 0.8146097654748174)\"}, \"mode\": \"lines\", \"opacity\": 1, \"text\": \"rohan-isengard\", \"type\": \"scatter\", \"x\": [0.3090171159355783, 0.9510565217825223], \"y\": [-0.9510564428063698, -0.3090169177501385]}, {\"hoverinfo\": \"text\", \"line\": {\"shape\": \"spline\", \"width\": 0.0}, \"marker\": {\"color\": \"rgb(0.9686274509803922, 0.984313725490196, 1.0)\"}, \"mode\": \"lines\", \"opacity\": 1, \"text\": \"elrond-treebeard\", \"type\": \"scatter\", \"x\": [0.5877850539453422, 0.8090169274854976], \"y\": [-0.8090170869279196, -0.5877852729924078]}, {\"hoverinfo\": \"text\", \"line\": {\"shape\": \"spline\", \"width\": 0.0}, \"marker\": {\"color\": \"rgb(0.9686274509803922, 0.984313725490196, 1.0)\"}, \"mode\": \"lines\", \"opacity\": 1, \"text\": \"elrond-isengard\", \"type\": \"scatter\", \"x\": [0.5877850539453422, 0.9510565217825223], \"y\": [-0.8090170869279196, -0.3090169177501385]}, {\"hoverinfo\": \"text\", \"line\": {\"shape\": \"spline\", \"width\": 0.0}, \"marker\": {\"color\": \"rgb(0.9686274509803922, 0.984313725490196, 1.0)\"}, \"mode\": \"lines\", \"opacity\": 1, \"text\": \"treebeard-isengard\", \"type\": \"scatter\", \"x\": [0.8090169274854976, 0.9510565217825223], \"y\": [-0.5877852729924078, -0.3090169177501385]}, {\"hoverinfo\": \"text\", \"hovertext\": [\"Entity: frodo\", \"Entity: sam\", \"Entity: gandalf\", \"Entity: aragorn\", \"Entity: pippin\", \"Entity: merry\", \"Entity: gollum\", \"Entity: gimli\", \"Entity: grey\", \"Entity: bilbo\", \"Entity: legolas\", \"Entity: faramir\", \"Entity: saruman\", \"Entity: boromir\", \"Entity: strider\", \"Entity: mordor\", \"Entity: rohan\", \"Entity: elrond\", \"Entity: treebeard\", \"Entity: isengard\"], \"marker\": {\"color\": \"SkyBlue\", \"size\": [60.0, 48.325769210678104, 45.06663410788285, 36.11757348220637, 35.2287799260492, 32.88815286532223, 27.05471724512918, 26.581814338905883, 25.92622415903324, 25.750926515499266, 24.819428401357385, 23.196931577798452, 22.64360313552671, 22.32125781802544, 20.457770711545287, 20.32449391358817, 19.272109180098127, 18.208654760946004, 16.430298402229674, 16.03970915426452]}, \"mode\": \"markers+text\", \"text\": [\"frodo\", \"sam\", \"gandalf\", \"aragorn\", \"pippin\", \"merry\", \"gollum\", \"gimli\", \"grey\", \"bilbo\", \"legolas\", \"faramir\", \"saruman\", \"boromir\", \"strider\", \"mordor\", \"rohan\", \"elrond\", \"treebeard\", \"isengard\"], \"textposition\": \"bottom center\", \"type\": \"scatter\", \"x\": [0.9999999808269097, 0.9510565217825223, 0.8090169870901412, 0.5877852327592731, 0.30901696692396924, -4.3612178183203966e-08, -0.30901702633019434, -0.5877851729562108, -0.8090170464963663, -0.95105646197946, -0.999999980628491, -0.9510565215841037, -0.8090169272870791, -0.5877850537469236, -0.30901708593483795, 1.2024089669798168e-08, 0.3090171159355783, 0.5877850539453422, 0.8090169274854976, 0.9510565217825223], \"y\": [1.9272299651099908e-08, 0.30901701589938146, 0.5877852519323634, 0.8090170062632316, 0.9510565409556127, 1.0, 0.951056481350969, 0.8090170062632316, 0.5877851923277198, 0.30901704570170324, -6.8150475237538e-08, -0.3090169475524603, -0.5877853325970515, -0.8090170869279196, -0.9510564428063698, -0.9999999614554007, -0.9510564428063698, -0.8090170869279196, -0.5877852729924078, -0.3090169177501385]}],\n                        {\"height\": 600, \"margin\": {\"b\": 40, \"l\": 40, \"r\": 40, \"t\": 40}, \"showlegend\": true, \"template\": {\"data\": {\"bar\": [{\"error_x\": {\"color\": \"#2a3f5f\"}, \"error_y\": {\"color\": \"#2a3f5f\"}, \"marker\": {\"line\": {\"color\": \"#E5ECF6\", \"width\": 0.5}}, \"type\": \"bar\"}], \"barpolar\": [{\"marker\": {\"line\": {\"color\": \"#E5ECF6\", \"width\": 0.5}}, \"type\": \"barpolar\"}], \"carpet\": [{\"aaxis\": {\"endlinecolor\": \"#2a3f5f\", \"gridcolor\": \"white\", \"linecolor\": \"white\", \"minorgridcolor\": \"white\", \"startlinecolor\": \"#2a3f5f\"}, \"baxis\": {\"endlinecolor\": \"#2a3f5f\", \"gridcolor\": \"white\", \"linecolor\": \"white\", \"minorgridcolor\": \"white\", \"startlinecolor\": \"#2a3f5f\"}, \"type\": \"carpet\"}], \"choropleth\": [{\"colorbar\": {\"outlinewidth\": 0, \"ticks\": \"\"}, \"type\": \"choropleth\"}], \"contour\": [{\"colorbar\": {\"outlinewidth\": 0, \"ticks\": \"\"}, \"colorscale\": [[0.0, \"#0d0887\"], [0.1111111111111111, \"#46039f\"], [0.2222222222222222, \"#7201a8\"], [0.3333333333333333, \"#9c179e\"], [0.4444444444444444, \"#bd3786\"], [0.5555555555555556, \"#d8576b\"], [0.6666666666666666, \"#ed7953\"], [0.7777777777777778, \"#fb9f3a\"], [0.8888888888888888, \"#fdca26\"], [1.0, \"#f0f921\"]], \"type\": \"contour\"}], \"contourcarpet\": [{\"colorbar\": {\"outlinewidth\": 0, \"ticks\": \"\"}, \"type\": \"contourcarpet\"}], \"heatmap\": [{\"colorbar\": {\"outlinewidth\": 0, \"ticks\": \"\"}, \"colorscale\": [[0.0, \"#0d0887\"], [0.1111111111111111, \"#46039f\"], [0.2222222222222222, \"#7201a8\"], [0.3333333333333333, \"#9c179e\"], [0.4444444444444444, \"#bd3786\"], [0.5555555555555556, \"#d8576b\"], [0.6666666666666666, \"#ed7953\"], [0.7777777777777778, \"#fb9f3a\"], [0.8888888888888888, \"#fdca26\"], [1.0, \"#f0f921\"]], \"type\": \"heatmap\"}], \"heatmapgl\": [{\"colorbar\": {\"outlinewidth\": 0, \"ticks\": \"\"}, \"colorscale\": [[0.0, \"#0d0887\"], [0.1111111111111111, \"#46039f\"], [0.2222222222222222, \"#7201a8\"], [0.3333333333333333, \"#9c179e\"], [0.4444444444444444, \"#bd3786\"], [0.5555555555555556, \"#d8576b\"], [0.6666666666666666, \"#ed7953\"], [0.7777777777777778, \"#fb9f3a\"], [0.8888888888888888, \"#fdca26\"], [1.0, \"#f0f921\"]], \"type\": \"heatmapgl\"}], \"histogram\": [{\"marker\": {\"colorbar\": {\"outlinewidth\": 0, \"ticks\": \"\"}}, \"type\": \"histogram\"}], \"histogram2d\": [{\"colorbar\": {\"outlinewidth\": 0, \"ticks\": \"\"}, \"colorscale\": [[0.0, \"#0d0887\"], [0.1111111111111111, \"#46039f\"], [0.2222222222222222, \"#7201a8\"], [0.3333333333333333, \"#9c179e\"], [0.4444444444444444, \"#bd3786\"], [0.5555555555555556, \"#d8576b\"], [0.6666666666666666, \"#ed7953\"], [0.7777777777777778, \"#fb9f3a\"], [0.8888888888888888, \"#fdca26\"], [1.0, \"#f0f921\"]], \"type\": \"histogram2d\"}], \"histogram2dcontour\": [{\"colorbar\": {\"outlinewidth\": 0, \"ticks\": \"\"}, \"colorscale\": [[0.0, \"#0d0887\"], [0.1111111111111111, \"#46039f\"], [0.2222222222222222, \"#7201a8\"], [0.3333333333333333, \"#9c179e\"], [0.4444444444444444, \"#bd3786\"], [0.5555555555555556, \"#d8576b\"], [0.6666666666666666, \"#ed7953\"], [0.7777777777777778, \"#fb9f3a\"], [0.8888888888888888, \"#fdca26\"], [1.0, \"#f0f921\"]], \"type\": \"histogram2dcontour\"}], \"mesh3d\": [{\"colorbar\": {\"outlinewidth\": 0, \"ticks\": \"\"}, \"type\": \"mesh3d\"}], \"parcoords\": [{\"line\": {\"colorbar\": {\"outlinewidth\": 0, \"ticks\": \"\"}}, \"type\": \"parcoords\"}], \"pie\": [{\"automargin\": true, \"type\": \"pie\"}], \"scatter\": [{\"marker\": {\"colorbar\": {\"outlinewidth\": 0, \"ticks\": \"\"}}, \"type\": \"scatter\"}], \"scatter3d\": [{\"line\": {\"colorbar\": {\"outlinewidth\": 0, \"ticks\": \"\"}}, \"marker\": {\"colorbar\": {\"outlinewidth\": 0, \"ticks\": \"\"}}, \"type\": \"scatter3d\"}], \"scattercarpet\": [{\"marker\": {\"colorbar\": {\"outlinewidth\": 0, \"ticks\": \"\"}}, \"type\": \"scattercarpet\"}], \"scattergeo\": [{\"marker\": {\"colorbar\": {\"outlinewidth\": 0, \"ticks\": \"\"}}, \"type\": \"scattergeo\"}], \"scattergl\": [{\"marker\": {\"colorbar\": {\"outlinewidth\": 0, \"ticks\": \"\"}}, \"type\": \"scattergl\"}], \"scattermapbox\": [{\"marker\": {\"colorbar\": {\"outlinewidth\": 0, \"ticks\": \"\"}}, \"type\": \"scattermapbox\"}], \"scatterpolar\": [{\"marker\": {\"colorbar\": {\"outlinewidth\": 0, \"ticks\": \"\"}}, \"type\": \"scatterpolar\"}], \"scatterpolargl\": [{\"marker\": {\"colorbar\": {\"outlinewidth\": 0, \"ticks\": \"\"}}, \"type\": \"scatterpolargl\"}], \"scatterternary\": [{\"marker\": {\"colorbar\": {\"outlinewidth\": 0, \"ticks\": \"\"}}, \"type\": \"scatterternary\"}], \"surface\": [{\"colorbar\": {\"outlinewidth\": 0, \"ticks\": \"\"}, \"colorscale\": [[0.0, \"#0d0887\"], [0.1111111111111111, \"#46039f\"], [0.2222222222222222, \"#7201a8\"], [0.3333333333333333, \"#9c179e\"], [0.4444444444444444, \"#bd3786\"], [0.5555555555555556, \"#d8576b\"], [0.6666666666666666, \"#ed7953\"], [0.7777777777777778, \"#fb9f3a\"], [0.8888888888888888, \"#fdca26\"], [1.0, \"#f0f921\"]], \"type\": \"surface\"}], \"table\": [{\"cells\": {\"fill\": {\"color\": \"#EBF0F8\"}, \"line\": {\"color\": \"white\"}}, \"header\": {\"fill\": {\"color\": \"#C8D4E3\"}, \"line\": {\"color\": \"white\"}}, \"type\": \"table\"}]}, \"layout\": {\"annotationdefaults\": {\"arrowcolor\": \"#2a3f5f\", \"arrowhead\": 0, \"arrowwidth\": 1}, \"coloraxis\": {\"colorbar\": {\"outlinewidth\": 0, \"ticks\": \"\"}}, \"colorscale\": {\"diverging\": [[0, \"#8e0152\"], [0.1, \"#c51b7d\"], [0.2, \"#de77ae\"], [0.3, \"#f1b6da\"], [0.4, \"#fde0ef\"], [0.5, \"#f7f7f7\"], [0.6, \"#e6f5d0\"], [0.7, \"#b8e186\"], [0.8, \"#7fbc41\"], [0.9, \"#4d9221\"], [1, \"#276419\"]], \"sequential\": [[0.0, \"#0d0887\"], [0.1111111111111111, \"#46039f\"], [0.2222222222222222, \"#7201a8\"], [0.3333333333333333, \"#9c179e\"], [0.4444444444444444, \"#bd3786\"], [0.5555555555555556, \"#d8576b\"], [0.6666666666666666, \"#ed7953\"], [0.7777777777777778, \"#fb9f3a\"], [0.8888888888888888, \"#fdca26\"], [1.0, \"#f0f921\"]], \"sequentialminus\": [[0.0, \"#0d0887\"], [0.1111111111111111, \"#46039f\"], [0.2222222222222222, \"#7201a8\"], [0.3333333333333333, \"#9c179e\"], [0.4444444444444444, \"#bd3786\"], [0.5555555555555556, \"#d8576b\"], [0.6666666666666666, \"#ed7953\"], [0.7777777777777778, \"#fb9f3a\"], [0.8888888888888888, \"#fdca26\"], [1.0, \"#f0f921\"]]}, \"colorway\": [\"#636efa\", \"#EF553B\", \"#00cc96\", \"#ab63fa\", \"#FFA15A\", \"#19d3f3\", \"#FF6692\", \"#B6E880\", \"#FF97FF\", \"#FECB52\"], \"font\": {\"color\": \"#2a3f5f\"}, \"geo\": {\"bgcolor\": \"white\", \"lakecolor\": \"white\", \"landcolor\": \"#E5ECF6\", \"showlakes\": true, \"showland\": true, \"subunitcolor\": \"white\"}, \"hoverlabel\": {\"align\": \"left\"}, \"hovermode\": \"closest\", \"mapbox\": {\"style\": \"light\"}, \"paper_bgcolor\": \"white\", \"plot_bgcolor\": \"#E5ECF6\", \"polar\": {\"angularaxis\": {\"gridcolor\": \"white\", \"linecolor\": \"white\", \"ticks\": \"\"}, \"bgcolor\": \"#E5ECF6\", \"radialaxis\": {\"gridcolor\": \"white\", \"linecolor\": \"white\", \"ticks\": \"\"}}, \"scene\": {\"xaxis\": {\"backgroundcolor\": \"#E5ECF6\", \"gridcolor\": \"white\", \"gridwidth\": 2, \"linecolor\": \"white\", \"showbackground\": true, \"ticks\": \"\", \"zerolinecolor\": \"white\"}, \"yaxis\": {\"backgroundcolor\": \"#E5ECF6\", \"gridcolor\": \"white\", \"gridwidth\": 2, \"linecolor\": \"white\", \"showbackground\": true, \"ticks\": \"\", \"zerolinecolor\": \"white\"}, \"zaxis\": {\"backgroundcolor\": \"#E5ECF6\", \"gridcolor\": \"white\", \"gridwidth\": 2, \"linecolor\": \"white\", \"showbackground\": true, \"ticks\": \"\", \"zerolinecolor\": \"white\"}}, \"shapedefaults\": {\"line\": {\"color\": \"#2a3f5f\"}}, \"ternary\": {\"aaxis\": {\"gridcolor\": \"white\", \"linecolor\": \"white\", \"ticks\": \"\"}, \"baxis\": {\"gridcolor\": \"white\", \"linecolor\": \"white\", \"ticks\": \"\"}, \"bgcolor\": \"#E5ECF6\", \"caxis\": {\"gridcolor\": \"white\", \"linecolor\": \"white\", \"ticks\": \"\"}}, \"title\": {\"x\": 0.05}, \"xaxis\": {\"automargin\": true, \"gridcolor\": \"white\", \"linecolor\": \"white\", \"ticks\": \"\", \"title\": {\"standoff\": 15}, \"zerolinecolor\": \"white\", \"zerolinewidth\": 2}, \"yaxis\": {\"automargin\": true, \"gridcolor\": \"white\", \"linecolor\": \"white\", \"ticks\": \"\", \"title\": {\"standoff\": 15}, \"zerolinecolor\": \"white\", \"zerolinewidth\": 2}}}, \"title\": {\"text\": \"LoR Grafo de Co-ocorr\\u00eancia - Livro 1\"}, \"xaxis\": {\"showgrid\": false, \"showticklabels\": false, \"zeroline\": false}, \"yaxis\": {\"showgrid\": false, \"showticklabels\": false, \"zeroline\": false}},\n                        {\"responsive\": true}\n                    ).then(function(){\n                            \nvar gd = document.getElementById('5bef124d-c73b-4aba-a7e8-b85289d0a384');\nvar x = new MutationObserver(function (mutations, observer) {{\n        var display = window.getComputedStyle(gd).display;\n        if (!display || display === 'none') {{\n            console.log([gd, 'removed!']);\n            Plotly.purge(gd);\n            observer.disconnect();\n        }}\n}});\n\n// Listen for the removal of the full notebook cells\nvar notebookContainer = gd.closest('#notebook-container');\nif (notebookContainer) {{\n    x.observe(notebookContainer, {childList: true});\n}}\n\n// Listen for the clearing of the current output cell\nvar outputEl = gd.closest('.output');\nif (outputEl) {{\n    x.observe(outputEl, {childList: true});\n}}\n\n                        })\n                };\n                \n            </script>\n        </div>\n</body>\n</html>"
       }
      ]
     }
    },
    "eadd59ba9f71451f89927dfbc6592383": {
     "model_module": "@jupyter-widgets/controls",
     "model_name": "ProgressStyleModel",
     "state": {
      "_model_module": "@jupyter-widgets/controls",
      "_model_module_version": "1.5.0",
      "_model_name": "ProgressStyleModel",
      "_view_count": null,
      "_view_module": "@jupyter-widgets/base",
      "_view_module_version": "1.2.0",
      "_view_name": "StyleView",
      "bar_color": null,
      "description_width": ""
     }
    }
   }
  }
 },
 "nbformat": 4,
 "nbformat_minor": 4
}
